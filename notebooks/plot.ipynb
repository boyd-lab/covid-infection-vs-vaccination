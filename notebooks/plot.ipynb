{
 "cells": [
  {
   "cell_type": "markdown",
   "metadata": {},
   "source": [
    "# PCA timepoints independently, and PCA timepoints against a common reference timepoint"
   ]
  },
  {
   "cell_type": "code",
   "execution_count": null,
   "metadata": {},
   "outputs": [],
   "source": []
  },
  {
   "cell_type": "code",
   "execution_count": 1,
   "metadata": {
    "execution": {
     "iopub.execute_input": "2022-01-15T22:13:31.558681Z",
     "iopub.status.busy": "2022-01-15T22:13:31.556917Z",
     "iopub.status.idle": "2022-01-15T22:13:36.961629Z",
     "shell.execute_reply": "2022-01-15T22:13:36.962968Z"
    }
   },
   "outputs": [],
   "source": [
    "import numpy as np\n",
    "import matplotlib.pyplot as plt\n",
    "\n",
    "%matplotlib inline\n",
    "import pandas as pd\n",
    "import seaborn as sns\n",
    "import scanpy as sc\n",
    "import genetools\n",
    "from genetools.palette import HueValueStyle\n",
    "from slugify import slugify\n",
    "from covid_serology import config\n",
    "from covid_serology.main import (\n",
    "    transform_and_plot_pcas_multiple_timepoints_against_common_reference,\n",
    ")\n",
    "from covid_serology.pca import (\n",
    "    pca_one_timepoint_against_reference,\n",
    "    cleanup_adata,\n",
    ")\n",
    "from covid_serology.plots import plot_pca_one_hue_one_timepoint\n",
    "from covid_serology.helpers import palette_dict"
   ]
  },
  {
   "cell_type": "code",
   "execution_count": 2,
   "metadata": {
    "execution": {
     "iopub.execute_input": "2022-01-15T22:13:36.974743Z",
     "iopub.status.busy": "2022-01-15T22:13:36.973211Z",
     "iopub.status.idle": "2022-01-15T22:13:36.976879Z",
     "shell.execute_reply": "2022-01-15T22:13:36.978366Z"
    },
    "lines_to_next_cell": 2
   },
   "outputs": [],
   "source": [
    "# Set fonts\n",
    "from matplotlib import rc\n",
    "\n",
    "rc(\"font\", **{\"family\": \"sans-serif\", \"sans-serif\": [\"Helvetica\"], \"size\": 12})"
   ]
  },
  {
   "cell_type": "code",
   "execution_count": 3,
   "metadata": {
    "execution": {
     "iopub.execute_input": "2022-01-15T22:13:36.988229Z",
     "iopub.status.busy": "2022-01-15T22:13:36.986679Z",
     "iopub.status.idle": "2022-01-15T22:13:36.990283Z",
     "shell.execute_reply": "2022-01-15T22:13:36.991781Z"
    }
   },
   "outputs": [],
   "source": [
    "# # view the params with:\n",
    "# sns.plotting_context(\"paper\",font_scale=1.25)\n",
    "\n",
    "sns.set_context(\"paper\", font_scale=1.25)"
   ]
  },
  {
   "cell_type": "code",
   "execution_count": 4,
   "metadata": {
    "execution": {
     "iopub.execute_input": "2022-01-15T22:13:37.001597Z",
     "iopub.status.busy": "2022-01-15T22:13:37.000114Z",
     "iopub.status.idle": "2022-01-15T22:13:37.003718Z",
     "shell.execute_reply": "2022-01-15T22:13:37.005198Z"
    }
   },
   "outputs": [],
   "source": [
    "sc.settings.verbosity = 3"
   ]
  },
  {
   "cell_type": "code",
   "execution_count": null,
   "metadata": {},
   "outputs": [],
   "source": []
  },
  {
   "cell_type": "code",
   "execution_count": null,
   "metadata": {},
   "outputs": [],
   "source": []
  },
  {
   "cell_type": "markdown",
   "metadata": {},
   "source": [
    "## Load datasets\n",
    "Timepoints are concatenated horizontally. Use \"timepoint\" annotation in adata.var to separate out.\n",
    "\n",
    "Rows are subjects. Columns are measurements defined as `(virus, target, variant_plate_type, antibody, timepoint)` tuples. Given a measurement at a timepoint: the same measurement at a different timepoint will be stored in a different column."
   ]
  },
  {
   "cell_type": "code",
   "execution_count": null,
   "metadata": {},
   "outputs": [],
   "source": []
  },
  {
   "cell_type": "code",
   "execution_count": null,
   "metadata": {},
   "outputs": [],
   "source": []
  },
  {
   "cell_type": "code",
   "execution_count": 5,
   "metadata": {
    "execution": {
     "iopub.execute_input": "2022-01-15T22:13:37.014617Z",
     "iopub.status.busy": "2022-01-15T22:13:37.013378Z",
     "iopub.status.idle": "2022-01-15T22:13:37.068944Z",
     "shell.execute_reply": "2022-01-15T22:13:37.070442Z"
    }
   },
   "outputs": [
    {
     "data": {
      "text/plain": [
       "AnnData object with n_obs × n_vars = 401 × 284\n",
       "    obs: 'Timepoint', 'First_dose_vaccine', 'Second_dose_vaccine', 'Status', 'source_cohort', 'Death', 'Variant', 'Vaccine', 'COVID Positive Ever?', 'Exposure', 'Exposure Type', 'cutoff_column_to_check', 'any_p11_cutoffs_violated', 'any_p11_cutoffs_violated:boostD1/2', 'any_p11_cutoffs_violated:boostD21', 'any_p11_cutoffs_violated:boostD7/8', 'any_p11_cutoffs_violated:day 0 / pre-pandemic', 'any_p11_cutoffs_violated:day 21 / weeks 2&3', 'any_p11_cutoffs_violated:day 210 / 7 months', 'any_p11_cutoffs_violated:day 28 / week 4', 'any_p11_cutoffs_violated:week 7 and later / 3 months'\n",
       "    var: 'virus', 'target', 'variant_plate_type', 'antibody', 'timepoint', 'combined_name'"
      ]
     },
     "execution_count": 1,
     "metadata": {},
     "output_type": "execute_result"
    }
   ],
   "source": [
    "adata_all = sc.read(f\"{config.paths.generated_data_dir}/combined_data.h5\")\n",
    "adata_all"
   ]
  },
  {
   "cell_type": "code",
   "execution_count": 6,
   "metadata": {
    "execution": {
     "iopub.execute_input": "2022-01-15T22:13:37.150839Z",
     "iopub.status.busy": "2022-01-15T22:13:37.077227Z",
     "iopub.status.idle": "2022-01-15T22:13:37.227529Z",
     "shell.execute_reply": "2022-01-15T22:13:37.229025Z"
    }
   },
   "outputs": [
    {
     "data": {
      "text/html": [
       "<div>\n",
       "<style scoped>\n",
       "    .dataframe tbody tr th:only-of-type {\n",
       "        vertical-align: middle;\n",
       "    }\n",
       "\n",
       "    .dataframe tbody tr th {\n",
       "        vertical-align: top;\n",
       "    }\n",
       "\n",
       "    .dataframe thead th {\n",
       "        text-align: right;\n",
       "    }\n",
       "</style>\n",
       "<table border=\"1\" class=\"dataframe\">\n",
       "  <thead>\n",
       "    <tr style=\"text-align: right;\">\n",
       "      <th></th>\n",
       "      <th>Timepoint</th>\n",
       "      <th>First_dose_vaccine</th>\n",
       "      <th>Second_dose_vaccine</th>\n",
       "      <th>Status</th>\n",
       "      <th>source_cohort</th>\n",
       "      <th>Death</th>\n",
       "      <th>Variant</th>\n",
       "      <th>Vaccine</th>\n",
       "      <th>COVID Positive Ever?</th>\n",
       "      <th>Exposure</th>\n",
       "      <th>...</th>\n",
       "      <th>cutoff_column_to_check</th>\n",
       "      <th>any_p11_cutoffs_violated</th>\n",
       "      <th>any_p11_cutoffs_violated:boostD1/2</th>\n",
       "      <th>any_p11_cutoffs_violated:boostD21</th>\n",
       "      <th>any_p11_cutoffs_violated:boostD7/8</th>\n",
       "      <th>any_p11_cutoffs_violated:day 0 / pre-pandemic</th>\n",
       "      <th>any_p11_cutoffs_violated:day 21 / weeks 2&amp;3</th>\n",
       "      <th>any_p11_cutoffs_violated:day 210 / 7 months</th>\n",
       "      <th>any_p11_cutoffs_violated:day 28 / week 4</th>\n",
       "      <th>any_p11_cutoffs_violated:week 7 and later / 3 months</th>\n",
       "    </tr>\n",
       "  </thead>\n",
       "  <tbody>\n",
       "    <tr>\n",
       "      <th>mong0153</th>\n",
       "      <td>75.0</td>\n",
       "      <td>Sputnik V</td>\n",
       "      <td>Sputnik V</td>\n",
       "      <td>Sputnik V-Sputnik V</td>\n",
       "      <td>Mongolia_vaccine_variant_plate</td>\n",
       "      <td>NaN</td>\n",
       "      <td>NaN</td>\n",
       "      <td>NaN</td>\n",
       "      <td>NaN</td>\n",
       "      <td>Sputnik V-Sputnik V</td>\n",
       "      <td>...</td>\n",
       "      <td>Wuhan</td>\n",
       "      <td>False</td>\n",
       "      <td>False</td>\n",
       "      <td>False</td>\n",
       "      <td>False</td>\n",
       "      <td>False</td>\n",
       "      <td>False</td>\n",
       "      <td>False</td>\n",
       "      <td>False</td>\n",
       "      <td>False</td>\n",
       "    </tr>\n",
       "    <tr>\n",
       "      <th>mong0156</th>\n",
       "      <td>70.0</td>\n",
       "      <td>Sinopharm</td>\n",
       "      <td>Sinopharm</td>\n",
       "      <td>Sinopharm-Sinopharm</td>\n",
       "      <td>Mongolia_vaccine_variant_plate</td>\n",
       "      <td>NaN</td>\n",
       "      <td>NaN</td>\n",
       "      <td>NaN</td>\n",
       "      <td>NaN</td>\n",
       "      <td>Sinopharm-Sinopharm</td>\n",
       "      <td>...</td>\n",
       "      <td>Wuhan</td>\n",
       "      <td>True</td>\n",
       "      <td>False</td>\n",
       "      <td>False</td>\n",
       "      <td>False</td>\n",
       "      <td>False</td>\n",
       "      <td>False</td>\n",
       "      <td>False</td>\n",
       "      <td>False</td>\n",
       "      <td>True</td>\n",
       "    </tr>\n",
       "    <tr>\n",
       "      <th>mong0184</th>\n",
       "      <td>65.0</td>\n",
       "      <td>Sinopharm</td>\n",
       "      <td>Sinopharm</td>\n",
       "      <td>Sinopharm-Sinopharm</td>\n",
       "      <td>Mongolia_vaccine_variant_plate</td>\n",
       "      <td>NaN</td>\n",
       "      <td>NaN</td>\n",
       "      <td>NaN</td>\n",
       "      <td>NaN</td>\n",
       "      <td>Sinopharm-Sinopharm</td>\n",
       "      <td>...</td>\n",
       "      <td>Wuhan</td>\n",
       "      <td>True</td>\n",
       "      <td>False</td>\n",
       "      <td>False</td>\n",
       "      <td>False</td>\n",
       "      <td>False</td>\n",
       "      <td>False</td>\n",
       "      <td>False</td>\n",
       "      <td>False</td>\n",
       "      <td>True</td>\n",
       "    </tr>\n",
       "    <tr>\n",
       "      <th>mong0185</th>\n",
       "      <td>63.0</td>\n",
       "      <td>Sinopharm</td>\n",
       "      <td>Sinopharm</td>\n",
       "      <td>Sinopharm-Sinopharm</td>\n",
       "      <td>Mongolia_vaccine_variant_plate</td>\n",
       "      <td>NaN</td>\n",
       "      <td>NaN</td>\n",
       "      <td>NaN</td>\n",
       "      <td>NaN</td>\n",
       "      <td>Sinopharm-Sinopharm</td>\n",
       "      <td>...</td>\n",
       "      <td>Wuhan</td>\n",
       "      <td>True</td>\n",
       "      <td>False</td>\n",
       "      <td>False</td>\n",
       "      <td>False</td>\n",
       "      <td>False</td>\n",
       "      <td>False</td>\n",
       "      <td>False</td>\n",
       "      <td>False</td>\n",
       "      <td>True</td>\n",
       "    </tr>\n",
       "    <tr>\n",
       "      <th>mong0190</th>\n",
       "      <td>69.0</td>\n",
       "      <td>Sinopharm</td>\n",
       "      <td>Sinopharm</td>\n",
       "      <td>Sinopharm-Sinopharm</td>\n",
       "      <td>Mongolia_vaccine_variant_plate</td>\n",
       "      <td>NaN</td>\n",
       "      <td>NaN</td>\n",
       "      <td>NaN</td>\n",
       "      <td>NaN</td>\n",
       "      <td>Sinopharm-Sinopharm</td>\n",
       "      <td>...</td>\n",
       "      <td>Wuhan</td>\n",
       "      <td>False</td>\n",
       "      <td>False</td>\n",
       "      <td>False</td>\n",
       "      <td>False</td>\n",
       "      <td>False</td>\n",
       "      <td>False</td>\n",
       "      <td>False</td>\n",
       "      <td>False</td>\n",
       "      <td>False</td>\n",
       "    </tr>\n",
       "    <tr>\n",
       "      <th>...</th>\n",
       "      <td>...</td>\n",
       "      <td>...</td>\n",
       "      <td>...</td>\n",
       "      <td>...</td>\n",
       "      <td>...</td>\n",
       "      <td>...</td>\n",
       "      <td>...</td>\n",
       "      <td>...</td>\n",
       "      <td>...</td>\n",
       "      <td>...</td>\n",
       "      <td>...</td>\n",
       "      <td>...</td>\n",
       "      <td>...</td>\n",
       "      <td>...</td>\n",
       "      <td>...</td>\n",
       "      <td>...</td>\n",
       "      <td>...</td>\n",
       "      <td>...</td>\n",
       "      <td>...</td>\n",
       "      <td>...</td>\n",
       "      <td>...</td>\n",
       "    </tr>\n",
       "    <tr>\n",
       "      <th>cohort2-0095</th>\n",
       "      <td>NaN</td>\n",
       "      <td>NaN</td>\n",
       "      <td>NaN</td>\n",
       "      <td>Mild</td>\n",
       "      <td>infection_cohort2_all</td>\n",
       "      <td>NaN</td>\n",
       "      <td>NaN</td>\n",
       "      <td>NaN</td>\n",
       "      <td>NaN</td>\n",
       "      <td>Wuhan Infection - Mild</td>\n",
       "      <td>...</td>\n",
       "      <td>Wuhan</td>\n",
       "      <td>False</td>\n",
       "      <td>False</td>\n",
       "      <td>False</td>\n",
       "      <td>False</td>\n",
       "      <td>False</td>\n",
       "      <td>False</td>\n",
       "      <td>False</td>\n",
       "      <td>False</td>\n",
       "      <td>False</td>\n",
       "    </tr>\n",
       "    <tr>\n",
       "      <th>cohort2-0098</th>\n",
       "      <td>NaN</td>\n",
       "      <td>NaN</td>\n",
       "      <td>NaN</td>\n",
       "      <td>Mild</td>\n",
       "      <td>infection_cohort2_all</td>\n",
       "      <td>NaN</td>\n",
       "      <td>NaN</td>\n",
       "      <td>NaN</td>\n",
       "      <td>NaN</td>\n",
       "      <td>Wuhan Infection - Mild</td>\n",
       "      <td>...</td>\n",
       "      <td>Wuhan</td>\n",
       "      <td>False</td>\n",
       "      <td>False</td>\n",
       "      <td>False</td>\n",
       "      <td>False</td>\n",
       "      <td>False</td>\n",
       "      <td>False</td>\n",
       "      <td>False</td>\n",
       "      <td>False</td>\n",
       "      <td>False</td>\n",
       "    </tr>\n",
       "    <tr>\n",
       "      <th>cohort2-0101</th>\n",
       "      <td>NaN</td>\n",
       "      <td>NaN</td>\n",
       "      <td>NaN</td>\n",
       "      <td>Critical</td>\n",
       "      <td>infection_cohort2_all</td>\n",
       "      <td>NaN</td>\n",
       "      <td>NaN</td>\n",
       "      <td>NaN</td>\n",
       "      <td>NaN</td>\n",
       "      <td>Wuhan Infection - Severe</td>\n",
       "      <td>...</td>\n",
       "      <td>Wuhan</td>\n",
       "      <td>False</td>\n",
       "      <td>False</td>\n",
       "      <td>False</td>\n",
       "      <td>False</td>\n",
       "      <td>False</td>\n",
       "      <td>False</td>\n",
       "      <td>False</td>\n",
       "      <td>False</td>\n",
       "      <td>False</td>\n",
       "    </tr>\n",
       "    <tr>\n",
       "      <th>cohort2-0198</th>\n",
       "      <td>NaN</td>\n",
       "      <td>NaN</td>\n",
       "      <td>NaN</td>\n",
       "      <td>Mild</td>\n",
       "      <td>infection_cohort2_all</td>\n",
       "      <td>NaN</td>\n",
       "      <td>NaN</td>\n",
       "      <td>NaN</td>\n",
       "      <td>NaN</td>\n",
       "      <td>Wuhan Infection - Mild</td>\n",
       "      <td>...</td>\n",
       "      <td>Wuhan</td>\n",
       "      <td>False</td>\n",
       "      <td>False</td>\n",
       "      <td>False</td>\n",
       "      <td>False</td>\n",
       "      <td>False</td>\n",
       "      <td>False</td>\n",
       "      <td>False</td>\n",
       "      <td>False</td>\n",
       "      <td>False</td>\n",
       "    </tr>\n",
       "    <tr>\n",
       "      <th>cohort2-0210</th>\n",
       "      <td>NaN</td>\n",
       "      <td>NaN</td>\n",
       "      <td>NaN</td>\n",
       "      <td>Mild</td>\n",
       "      <td>infection_cohort2_all</td>\n",
       "      <td>NaN</td>\n",
       "      <td>NaN</td>\n",
       "      <td>NaN</td>\n",
       "      <td>NaN</td>\n",
       "      <td>Wuhan Infection - Mild</td>\n",
       "      <td>...</td>\n",
       "      <td>Wuhan</td>\n",
       "      <td>True</td>\n",
       "      <td>False</td>\n",
       "      <td>False</td>\n",
       "      <td>False</td>\n",
       "      <td>False</td>\n",
       "      <td>True</td>\n",
       "      <td>False</td>\n",
       "      <td>False</td>\n",
       "      <td>False</td>\n",
       "    </tr>\n",
       "  </tbody>\n",
       "</table>\n",
       "<p>401 rows × 21 columns</p>\n",
       "</div>"
      ],
      "text/plain": [
       "              Timepoint First_dose_vaccine Second_dose_vaccine  \\\n",
       "mong0153           75.0          Sputnik V           Sputnik V   \n",
       "mong0156           70.0          Sinopharm           Sinopharm   \n",
       "mong0184           65.0          Sinopharm           Sinopharm   \n",
       "mong0185           63.0          Sinopharm           Sinopharm   \n",
       "mong0190           69.0          Sinopharm           Sinopharm   \n",
       "...                 ...                ...                 ...   \n",
       "cohort2-0095        NaN                NaN                 NaN   \n",
       "cohort2-0098        NaN                NaN                 NaN   \n",
       "cohort2-0101        NaN                NaN                 NaN   \n",
       "cohort2-0198        NaN                NaN                 NaN   \n",
       "cohort2-0210        NaN                NaN                 NaN   \n",
       "\n",
       "                           Status                   source_cohort  Death  \\\n",
       "mong0153      Sputnik V-Sputnik V  Mongolia_vaccine_variant_plate    NaN   \n",
       "mong0156      Sinopharm-Sinopharm  Mongolia_vaccine_variant_plate    NaN   \n",
       "mong0184      Sinopharm-Sinopharm  Mongolia_vaccine_variant_plate    NaN   \n",
       "mong0185      Sinopharm-Sinopharm  Mongolia_vaccine_variant_plate    NaN   \n",
       "mong0190      Sinopharm-Sinopharm  Mongolia_vaccine_variant_plate    NaN   \n",
       "...                           ...                             ...    ...   \n",
       "cohort2-0095                 Mild           infection_cohort2_all    NaN   \n",
       "cohort2-0098                 Mild           infection_cohort2_all    NaN   \n",
       "cohort2-0101             Critical           infection_cohort2_all    NaN   \n",
       "cohort2-0198                 Mild           infection_cohort2_all    NaN   \n",
       "cohort2-0210                 Mild           infection_cohort2_all    NaN   \n",
       "\n",
       "             Variant Vaccine COVID Positive Ever?                  Exposure  \\\n",
       "mong0153         NaN     NaN                  NaN       Sputnik V-Sputnik V   \n",
       "mong0156         NaN     NaN                  NaN       Sinopharm-Sinopharm   \n",
       "mong0184         NaN     NaN                  NaN       Sinopharm-Sinopharm   \n",
       "mong0185         NaN     NaN                  NaN       Sinopharm-Sinopharm   \n",
       "mong0190         NaN     NaN                  NaN       Sinopharm-Sinopharm   \n",
       "...              ...     ...                  ...                       ...   \n",
       "cohort2-0095     NaN     NaN                  NaN    Wuhan Infection - Mild   \n",
       "cohort2-0098     NaN     NaN                  NaN    Wuhan Infection - Mild   \n",
       "cohort2-0101     NaN     NaN                  NaN  Wuhan Infection - Severe   \n",
       "cohort2-0198     NaN     NaN                  NaN    Wuhan Infection - Mild   \n",
       "cohort2-0210     NaN     NaN                  NaN    Wuhan Infection - Mild   \n",
       "\n",
       "              ... cutoff_column_to_check any_p11_cutoffs_violated  \\\n",
       "mong0153      ...                  Wuhan                    False   \n",
       "mong0156      ...                  Wuhan                     True   \n",
       "mong0184      ...                  Wuhan                     True   \n",
       "mong0185      ...                  Wuhan                     True   \n",
       "mong0190      ...                  Wuhan                    False   \n",
       "...           ...                    ...                      ...   \n",
       "cohort2-0095  ...                  Wuhan                    False   \n",
       "cohort2-0098  ...                  Wuhan                    False   \n",
       "cohort2-0101  ...                  Wuhan                    False   \n",
       "cohort2-0198  ...                  Wuhan                    False   \n",
       "cohort2-0210  ...                  Wuhan                     True   \n",
       "\n",
       "              any_p11_cutoffs_violated:boostD1/2  \\\n",
       "mong0153                                   False   \n",
       "mong0156                                   False   \n",
       "mong0184                                   False   \n",
       "mong0185                                   False   \n",
       "mong0190                                   False   \n",
       "...                                          ...   \n",
       "cohort2-0095                               False   \n",
       "cohort2-0098                               False   \n",
       "cohort2-0101                               False   \n",
       "cohort2-0198                               False   \n",
       "cohort2-0210                               False   \n",
       "\n",
       "              any_p11_cutoffs_violated:boostD21  \\\n",
       "mong0153                                  False   \n",
       "mong0156                                  False   \n",
       "mong0184                                  False   \n",
       "mong0185                                  False   \n",
       "mong0190                                  False   \n",
       "...                                         ...   \n",
       "cohort2-0095                              False   \n",
       "cohort2-0098                              False   \n",
       "cohort2-0101                              False   \n",
       "cohort2-0198                              False   \n",
       "cohort2-0210                              False   \n",
       "\n",
       "              any_p11_cutoffs_violated:boostD7/8  \\\n",
       "mong0153                                   False   \n",
       "mong0156                                   False   \n",
       "mong0184                                   False   \n",
       "mong0185                                   False   \n",
       "mong0190                                   False   \n",
       "...                                          ...   \n",
       "cohort2-0095                               False   \n",
       "cohort2-0098                               False   \n",
       "cohort2-0101                               False   \n",
       "cohort2-0198                               False   \n",
       "cohort2-0210                               False   \n",
       "\n",
       "              any_p11_cutoffs_violated:day 0 / pre-pandemic  \\\n",
       "mong0153                                              False   \n",
       "mong0156                                              False   \n",
       "mong0184                                              False   \n",
       "mong0185                                              False   \n",
       "mong0190                                              False   \n",
       "...                                                     ...   \n",
       "cohort2-0095                                          False   \n",
       "cohort2-0098                                          False   \n",
       "cohort2-0101                                          False   \n",
       "cohort2-0198                                          False   \n",
       "cohort2-0210                                          False   \n",
       "\n",
       "              any_p11_cutoffs_violated:day 21 / weeks 2&3  \\\n",
       "mong0153                                            False   \n",
       "mong0156                                            False   \n",
       "mong0184                                            False   \n",
       "mong0185                                            False   \n",
       "mong0190                                            False   \n",
       "...                                                   ...   \n",
       "cohort2-0095                                        False   \n",
       "cohort2-0098                                        False   \n",
       "cohort2-0101                                        False   \n",
       "cohort2-0198                                        False   \n",
       "cohort2-0210                                         True   \n",
       "\n",
       "              any_p11_cutoffs_violated:day 210 / 7 months  \\\n",
       "mong0153                                            False   \n",
       "mong0156                                            False   \n",
       "mong0184                                            False   \n",
       "mong0185                                            False   \n",
       "mong0190                                            False   \n",
       "...                                                   ...   \n",
       "cohort2-0095                                        False   \n",
       "cohort2-0098                                        False   \n",
       "cohort2-0101                                        False   \n",
       "cohort2-0198                                        False   \n",
       "cohort2-0210                                        False   \n",
       "\n",
       "              any_p11_cutoffs_violated:day 28 / week 4  \\\n",
       "mong0153                                         False   \n",
       "mong0156                                         False   \n",
       "mong0184                                         False   \n",
       "mong0185                                         False   \n",
       "mong0190                                         False   \n",
       "...                                                ...   \n",
       "cohort2-0095                                     False   \n",
       "cohort2-0098                                     False   \n",
       "cohort2-0101                                     False   \n",
       "cohort2-0198                                     False   \n",
       "cohort2-0210                                     False   \n",
       "\n",
       "              any_p11_cutoffs_violated:week 7 and later / 3 months  \n",
       "mong0153                                                  False     \n",
       "mong0156                                                   True     \n",
       "mong0184                                                   True     \n",
       "mong0185                                                   True     \n",
       "mong0190                                                  False     \n",
       "...                                                         ...     \n",
       "cohort2-0095                                              False     \n",
       "cohort2-0098                                              False     \n",
       "cohort2-0101                                              False     \n",
       "cohort2-0198                                              False     \n",
       "cohort2-0210                                              False     \n",
       "\n",
       "[401 rows x 21 columns]"
      ]
     },
     "execution_count": 1,
     "metadata": {},
     "output_type": "execute_result"
    }
   ],
   "source": [
    "adata_all.obs"
   ]
  },
  {
   "cell_type": "code",
   "execution_count": 7,
   "metadata": {
    "execution": {
     "iopub.execute_input": "2022-01-15T22:13:37.248657Z",
     "iopub.status.busy": "2022-01-15T22:13:37.239921Z",
     "iopub.status.idle": "2022-01-15T22:13:37.271830Z",
     "shell.execute_reply": "2022-01-15T22:13:37.273336Z"
    }
   },
   "outputs": [
    {
     "data": {
      "text/html": [
       "<div>\n",
       "<style scoped>\n",
       "    .dataframe tbody tr th:only-of-type {\n",
       "        vertical-align: middle;\n",
       "    }\n",
       "\n",
       "    .dataframe tbody tr th {\n",
       "        vertical-align: top;\n",
       "    }\n",
       "\n",
       "    .dataframe thead th {\n",
       "        text-align: right;\n",
       "    }\n",
       "</style>\n",
       "<table border=\"1\" class=\"dataframe\">\n",
       "  <thead>\n",
       "    <tr style=\"text-align: right;\">\n",
       "      <th></th>\n",
       "      <th>virus</th>\n",
       "      <th>target</th>\n",
       "      <th>variant_plate_type</th>\n",
       "      <th>antibody</th>\n",
       "      <th>timepoint</th>\n",
       "      <th>combined_name</th>\n",
       "    </tr>\n",
       "    <tr>\n",
       "      <th>varname</th>\n",
       "      <th></th>\n",
       "      <th></th>\n",
       "      <th></th>\n",
       "      <th></th>\n",
       "      <th></th>\n",
       "      <th></th>\n",
       "    </tr>\n",
       "  </thead>\n",
       "  <tbody>\n",
       "    <tr>\n",
       "      <th>Epsilon_RBD_Variant_IgG_week 7 and later / 3 months</th>\n",
       "      <td>Epsilon</td>\n",
       "      <td>RBD</td>\n",
       "      <td>Variant</td>\n",
       "      <td>IgG</td>\n",
       "      <td>week 7 and later / 3 months</td>\n",
       "      <td>Epsilon_RBD_Variant_IgG_week 7 and later / 3 m...</td>\n",
       "    </tr>\n",
       "    <tr>\n",
       "      <th>Beta_RBD_Variant_IgG_week 7 and later / 3 months</th>\n",
       "      <td>Beta</td>\n",
       "      <td>RBD</td>\n",
       "      <td>Variant</td>\n",
       "      <td>IgG</td>\n",
       "      <td>week 7 and later / 3 months</td>\n",
       "      <td>Beta_RBD_Variant_IgG_week 7 and later / 3 months</td>\n",
       "    </tr>\n",
       "    <tr>\n",
       "      <th>Iota_RBD_Variant_IgG_week 7 and later / 3 months</th>\n",
       "      <td>Iota</td>\n",
       "      <td>RBD</td>\n",
       "      <td>Variant</td>\n",
       "      <td>IgG</td>\n",
       "      <td>week 7 and later / 3 months</td>\n",
       "      <td>Iota_RBD_Variant_IgG_week 7 and later / 3 months</td>\n",
       "    </tr>\n",
       "    <tr>\n",
       "      <th>Gamma_RBD_Variant_IgG_week 7 and later / 3 months</th>\n",
       "      <td>Gamma</td>\n",
       "      <td>RBD</td>\n",
       "      <td>Variant</td>\n",
       "      <td>IgG</td>\n",
       "      <td>week 7 and later / 3 months</td>\n",
       "      <td>Gamma_RBD_Variant_IgG_week 7 and later / 3 months</td>\n",
       "    </tr>\n",
       "    <tr>\n",
       "      <th>B.1.526.2_RBD_Variant_IgG_week 7 and later / 3 months</th>\n",
       "      <td>B.1.526.2</td>\n",
       "      <td>RBD</td>\n",
       "      <td>Variant</td>\n",
       "      <td>IgG</td>\n",
       "      <td>week 7 and later / 3 months</td>\n",
       "      <td>B.1.526.2_RBD_Variant_IgG_week 7 and later / 3...</td>\n",
       "    </tr>\n",
       "    <tr>\n",
       "      <th>...</th>\n",
       "      <td>...</td>\n",
       "      <td>...</td>\n",
       "      <td>...</td>\n",
       "      <td>...</td>\n",
       "      <td>...</td>\n",
       "      <td>...</td>\n",
       "    </tr>\n",
       "    <tr>\n",
       "      <th>Alpha_RBD_Variant_IgG_boostD21</th>\n",
       "      <td>Alpha</td>\n",
       "      <td>RBD</td>\n",
       "      <td>Variant</td>\n",
       "      <td>IgG</td>\n",
       "      <td>boostD21</td>\n",
       "      <td>Alpha_RBD_Variant_IgG_boostD21</td>\n",
       "    </tr>\n",
       "    <tr>\n",
       "      <th>P.3_RBD_Variant_IgG_boostD21</th>\n",
       "      <td>P.3</td>\n",
       "      <td>RBD</td>\n",
       "      <td>Variant</td>\n",
       "      <td>IgG</td>\n",
       "      <td>boostD21</td>\n",
       "      <td>P.3_RBD_Variant_IgG_boostD21</td>\n",
       "    </tr>\n",
       "    <tr>\n",
       "      <th>Kappa_RBD_Variant_IgG_boostD21</th>\n",
       "      <td>Kappa</td>\n",
       "      <td>RBD</td>\n",
       "      <td>Variant</td>\n",
       "      <td>IgG</td>\n",
       "      <td>boostD21</td>\n",
       "      <td>Kappa_RBD_Variant_IgG_boostD21</td>\n",
       "    </tr>\n",
       "    <tr>\n",
       "      <th>Delta_RBD_Variant_IgG_boostD21</th>\n",
       "      <td>Delta</td>\n",
       "      <td>RBD</td>\n",
       "      <td>Variant</td>\n",
       "      <td>IgG</td>\n",
       "      <td>boostD21</td>\n",
       "      <td>Delta_RBD_Variant_IgG_boostD21</td>\n",
       "    </tr>\n",
       "    <tr>\n",
       "      <th>Wuhan_RBD_Variant_IgG_boostD21</th>\n",
       "      <td>Wuhan</td>\n",
       "      <td>RBD</td>\n",
       "      <td>Variant</td>\n",
       "      <td>IgG</td>\n",
       "      <td>boostD21</td>\n",
       "      <td>Wuhan_RBD_Variant_IgG_boostD21</td>\n",
       "    </tr>\n",
       "  </tbody>\n",
       "</table>\n",
       "<p>284 rows × 6 columns</p>\n",
       "</div>"
      ],
      "text/plain": [
       "                                                        virus target  \\\n",
       "varname                                                                \n",
       "Epsilon_RBD_Variant_IgG_week 7 and later / 3 mo...    Epsilon    RBD   \n",
       "Beta_RBD_Variant_IgG_week 7 and later / 3 months         Beta    RBD   \n",
       "Iota_RBD_Variant_IgG_week 7 and later / 3 months         Iota    RBD   \n",
       "Gamma_RBD_Variant_IgG_week 7 and later / 3 months       Gamma    RBD   \n",
       "B.1.526.2_RBD_Variant_IgG_week 7 and later / 3 ...  B.1.526.2    RBD   \n",
       "...                                                       ...    ...   \n",
       "Alpha_RBD_Variant_IgG_boostD21                          Alpha    RBD   \n",
       "P.3_RBD_Variant_IgG_boostD21                              P.3    RBD   \n",
       "Kappa_RBD_Variant_IgG_boostD21                          Kappa    RBD   \n",
       "Delta_RBD_Variant_IgG_boostD21                          Delta    RBD   \n",
       "Wuhan_RBD_Variant_IgG_boostD21                          Wuhan    RBD   \n",
       "\n",
       "                                                   variant_plate_type  \\\n",
       "varname                                                                 \n",
       "Epsilon_RBD_Variant_IgG_week 7 and later / 3 mo...            Variant   \n",
       "Beta_RBD_Variant_IgG_week 7 and later / 3 months              Variant   \n",
       "Iota_RBD_Variant_IgG_week 7 and later / 3 months              Variant   \n",
       "Gamma_RBD_Variant_IgG_week 7 and later / 3 months             Variant   \n",
       "B.1.526.2_RBD_Variant_IgG_week 7 and later / 3 ...            Variant   \n",
       "...                                                               ...   \n",
       "Alpha_RBD_Variant_IgG_boostD21                                Variant   \n",
       "P.3_RBD_Variant_IgG_boostD21                                  Variant   \n",
       "Kappa_RBD_Variant_IgG_boostD21                                Variant   \n",
       "Delta_RBD_Variant_IgG_boostD21                                Variant   \n",
       "Wuhan_RBD_Variant_IgG_boostD21                                Variant   \n",
       "\n",
       "                                                   antibody  \\\n",
       "varname                                                       \n",
       "Epsilon_RBD_Variant_IgG_week 7 and later / 3 mo...      IgG   \n",
       "Beta_RBD_Variant_IgG_week 7 and later / 3 months        IgG   \n",
       "Iota_RBD_Variant_IgG_week 7 and later / 3 months        IgG   \n",
       "Gamma_RBD_Variant_IgG_week 7 and later / 3 months       IgG   \n",
       "B.1.526.2_RBD_Variant_IgG_week 7 and later / 3 ...      IgG   \n",
       "...                                                     ...   \n",
       "Alpha_RBD_Variant_IgG_boostD21                          IgG   \n",
       "P.3_RBD_Variant_IgG_boostD21                            IgG   \n",
       "Kappa_RBD_Variant_IgG_boostD21                          IgG   \n",
       "Delta_RBD_Variant_IgG_boostD21                          IgG   \n",
       "Wuhan_RBD_Variant_IgG_boostD21                          IgG   \n",
       "\n",
       "                                                                      timepoint  \\\n",
       "varname                                                                           \n",
       "Epsilon_RBD_Variant_IgG_week 7 and later / 3 mo...  week 7 and later / 3 months   \n",
       "Beta_RBD_Variant_IgG_week 7 and later / 3 months    week 7 and later / 3 months   \n",
       "Iota_RBD_Variant_IgG_week 7 and later / 3 months    week 7 and later / 3 months   \n",
       "Gamma_RBD_Variant_IgG_week 7 and later / 3 months   week 7 and later / 3 months   \n",
       "B.1.526.2_RBD_Variant_IgG_week 7 and later / 3 ...  week 7 and later / 3 months   \n",
       "...                                                                         ...   \n",
       "Alpha_RBD_Variant_IgG_boostD21                                         boostD21   \n",
       "P.3_RBD_Variant_IgG_boostD21                                           boostD21   \n",
       "Kappa_RBD_Variant_IgG_boostD21                                         boostD21   \n",
       "Delta_RBD_Variant_IgG_boostD21                                         boostD21   \n",
       "Wuhan_RBD_Variant_IgG_boostD21                                         boostD21   \n",
       "\n",
       "                                                                                        combined_name  \n",
       "varname                                                                                                \n",
       "Epsilon_RBD_Variant_IgG_week 7 and later / 3 mo...  Epsilon_RBD_Variant_IgG_week 7 and later / 3 m...  \n",
       "Beta_RBD_Variant_IgG_week 7 and later / 3 months     Beta_RBD_Variant_IgG_week 7 and later / 3 months  \n",
       "Iota_RBD_Variant_IgG_week 7 and later / 3 months     Iota_RBD_Variant_IgG_week 7 and later / 3 months  \n",
       "Gamma_RBD_Variant_IgG_week 7 and later / 3 months   Gamma_RBD_Variant_IgG_week 7 and later / 3 months  \n",
       "B.1.526.2_RBD_Variant_IgG_week 7 and later / 3 ...  B.1.526.2_RBD_Variant_IgG_week 7 and later / 3...  \n",
       "...                                                                                               ...  \n",
       "Alpha_RBD_Variant_IgG_boostD21                                         Alpha_RBD_Variant_IgG_boostD21  \n",
       "P.3_RBD_Variant_IgG_boostD21                                             P.3_RBD_Variant_IgG_boostD21  \n",
       "Kappa_RBD_Variant_IgG_boostD21                                         Kappa_RBD_Variant_IgG_boostD21  \n",
       "Delta_RBD_Variant_IgG_boostD21                                         Delta_RBD_Variant_IgG_boostD21  \n",
       "Wuhan_RBD_Variant_IgG_boostD21                                         Wuhan_RBD_Variant_IgG_boostD21  \n",
       "\n",
       "[284 rows x 6 columns]"
      ]
     },
     "execution_count": 1,
     "metadata": {},
     "output_type": "execute_result"
    }
   ],
   "source": [
    "adata_all.var"
   ]
  },
  {
   "cell_type": "code",
   "execution_count": null,
   "metadata": {
    "lines_to_next_cell": 2
   },
   "outputs": [],
   "source": []
  },
  {
   "cell_type": "code",
   "execution_count": null,
   "metadata": {},
   "outputs": [],
   "source": []
  },
  {
   "cell_type": "code",
   "execution_count": 8,
   "metadata": {
    "execution": {
     "iopub.execute_input": "2022-01-15T22:13:37.280263Z",
     "iopub.status.busy": "2022-01-15T22:13:37.278746Z",
     "iopub.status.idle": "2022-01-15T22:13:37.316073Z",
     "shell.execute_reply": "2022-01-15T22:13:37.317573Z"
    }
   },
   "outputs": [
    {
     "data": {
      "text/plain": [
       "AnnData object with n_obs × n_vars = 401 × 72\n",
       "    obs: 'Timepoint', 'First_dose_vaccine', 'Second_dose_vaccine', 'Status', 'source_cohort', 'Death', 'Variant', 'Vaccine', 'COVID Positive Ever?', 'Exposure', 'Exposure Type', 'cutoff_column_to_check', 'any_p11_cutoffs_violated', 'any_p11_cutoffs_violated:boostD1/2', 'any_p11_cutoffs_violated:boostD21', 'any_p11_cutoffs_violated:boostD7/8', 'any_p11_cutoffs_violated:day 0 / pre-pandemic', 'any_p11_cutoffs_violated:day 21 / weeks 2&3', 'any_p11_cutoffs_violated:day 210 / 7 months', 'any_p11_cutoffs_violated:day 28 / week 4', 'any_p11_cutoffs_violated:week 7 and later / 3 months'\n",
       "    var: 'denominator', 'virus', 'target', 'variant_plate_type', 'antibody', 'timepoint', 'numerator'"
      ]
     },
     "execution_count": 1,
     "metadata": {},
     "output_type": "execute_result"
    }
   ],
   "source": [
    "adata_variant_ratios = sc.read(f\"{config.paths.generated_data_dir}/variant_ratios.h5\")\n",
    "adata_variant_ratios"
   ]
  },
  {
   "cell_type": "code",
   "execution_count": 9,
   "metadata": {
    "execution": {
     "iopub.execute_input": "2022-01-15T22:13:37.326020Z",
     "iopub.status.busy": "2022-01-15T22:13:37.322792Z",
     "iopub.status.idle": "2022-01-15T22:13:37.329685Z",
     "shell.execute_reply": "2022-01-15T22:13:37.331139Z"
    }
   },
   "outputs": [
    {
     "data": {
      "text/plain": [
       "Mongolia_vaccine_variant_plate    131\n",
       "infection_cohort1                  99\n",
       "infection_cohort2_all              74\n",
       "Pfizer_all                         60\n",
       "variant_infections                 37\n",
       "Name: source_cohort, dtype: int64"
      ]
     },
     "execution_count": 1,
     "metadata": {},
     "output_type": "execute_result"
    }
   ],
   "source": [
    "adata_variant_ratios.obs[\"source_cohort\"].value_counts()"
   ]
  },
  {
   "cell_type": "code",
   "execution_count": 10,
   "metadata": {
    "execution": {
     "iopub.execute_input": "2022-01-15T22:13:37.338208Z",
     "iopub.status.busy": "2022-01-15T22:13:37.336883Z",
     "iopub.status.idle": "2022-01-15T22:13:37.363138Z",
     "shell.execute_reply": "2022-01-15T22:13:37.364652Z"
    }
   },
   "outputs": [
    {
     "name": "stdout",
     "output_type": "stream",
     "text": [
      "filtered out 106 cells that have less than 1 genes expressed\n"
     ]
    },
    {
     "data": {
      "text/plain": [
       "(295, 72)"
      ]
     },
     "execution_count": 1,
     "metadata": {},
     "output_type": "execute_result"
    }
   ],
   "source": [
    "# Remove any subjects that now have NaNs for all variables\n",
    "# These will be any samples that have no variant ratio measurements\n",
    "sc.pp.filter_cells(adata_variant_ratios, min_genes=1)\n",
    "\n",
    "adata_variant_ratios.shape"
   ]
  },
  {
   "cell_type": "code",
   "execution_count": 11,
   "metadata": {
    "execution": {
     "iopub.execute_input": "2022-01-15T22:13:37.371479Z",
     "iopub.status.busy": "2022-01-15T22:13:37.369540Z",
     "iopub.status.idle": "2022-01-15T22:13:37.374594Z",
     "shell.execute_reply": "2022-01-15T22:13:37.375807Z"
    }
   },
   "outputs": [
    {
     "data": {
      "text/plain": [
       "Mongolia_vaccine_variant_plate    131\n",
       "infection_cohort2_all              74\n",
       "Pfizer_all                         53\n",
       "variant_infections                 37\n",
       "Name: source_cohort, dtype: int64"
      ]
     },
     "execution_count": 1,
     "metadata": {},
     "output_type": "execute_result"
    }
   ],
   "source": [
    "adata_variant_ratios.obs[\"source_cohort\"].value_counts()"
   ]
  },
  {
   "cell_type": "code",
   "execution_count": null,
   "metadata": {},
   "outputs": [],
   "source": []
  },
  {
   "cell_type": "code",
   "execution_count": null,
   "metadata": {},
   "outputs": [],
   "source": []
  },
  {
   "cell_type": "code",
   "execution_count": 12,
   "metadata": {
    "execution": {
     "iopub.execute_input": "2022-01-15T22:13:37.381897Z",
     "iopub.status.busy": "2022-01-15T22:13:37.380898Z",
     "iopub.status.idle": "2022-01-15T22:13:37.410319Z",
     "shell.execute_reply": "2022-01-15T22:13:37.411825Z"
    }
   },
   "outputs": [
    {
     "data": {
      "text/plain": [
       "AnnData object with n_obs × n_vars = 158 × 135\n",
       "    obs: 'COVID Positive Ever?', 'Status', 'source_cohort', 'Death', 'Exposure', 'Exposure Type'\n",
       "    var: 'virus', 'target', 'variant_plate_type', 'antibody', 'timepoint'"
      ]
     },
     "execution_count": 1,
     "metadata": {},
     "output_type": "execute_result"
    }
   ],
   "source": [
    "adata_coronavirus_plate_subset = sc.read(\n",
    "    f\"{config.paths.generated_data_dir}/coronavirus_plate_only.subset.h5\"\n",
    ")\n",
    "adata_coronavirus_plate_subset"
   ]
  },
  {
   "cell_type": "code",
   "execution_count": 13,
   "metadata": {
    "execution": {
     "iopub.execute_input": "2022-01-15T22:13:37.435867Z",
     "iopub.status.busy": "2022-01-15T22:13:37.422312Z",
     "iopub.status.idle": "2022-01-15T22:13:37.439909Z",
     "shell.execute_reply": "2022-01-15T22:13:37.441418Z"
    }
   },
   "outputs": [
    {
     "data": {
      "text/html": [
       "<div>\n",
       "<style scoped>\n",
       "    .dataframe tbody tr th:only-of-type {\n",
       "        vertical-align: middle;\n",
       "    }\n",
       "\n",
       "    .dataframe tbody tr th {\n",
       "        vertical-align: top;\n",
       "    }\n",
       "\n",
       "    .dataframe thead th {\n",
       "        text-align: right;\n",
       "    }\n",
       "</style>\n",
       "<table border=\"1\" class=\"dataframe\">\n",
       "  <thead>\n",
       "    <tr style=\"text-align: right;\">\n",
       "      <th></th>\n",
       "      <th>COVID Positive Ever?</th>\n",
       "      <th>Status</th>\n",
       "      <th>source_cohort</th>\n",
       "      <th>Death</th>\n",
       "      <th>Exposure</th>\n",
       "      <th>Exposure Type</th>\n",
       "    </tr>\n",
       "  </thead>\n",
       "  <tbody>\n",
       "    <tr>\n",
       "      <th>pfizer00</th>\n",
       "      <td>No</td>\n",
       "      <td>Vaccinee</td>\n",
       "      <td>Pfizer_vaccine</td>\n",
       "      <td>NaN</td>\n",
       "      <td>Pfizer-Pfizer (Stanford)</td>\n",
       "      <td>Pfizer-Pfizer (Stanford)</td>\n",
       "    </tr>\n",
       "    <tr>\n",
       "      <th>pfizer01</th>\n",
       "      <td>No</td>\n",
       "      <td>Vaccinee</td>\n",
       "      <td>Pfizer_vaccine</td>\n",
       "      <td>NaN</td>\n",
       "      <td>Pfizer-Pfizer (Stanford)</td>\n",
       "      <td>Pfizer-Pfizer (Stanford)</td>\n",
       "    </tr>\n",
       "    <tr>\n",
       "      <th>pfizer02</th>\n",
       "      <td>No</td>\n",
       "      <td>Vaccinee</td>\n",
       "      <td>Pfizer_vaccine</td>\n",
       "      <td>NaN</td>\n",
       "      <td>Pfizer-Pfizer (Stanford)</td>\n",
       "      <td>Pfizer-Pfizer (Stanford)</td>\n",
       "    </tr>\n",
       "    <tr>\n",
       "      <th>pfizer03</th>\n",
       "      <td>No</td>\n",
       "      <td>Vaccinee</td>\n",
       "      <td>Pfizer_vaccine</td>\n",
       "      <td>NaN</td>\n",
       "      <td>Pfizer-Pfizer (Stanford)</td>\n",
       "      <td>Pfizer-Pfizer (Stanford)</td>\n",
       "    </tr>\n",
       "    <tr>\n",
       "      <th>pfizer04</th>\n",
       "      <td>No</td>\n",
       "      <td>Vaccinee</td>\n",
       "      <td>Pfizer_vaccine</td>\n",
       "      <td>NaN</td>\n",
       "      <td>Pfizer-Pfizer (Stanford)</td>\n",
       "      <td>Pfizer-Pfizer (Stanford)</td>\n",
       "    </tr>\n",
       "    <tr>\n",
       "      <th>...</th>\n",
       "      <td>...</td>\n",
       "      <td>...</td>\n",
       "      <td>...</td>\n",
       "      <td>...</td>\n",
       "      <td>...</td>\n",
       "      <td>...</td>\n",
       "    </tr>\n",
       "    <tr>\n",
       "      <th>84</th>\n",
       "      <td>NaN</td>\n",
       "      <td>ICU</td>\n",
       "      <td>infection_cohort1</td>\n",
       "      <td>0.0</td>\n",
       "      <td>Wuhan Infection - ICU</td>\n",
       "      <td>Infection</td>\n",
       "    </tr>\n",
       "    <tr>\n",
       "      <th>87</th>\n",
       "      <td>NaN</td>\n",
       "      <td>ICU</td>\n",
       "      <td>infection_cohort1</td>\n",
       "      <td>0.0</td>\n",
       "      <td>Wuhan Infection - ICU</td>\n",
       "      <td>Infection</td>\n",
       "    </tr>\n",
       "    <tr>\n",
       "      <th>101</th>\n",
       "      <td>NaN</td>\n",
       "      <td>Admit</td>\n",
       "      <td>infection_cohort1</td>\n",
       "      <td>0.0</td>\n",
       "      <td>Wuhan Infection - Admit</td>\n",
       "      <td>Infection</td>\n",
       "    </tr>\n",
       "    <tr>\n",
       "      <th>6</th>\n",
       "      <td>NaN</td>\n",
       "      <td>ICU</td>\n",
       "      <td>infection_cohort1</td>\n",
       "      <td>1.0</td>\n",
       "      <td>Wuhan Infection - ICU</td>\n",
       "      <td>Infection</td>\n",
       "    </tr>\n",
       "    <tr>\n",
       "      <th>200</th>\n",
       "      <td>NaN</td>\n",
       "      <td>Outpatient</td>\n",
       "      <td>infection_cohort1</td>\n",
       "      <td>0.0</td>\n",
       "      <td>Wuhan Infection - Outpatient</td>\n",
       "      <td>Infection</td>\n",
       "    </tr>\n",
       "  </tbody>\n",
       "</table>\n",
       "<p>158 rows × 6 columns</p>\n",
       "</div>"
      ],
      "text/plain": [
       "         COVID Positive Ever?      Status      source_cohort  Death  \\\n",
       "pfizer00                   No    Vaccinee     Pfizer_vaccine    NaN   \n",
       "pfizer01                   No    Vaccinee     Pfizer_vaccine    NaN   \n",
       "pfizer02                   No    Vaccinee     Pfizer_vaccine    NaN   \n",
       "pfizer03                   No    Vaccinee     Pfizer_vaccine    NaN   \n",
       "pfizer04                   No    Vaccinee     Pfizer_vaccine    NaN   \n",
       "...                       ...         ...                ...    ...   \n",
       "84                        NaN         ICU  infection_cohort1    0.0   \n",
       "87                        NaN         ICU  infection_cohort1    0.0   \n",
       "101                       NaN       Admit  infection_cohort1    0.0   \n",
       "6                         NaN         ICU  infection_cohort1    1.0   \n",
       "200                       NaN  Outpatient  infection_cohort1    0.0   \n",
       "\n",
       "                              Exposure             Exposure Type  \n",
       "pfizer00      Pfizer-Pfizer (Stanford)  Pfizer-Pfizer (Stanford)  \n",
       "pfizer01      Pfizer-Pfizer (Stanford)  Pfizer-Pfizer (Stanford)  \n",
       "pfizer02      Pfizer-Pfizer (Stanford)  Pfizer-Pfizer (Stanford)  \n",
       "pfizer03      Pfizer-Pfizer (Stanford)  Pfizer-Pfizer (Stanford)  \n",
       "pfizer04      Pfizer-Pfizer (Stanford)  Pfizer-Pfizer (Stanford)  \n",
       "...                                ...                       ...  \n",
       "84               Wuhan Infection - ICU                 Infection  \n",
       "87               Wuhan Infection - ICU                 Infection  \n",
       "101            Wuhan Infection - Admit                 Infection  \n",
       "6                Wuhan Infection - ICU                 Infection  \n",
       "200       Wuhan Infection - Outpatient                 Infection  \n",
       "\n",
       "[158 rows x 6 columns]"
      ]
     },
     "execution_count": 1,
     "metadata": {},
     "output_type": "execute_result"
    }
   ],
   "source": [
    "adata_coronavirus_plate_subset.obs"
   ]
  },
  {
   "cell_type": "code",
   "execution_count": 14,
   "metadata": {
    "execution": {
     "iopub.execute_input": "2022-01-15T22:13:37.463978Z",
     "iopub.status.busy": "2022-01-15T22:13:37.447791Z",
     "iopub.status.idle": "2022-01-15T22:13:37.468036Z",
     "shell.execute_reply": "2022-01-15T22:13:37.469535Z"
    }
   },
   "outputs": [
    {
     "data": {
      "text/html": [
       "<div>\n",
       "<style scoped>\n",
       "    .dataframe tbody tr th:only-of-type {\n",
       "        vertical-align: middle;\n",
       "    }\n",
       "\n",
       "    .dataframe tbody tr th {\n",
       "        vertical-align: top;\n",
       "    }\n",
       "\n",
       "    .dataframe thead th {\n",
       "        text-align: right;\n",
       "    }\n",
       "</style>\n",
       "<table border=\"1\" class=\"dataframe\">\n",
       "  <thead>\n",
       "    <tr style=\"text-align: right;\">\n",
       "      <th></th>\n",
       "      <th>virus</th>\n",
       "      <th>target</th>\n",
       "      <th>variant_plate_type</th>\n",
       "      <th>antibody</th>\n",
       "      <th>timepoint</th>\n",
       "    </tr>\n",
       "    <tr>\n",
       "      <th>varname</th>\n",
       "      <th></th>\n",
       "      <th></th>\n",
       "      <th></th>\n",
       "      <th></th>\n",
       "      <th></th>\n",
       "    </tr>\n",
       "  </thead>\n",
       "  <tbody>\n",
       "    <tr>\n",
       "      <th>Wuhan_S_Wuhan_IgG_day 0 / pre-pandemic</th>\n",
       "      <td>Wuhan</td>\n",
       "      <td>S</td>\n",
       "      <td>Wuhan</td>\n",
       "      <td>IgG</td>\n",
       "      <td>day 0 / pre-pandemic</td>\n",
       "    </tr>\n",
       "    <tr>\n",
       "      <th>NL63_S_Wuhan_IgG_day 0 / pre-pandemic</th>\n",
       "      <td>NL63</td>\n",
       "      <td>S</td>\n",
       "      <td>Wuhan</td>\n",
       "      <td>IgG</td>\n",
       "      <td>day 0 / pre-pandemic</td>\n",
       "    </tr>\n",
       "    <tr>\n",
       "      <th>Wuhan_N_Wuhan_IgG_day 0 / pre-pandemic</th>\n",
       "      <td>Wuhan</td>\n",
       "      <td>N</td>\n",
       "      <td>Wuhan</td>\n",
       "      <td>IgG</td>\n",
       "      <td>day 0 / pre-pandemic</td>\n",
       "    </tr>\n",
       "    <tr>\n",
       "      <th>CoV1_S_Wuhan_IgG_day 0 / pre-pandemic</th>\n",
       "      <td>CoV1</td>\n",
       "      <td>S</td>\n",
       "      <td>Wuhan</td>\n",
       "      <td>IgG</td>\n",
       "      <td>day 0 / pre-pandemic</td>\n",
       "    </tr>\n",
       "    <tr>\n",
       "      <th>Wuhan_NTD_Wuhan_IgG_day 0 / pre-pandemic</th>\n",
       "      <td>Wuhan</td>\n",
       "      <td>NTD</td>\n",
       "      <td>Wuhan</td>\n",
       "      <td>IgG</td>\n",
       "      <td>day 0 / pre-pandemic</td>\n",
       "    </tr>\n",
       "    <tr>\n",
       "      <th>...</th>\n",
       "      <td>...</td>\n",
       "      <td>...</td>\n",
       "      <td>...</td>\n",
       "      <td>...</td>\n",
       "      <td>...</td>\n",
       "    </tr>\n",
       "    <tr>\n",
       "      <th>Wuhan_NTD_Wuhan_IgA_day 42 / weeks 5&amp;6</th>\n",
       "      <td>Wuhan</td>\n",
       "      <td>NTD</td>\n",
       "      <td>Wuhan</td>\n",
       "      <td>IgA</td>\n",
       "      <td>day 42 / weeks 5&amp;6</td>\n",
       "    </tr>\n",
       "    <tr>\n",
       "      <th>HKU1_S_Wuhan_IgA_day 42 / weeks 5&amp;6</th>\n",
       "      <td>HKU1</td>\n",
       "      <td>S</td>\n",
       "      <td>Wuhan</td>\n",
       "      <td>IgA</td>\n",
       "      <td>day 42 / weeks 5&amp;6</td>\n",
       "    </tr>\n",
       "    <tr>\n",
       "      <th>OC43_S_Wuhan_IgA_day 42 / weeks 5&amp;6</th>\n",
       "      <td>OC43</td>\n",
       "      <td>S</td>\n",
       "      <td>Wuhan</td>\n",
       "      <td>IgA</td>\n",
       "      <td>day 42 / weeks 5&amp;6</td>\n",
       "    </tr>\n",
       "    <tr>\n",
       "      <th>h229E_S_Wuhan_IgA_day 42 / weeks 5&amp;6</th>\n",
       "      <td>h229E</td>\n",
       "      <td>S</td>\n",
       "      <td>Wuhan</td>\n",
       "      <td>IgA</td>\n",
       "      <td>day 42 / weeks 5&amp;6</td>\n",
       "    </tr>\n",
       "    <tr>\n",
       "      <th>Wuhan_RBD_Wuhan_IgA_day 42 / weeks 5&amp;6</th>\n",
       "      <td>Wuhan</td>\n",
       "      <td>RBD</td>\n",
       "      <td>Wuhan</td>\n",
       "      <td>IgA</td>\n",
       "      <td>day 42 / weeks 5&amp;6</td>\n",
       "    </tr>\n",
       "  </tbody>\n",
       "</table>\n",
       "<p>135 rows × 5 columns</p>\n",
       "</div>"
      ],
      "text/plain": [
       "                                          virus target variant_plate_type  \\\n",
       "varname                                                                     \n",
       "Wuhan_S_Wuhan_IgG_day 0 / pre-pandemic    Wuhan      S              Wuhan   \n",
       "NL63_S_Wuhan_IgG_day 0 / pre-pandemic      NL63      S              Wuhan   \n",
       "Wuhan_N_Wuhan_IgG_day 0 / pre-pandemic    Wuhan      N              Wuhan   \n",
       "CoV1_S_Wuhan_IgG_day 0 / pre-pandemic      CoV1      S              Wuhan   \n",
       "Wuhan_NTD_Wuhan_IgG_day 0 / pre-pandemic  Wuhan    NTD              Wuhan   \n",
       "...                                         ...    ...                ...   \n",
       "Wuhan_NTD_Wuhan_IgA_day 42 / weeks 5&6    Wuhan    NTD              Wuhan   \n",
       "HKU1_S_Wuhan_IgA_day 42 / weeks 5&6        HKU1      S              Wuhan   \n",
       "OC43_S_Wuhan_IgA_day 42 / weeks 5&6        OC43      S              Wuhan   \n",
       "h229E_S_Wuhan_IgA_day 42 / weeks 5&6      h229E      S              Wuhan   \n",
       "Wuhan_RBD_Wuhan_IgA_day 42 / weeks 5&6    Wuhan    RBD              Wuhan   \n",
       "\n",
       "                                         antibody             timepoint  \n",
       "varname                                                                  \n",
       "Wuhan_S_Wuhan_IgG_day 0 / pre-pandemic        IgG  day 0 / pre-pandemic  \n",
       "NL63_S_Wuhan_IgG_day 0 / pre-pandemic         IgG  day 0 / pre-pandemic  \n",
       "Wuhan_N_Wuhan_IgG_day 0 / pre-pandemic        IgG  day 0 / pre-pandemic  \n",
       "CoV1_S_Wuhan_IgG_day 0 / pre-pandemic         IgG  day 0 / pre-pandemic  \n",
       "Wuhan_NTD_Wuhan_IgG_day 0 / pre-pandemic      IgG  day 0 / pre-pandemic  \n",
       "...                                           ...                   ...  \n",
       "Wuhan_NTD_Wuhan_IgA_day 42 / weeks 5&6        IgA    day 42 / weeks 5&6  \n",
       "HKU1_S_Wuhan_IgA_day 42 / weeks 5&6           IgA    day 42 / weeks 5&6  \n",
       "OC43_S_Wuhan_IgA_day 42 / weeks 5&6           IgA    day 42 / weeks 5&6  \n",
       "h229E_S_Wuhan_IgA_day 42 / weeks 5&6          IgA    day 42 / weeks 5&6  \n",
       "Wuhan_RBD_Wuhan_IgA_day 42 / weeks 5&6        IgA    day 42 / weeks 5&6  \n",
       "\n",
       "[135 rows x 5 columns]"
      ]
     },
     "execution_count": 1,
     "metadata": {},
     "output_type": "execute_result"
    }
   ],
   "source": [
    "adata_coronavirus_plate_subset.var"
   ]
  },
  {
   "cell_type": "code",
   "execution_count": 15,
   "metadata": {
    "execution": {
     "iopub.execute_input": "2022-01-15T22:13:37.477692Z",
     "iopub.status.busy": "2022-01-15T22:13:37.476494Z",
     "iopub.status.idle": "2022-01-15T22:13:37.503059Z",
     "shell.execute_reply": "2022-01-15T22:13:37.504573Z"
    }
   },
   "outputs": [
    {
     "data": {
      "text/html": [
       "<div>\n",
       "<style scoped>\n",
       "    .dataframe tbody tr th:only-of-type {\n",
       "        vertical-align: middle;\n",
       "    }\n",
       "\n",
       "    .dataframe tbody tr th {\n",
       "        vertical-align: top;\n",
       "    }\n",
       "\n",
       "    .dataframe thead th {\n",
       "        text-align: right;\n",
       "    }\n",
       "</style>\n",
       "<table border=\"1\" class=\"dataframe\">\n",
       "  <thead>\n",
       "    <tr style=\"text-align: right;\">\n",
       "      <th></th>\n",
       "      <th>virus</th>\n",
       "      <th>target</th>\n",
       "      <th>variant_plate_type</th>\n",
       "      <th>antibody</th>\n",
       "      <th>timepoint</th>\n",
       "    </tr>\n",
       "    <tr>\n",
       "      <th>varname</th>\n",
       "      <th></th>\n",
       "      <th></th>\n",
       "      <th></th>\n",
       "      <th></th>\n",
       "      <th></th>\n",
       "    </tr>\n",
       "  </thead>\n",
       "  <tbody>\n",
       "    <tr>\n",
       "      <th>Wuhan_S_Wuhan_IgG_day 0 / pre-pandemic</th>\n",
       "      <td>Wuhan</td>\n",
       "      <td>S</td>\n",
       "      <td>Wuhan</td>\n",
       "      <td>IgG</td>\n",
       "      <td>day 0 / pre-pandemic</td>\n",
       "    </tr>\n",
       "    <tr>\n",
       "      <th>NL63_S_Wuhan_IgG_day 0 / pre-pandemic</th>\n",
       "      <td>NL63</td>\n",
       "      <td>S</td>\n",
       "      <td>Wuhan</td>\n",
       "      <td>IgG</td>\n",
       "      <td>day 0 / pre-pandemic</td>\n",
       "    </tr>\n",
       "    <tr>\n",
       "      <th>Wuhan_N_Wuhan_IgG_day 0 / pre-pandemic</th>\n",
       "      <td>Wuhan</td>\n",
       "      <td>N</td>\n",
       "      <td>Wuhan</td>\n",
       "      <td>IgG</td>\n",
       "      <td>day 0 / pre-pandemic</td>\n",
       "    </tr>\n",
       "    <tr>\n",
       "      <th>CoV1_S_Wuhan_IgG_day 0 / pre-pandemic</th>\n",
       "      <td>CoV1</td>\n",
       "      <td>S</td>\n",
       "      <td>Wuhan</td>\n",
       "      <td>IgG</td>\n",
       "      <td>day 0 / pre-pandemic</td>\n",
       "    </tr>\n",
       "    <tr>\n",
       "      <th>Wuhan_NTD_Wuhan_IgG_day 0 / pre-pandemic</th>\n",
       "      <td>Wuhan</td>\n",
       "      <td>NTD</td>\n",
       "      <td>Wuhan</td>\n",
       "      <td>IgG</td>\n",
       "      <td>day 0 / pre-pandemic</td>\n",
       "    </tr>\n",
       "    <tr>\n",
       "      <th>...</th>\n",
       "      <td>...</td>\n",
       "      <td>...</td>\n",
       "      <td>...</td>\n",
       "      <td>...</td>\n",
       "      <td>...</td>\n",
       "    </tr>\n",
       "    <tr>\n",
       "      <th>Wuhan_NTD_Wuhan_IgA_day 42 / weeks 5&amp;6</th>\n",
       "      <td>Wuhan</td>\n",
       "      <td>NTD</td>\n",
       "      <td>Wuhan</td>\n",
       "      <td>IgA</td>\n",
       "      <td>day 42 / weeks 5&amp;6</td>\n",
       "    </tr>\n",
       "    <tr>\n",
       "      <th>HKU1_S_Wuhan_IgA_day 42 / weeks 5&amp;6</th>\n",
       "      <td>HKU1</td>\n",
       "      <td>S</td>\n",
       "      <td>Wuhan</td>\n",
       "      <td>IgA</td>\n",
       "      <td>day 42 / weeks 5&amp;6</td>\n",
       "    </tr>\n",
       "    <tr>\n",
       "      <th>OC43_S_Wuhan_IgA_day 42 / weeks 5&amp;6</th>\n",
       "      <td>OC43</td>\n",
       "      <td>S</td>\n",
       "      <td>Wuhan</td>\n",
       "      <td>IgA</td>\n",
       "      <td>day 42 / weeks 5&amp;6</td>\n",
       "    </tr>\n",
       "    <tr>\n",
       "      <th>h229E_S_Wuhan_IgA_day 42 / weeks 5&amp;6</th>\n",
       "      <td>h229E</td>\n",
       "      <td>S</td>\n",
       "      <td>Wuhan</td>\n",
       "      <td>IgA</td>\n",
       "      <td>day 42 / weeks 5&amp;6</td>\n",
       "    </tr>\n",
       "    <tr>\n",
       "      <th>Wuhan_RBD_Wuhan_IgA_day 42 / weeks 5&amp;6</th>\n",
       "      <td>Wuhan</td>\n",
       "      <td>RBD</td>\n",
       "      <td>Wuhan</td>\n",
       "      <td>IgA</td>\n",
       "      <td>day 42 / weeks 5&amp;6</td>\n",
       "    </tr>\n",
       "  </tbody>\n",
       "</table>\n",
       "<p>135 rows × 5 columns</p>\n",
       "</div>"
      ],
      "text/plain": [
       "                                          virus target variant_plate_type  \\\n",
       "varname                                                                     \n",
       "Wuhan_S_Wuhan_IgG_day 0 / pre-pandemic    Wuhan      S              Wuhan   \n",
       "NL63_S_Wuhan_IgG_day 0 / pre-pandemic      NL63      S              Wuhan   \n",
       "Wuhan_N_Wuhan_IgG_day 0 / pre-pandemic    Wuhan      N              Wuhan   \n",
       "CoV1_S_Wuhan_IgG_day 0 / pre-pandemic      CoV1      S              Wuhan   \n",
       "Wuhan_NTD_Wuhan_IgG_day 0 / pre-pandemic  Wuhan    NTD              Wuhan   \n",
       "...                                         ...    ...                ...   \n",
       "Wuhan_NTD_Wuhan_IgA_day 42 / weeks 5&6    Wuhan    NTD              Wuhan   \n",
       "HKU1_S_Wuhan_IgA_day 42 / weeks 5&6        HKU1      S              Wuhan   \n",
       "OC43_S_Wuhan_IgA_day 42 / weeks 5&6        OC43      S              Wuhan   \n",
       "h229E_S_Wuhan_IgA_day 42 / weeks 5&6      h229E      S              Wuhan   \n",
       "Wuhan_RBD_Wuhan_IgA_day 42 / weeks 5&6    Wuhan    RBD              Wuhan   \n",
       "\n",
       "                                         antibody             timepoint  \n",
       "varname                                                                  \n",
       "Wuhan_S_Wuhan_IgG_day 0 / pre-pandemic        IgG  day 0 / pre-pandemic  \n",
       "NL63_S_Wuhan_IgG_day 0 / pre-pandemic         IgG  day 0 / pre-pandemic  \n",
       "Wuhan_N_Wuhan_IgG_day 0 / pre-pandemic        IgG  day 0 / pre-pandemic  \n",
       "CoV1_S_Wuhan_IgG_day 0 / pre-pandemic         IgG  day 0 / pre-pandemic  \n",
       "Wuhan_NTD_Wuhan_IgG_day 0 / pre-pandemic      IgG  day 0 / pre-pandemic  \n",
       "...                                           ...                   ...  \n",
       "Wuhan_NTD_Wuhan_IgA_day 42 / weeks 5&6        IgA    day 42 / weeks 5&6  \n",
       "HKU1_S_Wuhan_IgA_day 42 / weeks 5&6           IgA    day 42 / weeks 5&6  \n",
       "OC43_S_Wuhan_IgA_day 42 / weeks 5&6           IgA    day 42 / weeks 5&6  \n",
       "h229E_S_Wuhan_IgA_day 42 / weeks 5&6          IgA    day 42 / weeks 5&6  \n",
       "Wuhan_RBD_Wuhan_IgA_day 42 / weeks 5&6        IgA    day 42 / weeks 5&6  \n",
       "\n",
       "[135 rows x 5 columns]"
      ]
     },
     "execution_count": 1,
     "metadata": {},
     "output_type": "execute_result"
    }
   ],
   "source": [
    "# Filter to Wuhan/non-variant only\n",
    "adata_coronavirus_plate_subset = adata_coronavirus_plate_subset[\n",
    "    :, adata_coronavirus_plate_subset.var[\"variant_plate_type\"] == \"Wuhan\"\n",
    "].copy()\n",
    "adata_coronavirus_plate_subset.var"
   ]
  },
  {
   "cell_type": "code",
   "execution_count": 16,
   "metadata": {
    "execution": {
     "iopub.execute_input": "2022-01-15T22:13:37.511494Z",
     "iopub.status.busy": "2022-01-15T22:13:37.509235Z",
     "iopub.status.idle": "2022-01-15T22:13:37.514778Z",
     "shell.execute_reply": "2022-01-15T22:13:37.516121Z"
    }
   },
   "outputs": [
    {
     "data": {
      "text/plain": [
       "infection_cohort1    99\n",
       "Pfizer_vaccine       59\n",
       "Name: source_cohort, dtype: int64"
      ]
     },
     "execution_count": 1,
     "metadata": {},
     "output_type": "execute_result"
    }
   ],
   "source": [
    "adata_coronavirus_plate_subset.obs[\"source_cohort\"].value_counts()"
   ]
  },
  {
   "cell_type": "code",
   "execution_count": 17,
   "metadata": {
    "execution": {
     "iopub.execute_input": "2022-01-15T22:13:37.522733Z",
     "iopub.status.busy": "2022-01-15T22:13:37.521644Z",
     "iopub.status.idle": "2022-01-15T22:13:37.525382Z",
     "shell.execute_reply": "2022-01-15T22:13:37.526466Z"
    }
   },
   "outputs": [
    {
     "data": {
      "text/plain": [
       "(158, 135)"
      ]
     },
     "execution_count": 1,
     "metadata": {},
     "output_type": "execute_result"
    }
   ],
   "source": [
    "adata_coronavirus_plate_subset.shape"
   ]
  },
  {
   "cell_type": "code",
   "execution_count": 18,
   "metadata": {
    "execution": {
     "iopub.execute_input": "2022-01-15T22:13:37.533026Z",
     "iopub.status.busy": "2022-01-15T22:13:37.531998Z",
     "iopub.status.idle": "2022-01-15T22:13:37.555505Z",
     "shell.execute_reply": "2022-01-15T22:13:37.556844Z"
    }
   },
   "outputs": [
    {
     "name": "stdout",
     "output_type": "stream",
     "text": [
      "filtered out 1 cells that have less than 1 genes expressed\n"
     ]
    },
    {
     "data": {
      "text/plain": [
       "(157, 135)"
      ]
     },
     "execution_count": 1,
     "metadata": {},
     "output_type": "execute_result"
    }
   ],
   "source": [
    "# Remove any subjects that now have NaNs for all variables\n",
    "# These will be any samples that have no standard coronavirus plate measurements, only variant ratios\n",
    "sc.pp.filter_cells(adata_coronavirus_plate_subset, min_genes=1)\n",
    "\n",
    "adata_coronavirus_plate_subset.shape"
   ]
  },
  {
   "cell_type": "code",
   "execution_count": 19,
   "metadata": {
    "execution": {
     "iopub.execute_input": "2022-01-15T22:13:37.566257Z",
     "iopub.status.busy": "2022-01-15T22:13:37.564756Z",
     "iopub.status.idle": "2022-01-15T22:13:37.569861Z",
     "shell.execute_reply": "2022-01-15T22:13:37.571374Z"
    }
   },
   "outputs": [
    {
     "data": {
      "text/plain": [
       "infection_cohort1    98\n",
       "Pfizer_vaccine       59\n",
       "Name: source_cohort, dtype: int64"
      ]
     },
     "execution_count": 1,
     "metadata": {},
     "output_type": "execute_result"
    }
   ],
   "source": [
    "adata_coronavirus_plate_subset.obs[\"source_cohort\"].value_counts()"
   ]
  },
  {
   "cell_type": "code",
   "execution_count": null,
   "metadata": {
    "lines_to_next_cell": 0
   },
   "outputs": [],
   "source": []
  },
  {
   "cell_type": "code",
   "execution_count": null,
   "metadata": {},
   "outputs": [],
   "source": []
  },
  {
   "cell_type": "code",
   "execution_count": null,
   "metadata": {},
   "outputs": [],
   "source": []
  },
  {
   "cell_type": "markdown",
   "metadata": {},
   "source": [
    "### Choose timepoints"
   ]
  },
  {
   "cell_type": "code",
   "execution_count": null,
   "metadata": {
    "lines_to_next_cell": 2
   },
   "outputs": [],
   "source": []
  },
  {
   "cell_type": "code",
   "execution_count": 20,
   "metadata": {
    "execution": {
     "iopub.execute_input": "2022-01-15T22:13:37.580935Z",
     "iopub.status.busy": "2022-01-15T22:13:37.579100Z",
     "iopub.status.idle": "2022-01-15T22:13:37.586013Z",
     "shell.execute_reply": "2022-01-15T22:13:37.587126Z"
    },
    "lines_to_next_cell": 0
   },
   "outputs": [
    {
     "data": {
      "text/plain": [
       "{'boostD1/2',\n",
       " 'boostD21',\n",
       " 'boostD7/8',\n",
       " 'day 0 / pre-pandemic',\n",
       " 'day 21 / weeks 2&3',\n",
       " 'day 210 / 7 months',\n",
       " 'day 28 / week 4',\n",
       " 'day 42 / weeks 5&6',\n",
       " 'day 7 / week 1',\n",
       " 'week 7 and later / 3 months'}"
      ]
     },
     "execution_count": 1,
     "metadata": {},
     "output_type": "execute_result"
    }
   ],
   "source": [
    "all_timepoints = set(adata_coronavirus_plate_subset.var[\"timepoint\"]).union(\n",
    "    adata_variant_ratios.var[\"timepoint\"]\n",
    ")\n",
    "all_timepoints"
   ]
  },
  {
   "cell_type": "code",
   "execution_count": 21,
   "metadata": {
    "execution": {
     "iopub.execute_input": "2022-01-15T22:13:37.595567Z",
     "iopub.status.busy": "2022-01-15T22:13:37.594204Z",
     "iopub.status.idle": "2022-01-15T22:13:37.599052Z",
     "shell.execute_reply": "2022-01-15T22:13:37.600384Z"
    }
   },
   "outputs": [
    {
     "data": {
      "text/plain": [
       "'day 21 / weeks 2&3'"
      ]
     },
     "execution_count": 1,
     "metadata": {},
     "output_type": "execute_result"
    }
   ],
   "source": [
    "reference_timepoint_wuhan_comparison = config.reference_timepoint_wuhan_comparison\n",
    "reference_timepoint_wuhan_comparison"
   ]
  },
  {
   "cell_type": "code",
   "execution_count": 22,
   "metadata": {
    "execution": {
     "iopub.execute_input": "2022-01-15T22:13:37.609257Z",
     "iopub.status.busy": "2022-01-15T22:13:37.608250Z",
     "iopub.status.idle": "2022-01-15T22:13:37.613662Z",
     "shell.execute_reply": "2022-01-15T22:13:37.614750Z"
    }
   },
   "outputs": [
    {
     "data": {
      "text/plain": [
       "'day 28 / week 4'"
      ]
     },
     "execution_count": 1,
     "metadata": {},
     "output_type": "execute_result"
    }
   ],
   "source": [
    "reference_timepoint_variant_comparison = config.reference_timepoint_variant_comparison\n",
    "reference_timepoint_variant_comparison"
   ]
  },
  {
   "cell_type": "code",
   "execution_count": 23,
   "metadata": {
    "execution": {
     "iopub.execute_input": "2022-01-15T22:13:37.626978Z",
     "iopub.status.busy": "2022-01-15T22:13:37.625422Z",
     "iopub.status.idle": "2022-01-15T22:13:37.630576Z",
     "shell.execute_reply": "2022-01-15T22:13:37.632088Z"
    }
   },
   "outputs": [
    {
     "data": {
      "text/plain": [
       "['day 0 / pre-pandemic',\n",
       " 'day 7 / week 1',\n",
       " 'day 21 / weeks 2&3',\n",
       " 'day 28 / week 4',\n",
       " 'day 42 / weeks 5&6',\n",
       " 'week 7 and later / 3 months',\n",
       " 'day 210 / 7 months',\n",
       " 'boostD1/2',\n",
       " 'boostD21',\n",
       " 'boostD7/8']"
      ]
     },
     "execution_count": 1,
     "metadata": {},
     "output_type": "execute_result"
    }
   ],
   "source": [
    "timepoint_sort_order = [\n",
    "    \"day 0 / pre-pandemic\",\n",
    "    \"day 7 / week 1\",\n",
    "    \"day 21 / weeks 2&3\",\n",
    "    \"day 28 / week 4\",\n",
    "    \"day 42 / weeks 5&6\",\n",
    "    \"week 7 and later / 3 months\",\n",
    "    \"day 210 / 7 months\",\n",
    "    \"boostD1/2\",\n",
    "    \"boostD21\",\n",
    "    \"boostD7/8\",\n",
    "]\n",
    "assert all(\n",
    "    [timepoint in timepoint_sort_order for timepoint in all_timepoints]\n",
    "), \"Not all timepoints are represented in timepoint sort order\"\n",
    "timepoint_sort_order"
   ]
  },
  {
   "cell_type": "code",
   "execution_count": null,
   "metadata": {},
   "outputs": [],
   "source": []
  },
  {
   "cell_type": "code",
   "execution_count": null,
   "metadata": {},
   "outputs": [],
   "source": []
  },
  {
   "cell_type": "markdown",
   "metadata": {},
   "source": [
    "### Choose colors"
   ]
  },
  {
   "cell_type": "code",
   "execution_count": 24,
   "metadata": {
    "execution": {
     "iopub.execute_input": "2022-01-15T22:13:37.643932Z",
     "iopub.status.busy": "2022-01-15T22:13:37.642418Z",
     "iopub.status.idle": "2022-01-15T22:13:37.647822Z",
     "shell.execute_reply": "2022-01-15T22:13:37.649039Z"
    }
   },
   "outputs": [
    {
     "data": {
      "text/plain": [
       "[('Exposure', False), ('Exposure Type', False)]"
      ]
     },
     "execution_count": 1,
     "metadata": {},
     "output_type": "execute_result"
    }
   ],
   "source": [
    "discrete_colors_to_plot = [\n",
    "    \"Exposure\",\n",
    "    \"Exposure Type\",\n",
    "]\n",
    "# could add continuous hues here too\n",
    "\n",
    "# (column name, continuous or not)\n",
    "colors_to_plot = [(s, False) for s in discrete_colors_to_plot]\n",
    "colors_to_plot"
   ]
  },
  {
   "cell_type": "code",
   "execution_count": 25,
   "metadata": {
    "execution": {
     "iopub.execute_input": "2022-01-15T22:13:37.658219Z",
     "iopub.status.busy": "2022-01-15T22:13:37.657032Z",
     "iopub.status.idle": "2022-01-15T22:13:37.662215Z",
     "shell.execute_reply": "2022-01-15T22:13:37.663217Z"
    }
   },
   "outputs": [
    {
     "data": {
      "text/plain": [
       "dict_keys(['Outpt / Admit', 'Infection', 'Wuhan Infection - Admit', 'Wuhan Infection - Moderate', 'ICU / Death', 'Control', 'Wuhan Infection - Outpatient', 'Wuhan Infection - Mild', 'Wuhan Infection - ICU', 'Wuhan Infection - Severe', 'Pfizer-Pfizer (Stanford)', 'Pfizer-Pfizer (Stanford), CoV2+', 'Sinopharm-Sinopharm', 'Sputnik V-Sputnik V', 'AstraZeneca-AstraZeneca', 'Pfizer-Pfizer (Mongolia)', 'Variant Infection - Alpha', 'Variant Infection - Delta'])"
      ]
     },
     "execution_count": 1,
     "metadata": {},
     "output_type": "execute_result"
    }
   ],
   "source": [
    "palette_dict.keys()"
   ]
  },
  {
   "cell_type": "code",
   "execution_count": null,
   "metadata": {},
   "outputs": [],
   "source": []
  },
  {
   "cell_type": "code",
   "execution_count": 26,
   "metadata": {
    "execution": {
     "iopub.execute_input": "2022-01-15T22:13:37.729017Z",
     "iopub.status.busy": "2022-01-15T22:13:37.727464Z",
     "iopub.status.idle": "2022-01-15T22:13:37.995264Z",
     "shell.execute_reply": "2022-01-15T22:13:37.996778Z"
    },
    "lines_to_next_cell": 2,
    "tags": []
   },
   "outputs": [
    {
     "data": {
      "text/plain": [
       "<AxesSubplot:>"
      ]
     },
     "execution_count": 1,
     "metadata": {},
     "output_type": "execute_result"
    },
    {
     "data": {
      "image/png": "[encoded data removed]",
      "text/plain": [
       "<Figure size 1296x72 with 1 Axes>"
      ]
     },
     "metadata": {
      "needs_background": "light"
     },
     "output_type": "display_data"
    }
   ],
   "source": [
    "# visualize chosen colors\n",
    "# first cast any HueValueStyle objects in the dict to be color strings only\n",
    "palette_dict_colors_only = HueValueStyle.huestyles_to_colors_dict(palette_dict)\n",
    "\n",
    "# modified palplot to have labels: https://stackoverflow.com/a/64492813 and https://github.com/mwaskom/seaborn/blob/cef0a2d5e86477a80659898e66bc2295886bf917/seaborn/miscplot.py#L9\n",
    "\n",
    "import matplotlib.ticker as ticker\n",
    "import matplotlib as mpl\n",
    "\n",
    "n = len(palette_dict_colors_only)\n",
    "size = 1\n",
    "\n",
    "f, ax = plt.subplots(1, 1, figsize=(n * size, size))\n",
    "ax.imshow(\n",
    "    np.arange(n).reshape(1, n),\n",
    "    cmap=mpl.colors.ListedColormap(list(palette_dict_colors_only.values())),\n",
    "    interpolation=\"nearest\",\n",
    "    aspect=\"auto\",\n",
    ")\n",
    "ax.set_xticks(np.arange(n) - 0.5)\n",
    "ax.set_yticks([-0.5, 0.5])\n",
    "# Ensure nice border between colors\n",
    "ax.set_xticklabels([\"\" for _ in range(n)])\n",
    "\n",
    "# Add labels to x-axis:\n",
    "ax.set_xticks(np.arange(n))\n",
    "ax.set_xticklabels(palette_dict_colors_only.keys(), ha=\"center\")\n",
    "\n",
    "# The proper way to set no ticks on y-axis\n",
    "ax.yaxis.set_major_locator(ticker.NullLocator())\n",
    "\n",
    "genetools.plots.wrap_tick_labels(ax, wrap_amount=10)"
   ]
  },
  {
   "cell_type": "code",
   "execution_count": null,
   "metadata": {},
   "outputs": [],
   "source": []
  },
  {
   "cell_type": "markdown",
   "metadata": {},
   "source": [
    "## CoV2 antigens, IgG, IgM, and IgA only, except N antigen\n",
    "\n",
    "Using subset of data:\n",
    "\n",
    "- `infection_cohort1`\n",
    "- Pfizer vaccine data, original version (new version no longer has IgM or IgA data, only IgG)"
   ]
  },
  {
   "cell_type": "code",
   "execution_count": 27,
   "metadata": {
    "execution": {
     "iopub.execute_input": "2022-01-15T22:13:38.004187Z",
     "iopub.status.busy": "2022-01-15T22:13:38.002672Z",
     "iopub.status.idle": "2022-01-15T22:13:38.007560Z",
     "shell.execute_reply": "2022-01-15T22:13:38.008791Z"
    }
   },
   "outputs": [
    {
     "data": {
      "text/plain": [
       "AnnData object with n_obs × n_vars = 157 × 135\n",
       "    obs: 'COVID Positive Ever?', 'Status', 'source_cohort', 'Death', 'Exposure', 'Exposure Type', 'n_genes'\n",
       "    var: 'virus', 'target', 'variant_plate_type', 'antibody', 'timepoint'"
      ]
     },
     "execution_count": 1,
     "metadata": {},
     "output_type": "execute_result"
    }
   ],
   "source": [
    "adata_coronavirus_plate_subset"
   ]
  },
  {
   "cell_type": "code",
   "execution_count": 28,
   "metadata": {
    "execution": {
     "iopub.execute_input": "2022-01-15T22:13:38.018043Z",
     "iopub.status.busy": "2022-01-15T22:13:38.016713Z",
     "iopub.status.idle": "2022-01-15T22:13:38.021272Z",
     "shell.execute_reply": "2022-01-15T22:13:38.022599Z"
    }
   },
   "outputs": [
    {
     "data": {
      "text/plain": [
       "infection_cohort1    98\n",
       "Pfizer_vaccine       59\n",
       "Name: source_cohort, dtype: int64"
      ]
     },
     "execution_count": 1,
     "metadata": {},
     "output_type": "execute_result"
    }
   ],
   "source": [
    "adata_coronavirus_plate_subset.obs[\"source_cohort\"].value_counts()"
   ]
  },
  {
   "cell_type": "code",
   "execution_count": 29,
   "metadata": {
    "execution": {
     "iopub.execute_input": "2022-01-15T22:13:38.057662Z",
     "iopub.status.busy": "2022-01-15T22:13:38.056164Z",
     "iopub.status.idle": "2022-01-15T22:13:38.061648Z",
     "shell.execute_reply": "2022-01-15T22:13:38.063169Z"
    }
   },
   "outputs": [
    {
     "data": {
      "text/html": [
       "<div>\n",
       "<style scoped>\n",
       "    .dataframe tbody tr th:only-of-type {\n",
       "        vertical-align: middle;\n",
       "    }\n",
       "\n",
       "    .dataframe tbody tr th {\n",
       "        vertical-align: top;\n",
       "    }\n",
       "\n",
       "    .dataframe thead th {\n",
       "        text-align: right;\n",
       "    }\n",
       "</style>\n",
       "<table border=\"1\" class=\"dataframe\">\n",
       "  <thead>\n",
       "    <tr style=\"text-align: right;\">\n",
       "      <th></th>\n",
       "      <th>virus</th>\n",
       "      <th>target</th>\n",
       "      <th>variant_plate_type</th>\n",
       "      <th>antibody</th>\n",
       "      <th>timepoint</th>\n",
       "    </tr>\n",
       "    <tr>\n",
       "      <th>varname</th>\n",
       "      <th></th>\n",
       "      <th></th>\n",
       "      <th></th>\n",
       "      <th></th>\n",
       "      <th></th>\n",
       "    </tr>\n",
       "  </thead>\n",
       "  <tbody>\n",
       "    <tr>\n",
       "      <th>Wuhan_S_Wuhan_IgG_day 0 / pre-pandemic</th>\n",
       "      <td>Wuhan</td>\n",
       "      <td>S</td>\n",
       "      <td>Wuhan</td>\n",
       "      <td>IgG</td>\n",
       "      <td>day 0 / pre-pandemic</td>\n",
       "    </tr>\n",
       "    <tr>\n",
       "      <th>NL63_S_Wuhan_IgG_day 0 / pre-pandemic</th>\n",
       "      <td>NL63</td>\n",
       "      <td>S</td>\n",
       "      <td>Wuhan</td>\n",
       "      <td>IgG</td>\n",
       "      <td>day 0 / pre-pandemic</td>\n",
       "    </tr>\n",
       "    <tr>\n",
       "      <th>Wuhan_N_Wuhan_IgG_day 0 / pre-pandemic</th>\n",
       "      <td>Wuhan</td>\n",
       "      <td>N</td>\n",
       "      <td>Wuhan</td>\n",
       "      <td>IgG</td>\n",
       "      <td>day 0 / pre-pandemic</td>\n",
       "    </tr>\n",
       "    <tr>\n",
       "      <th>CoV1_S_Wuhan_IgG_day 0 / pre-pandemic</th>\n",
       "      <td>CoV1</td>\n",
       "      <td>S</td>\n",
       "      <td>Wuhan</td>\n",
       "      <td>IgG</td>\n",
       "      <td>day 0 / pre-pandemic</td>\n",
       "    </tr>\n",
       "    <tr>\n",
       "      <th>Wuhan_NTD_Wuhan_IgG_day 0 / pre-pandemic</th>\n",
       "      <td>Wuhan</td>\n",
       "      <td>NTD</td>\n",
       "      <td>Wuhan</td>\n",
       "      <td>IgG</td>\n",
       "      <td>day 0 / pre-pandemic</td>\n",
       "    </tr>\n",
       "    <tr>\n",
       "      <th>...</th>\n",
       "      <td>...</td>\n",
       "      <td>...</td>\n",
       "      <td>...</td>\n",
       "      <td>...</td>\n",
       "      <td>...</td>\n",
       "    </tr>\n",
       "    <tr>\n",
       "      <th>Wuhan_NTD_Wuhan_IgA_day 42 / weeks 5&amp;6</th>\n",
       "      <td>Wuhan</td>\n",
       "      <td>NTD</td>\n",
       "      <td>Wuhan</td>\n",
       "      <td>IgA</td>\n",
       "      <td>day 42 / weeks 5&amp;6</td>\n",
       "    </tr>\n",
       "    <tr>\n",
       "      <th>HKU1_S_Wuhan_IgA_day 42 / weeks 5&amp;6</th>\n",
       "      <td>HKU1</td>\n",
       "      <td>S</td>\n",
       "      <td>Wuhan</td>\n",
       "      <td>IgA</td>\n",
       "      <td>day 42 / weeks 5&amp;6</td>\n",
       "    </tr>\n",
       "    <tr>\n",
       "      <th>OC43_S_Wuhan_IgA_day 42 / weeks 5&amp;6</th>\n",
       "      <td>OC43</td>\n",
       "      <td>S</td>\n",
       "      <td>Wuhan</td>\n",
       "      <td>IgA</td>\n",
       "      <td>day 42 / weeks 5&amp;6</td>\n",
       "    </tr>\n",
       "    <tr>\n",
       "      <th>h229E_S_Wuhan_IgA_day 42 / weeks 5&amp;6</th>\n",
       "      <td>h229E</td>\n",
       "      <td>S</td>\n",
       "      <td>Wuhan</td>\n",
       "      <td>IgA</td>\n",
       "      <td>day 42 / weeks 5&amp;6</td>\n",
       "    </tr>\n",
       "    <tr>\n",
       "      <th>Wuhan_RBD_Wuhan_IgA_day 42 / weeks 5&amp;6</th>\n",
       "      <td>Wuhan</td>\n",
       "      <td>RBD</td>\n",
       "      <td>Wuhan</td>\n",
       "      <td>IgA</td>\n",
       "      <td>day 42 / weeks 5&amp;6</td>\n",
       "    </tr>\n",
       "  </tbody>\n",
       "</table>\n",
       "<p>135 rows × 5 columns</p>\n",
       "</div>"
      ],
      "text/plain": [
       "                                          virus target variant_plate_type  \\\n",
       "varname                                                                     \n",
       "Wuhan_S_Wuhan_IgG_day 0 / pre-pandemic    Wuhan      S              Wuhan   \n",
       "NL63_S_Wuhan_IgG_day 0 / pre-pandemic      NL63      S              Wuhan   \n",
       "Wuhan_N_Wuhan_IgG_day 0 / pre-pandemic    Wuhan      N              Wuhan   \n",
       "CoV1_S_Wuhan_IgG_day 0 / pre-pandemic      CoV1      S              Wuhan   \n",
       "Wuhan_NTD_Wuhan_IgG_day 0 / pre-pandemic  Wuhan    NTD              Wuhan   \n",
       "...                                         ...    ...                ...   \n",
       "Wuhan_NTD_Wuhan_IgA_day 42 / weeks 5&6    Wuhan    NTD              Wuhan   \n",
       "HKU1_S_Wuhan_IgA_day 42 / weeks 5&6        HKU1      S              Wuhan   \n",
       "OC43_S_Wuhan_IgA_day 42 / weeks 5&6        OC43      S              Wuhan   \n",
       "h229E_S_Wuhan_IgA_day 42 / weeks 5&6      h229E      S              Wuhan   \n",
       "Wuhan_RBD_Wuhan_IgA_day 42 / weeks 5&6    Wuhan    RBD              Wuhan   \n",
       "\n",
       "                                         antibody             timepoint  \n",
       "varname                                                                  \n",
       "Wuhan_S_Wuhan_IgG_day 0 / pre-pandemic        IgG  day 0 / pre-pandemic  \n",
       "NL63_S_Wuhan_IgG_day 0 / pre-pandemic         IgG  day 0 / pre-pandemic  \n",
       "Wuhan_N_Wuhan_IgG_day 0 / pre-pandemic        IgG  day 0 / pre-pandemic  \n",
       "CoV1_S_Wuhan_IgG_day 0 / pre-pandemic         IgG  day 0 / pre-pandemic  \n",
       "Wuhan_NTD_Wuhan_IgG_day 0 / pre-pandemic      IgG  day 0 / pre-pandemic  \n",
       "...                                           ...                   ...  \n",
       "Wuhan_NTD_Wuhan_IgA_day 42 / weeks 5&6        IgA    day 42 / weeks 5&6  \n",
       "HKU1_S_Wuhan_IgA_day 42 / weeks 5&6           IgA    day 42 / weeks 5&6  \n",
       "OC43_S_Wuhan_IgA_day 42 / weeks 5&6           IgA    day 42 / weeks 5&6  \n",
       "h229E_S_Wuhan_IgA_day 42 / weeks 5&6          IgA    day 42 / weeks 5&6  \n",
       "Wuhan_RBD_Wuhan_IgA_day 42 / weeks 5&6        IgA    day 42 / weeks 5&6  \n",
       "\n",
       "[135 rows x 5 columns]"
      ]
     },
     "execution_count": 1,
     "metadata": {},
     "output_type": "execute_result"
    }
   ],
   "source": [
    "adata_coronavirus_plate_subset.var"
   ]
  },
  {
   "cell_type": "code",
   "execution_count": 30,
   "metadata": {
    "execution": {
     "iopub.execute_input": "2022-01-15T22:13:38.073742Z",
     "iopub.status.busy": "2022-01-15T22:13:38.071462Z",
     "iopub.status.idle": "2022-01-15T22:13:50.553064Z",
     "shell.execute_reply": "2022-01-15T22:13:50.551385Z"
    }
   },
   "outputs": [
    {
     "name": "stdout",
     "output_type": "stream",
     "text": [
      "filtered out 24 cells that have less than 9 genes expressed\n"
     ]
    },
    {
     "name": "stdout",
     "output_type": "stream",
     "text": [
      "filtered out 105 cells that have less than 9 genes expressed\n"
     ]
    },
    {
     "name": "stdout",
     "output_type": "stream",
     "text": [
      "filtered out 67 cells that have less than 9 genes expressed\n"
     ]
    },
    {
     "name": "stderr",
     "output_type": "stream",
     "text": [
      "Fewer than two source cohorts for timepoint day 0 / pre-pandemic - skipping.\n"
     ]
    },
    {
     "name": "stdout",
     "output_type": "stream",
     "text": [
      "filtered out 24 cells that have less than 9 genes expressed\n"
     ]
    },
    {
     "name": "stdout",
     "output_type": "stream",
     "text": [
      "filtered out 80 cells that have less than 9 genes expressed\n"
     ]
    },
    {
     "name": "stdout",
     "output_type": "stream",
     "text": [
      "filtered out 76 cells that have less than 9 genes expressed\n"
     ]
    }
   ],
   "source": [
    "_ = transform_and_plot_pcas_multiple_timepoints_against_common_reference(\n",
    "    adata=adata_coronavirus_plate_subset[\n",
    "        :,\n",
    "        (adata_coronavirus_plate_subset.var[\"virus\"] == \"Wuhan\")\n",
    "        & (adata_coronavirus_plate_subset.var[\"target\"] != \"N\"),\n",
    "    ],\n",
    "    plot_name=\"cov2_all_except_N\",\n",
    "    palette_dict=palette_dict,\n",
    "    colors_to_plot=colors_to_plot,\n",
    "    reference_timepoint=reference_timepoint_wuhan_comparison,\n",
    "    timepoint_sort_order=timepoint_sort_order,\n",
    ")"
   ]
  },
  {
   "cell_type": "code",
   "execution_count": null,
   "metadata": {},
   "outputs": [],
   "source": []
  },
  {
   "cell_type": "code",
   "execution_count": null,
   "metadata": {},
   "outputs": [],
   "source": []
  },
  {
   "cell_type": "markdown",
   "metadata": {
    "lines_to_next_cell": 2
   },
   "source": [
    "## Time course PCA of variant ratios for `infection_cohort2` patients and Pfizer vaccinees AND variant infections\n",
    "at each timepoint, only choose subjects who don't violate any p11 cutoffs at that timepoint."
   ]
  },
  {
   "cell_type": "code",
   "execution_count": 31,
   "metadata": {
    "execution": {
     "iopub.execute_input": "2022-01-15T22:13:50.573666Z",
     "iopub.status.busy": "2022-01-15T22:13:50.572144Z",
     "iopub.status.idle": "2022-01-15T22:13:50.577414Z",
     "shell.execute_reply": "2022-01-15T22:13:50.578932Z"
    }
   },
   "outputs": [
    {
     "data": {
      "text/plain": [
       "Mongolia_vaccine_variant_plate    131\n",
       "infection_cohort2_all              74\n",
       "Pfizer_all                         53\n",
       "variant_infections                 37\n",
       "Name: source_cohort, dtype: int64"
      ]
     },
     "execution_count": 1,
     "metadata": {},
     "output_type": "execute_result"
    }
   ],
   "source": [
    "adata_variant_ratios.obs[\"source_cohort\"].value_counts()"
   ]
  },
  {
   "cell_type": "code",
   "execution_count": null,
   "metadata": {},
   "outputs": [],
   "source": []
  },
  {
   "cell_type": "code",
   "execution_count": 32,
   "metadata": {
    "execution": {
     "iopub.execute_input": "2022-01-15T22:13:50.597373Z",
     "iopub.status.busy": "2022-01-15T22:13:50.593720Z",
     "iopub.status.idle": "2022-01-15T22:13:50.614654Z",
     "shell.execute_reply": "2022-01-15T22:13:50.616204Z"
    }
   },
   "outputs": [
    {
     "data": {
      "text/plain": [
       "Mild                                           58\n",
       "Vaccinee                                       53\n",
       "Variant Infection - Delta                      21\n",
       "Variant Infection - Delta - mRNA vaccinated    12\n",
       "Critical                                        7\n",
       "Moderate                                        6\n",
       "Variant Infection - Alpha                       4\n",
       "Severe                                          2\n",
       "Asymptomatic                                    1\n",
       "Name: Status, dtype: int64"
      ]
     },
     "execution_count": 1,
     "metadata": {},
     "output_type": "execute_result"
    }
   ],
   "source": [
    "# subset to cohorts\n",
    "adata_variant_ratios_time_course_with_variant_infections = adata_variant_ratios[\n",
    "    adata_variant_ratios.obs[\"source_cohort\"].isin(\n",
    "        [\"infection_cohort2_all\", \"Pfizer_all\", \"variant_infections\"]\n",
    "    )\n",
    "].copy()\n",
    "adata_variant_ratios_time_course_with_variant_infections.obs[\"Status\"].value_counts()"
   ]
  },
  {
   "cell_type": "code",
   "execution_count": 33,
   "metadata": {
    "execution": {
     "iopub.execute_input": "2022-01-15T22:13:50.623790Z",
     "iopub.status.busy": "2022-01-15T22:13:50.622262Z",
     "iopub.status.idle": "2022-01-15T22:13:50.627514Z",
     "shell.execute_reply": "2022-01-15T22:13:50.628892Z"
    }
   },
   "outputs": [
    {
     "data": {
      "text/plain": [
       "AnnData object with n_obs × n_vars = 164 × 72\n",
       "    obs: 'Timepoint', 'First_dose_vaccine', 'Second_dose_vaccine', 'Status', 'source_cohort', 'Death', 'Variant', 'Vaccine', 'COVID Positive Ever?', 'Exposure', 'Exposure Type', 'cutoff_column_to_check', 'any_p11_cutoffs_violated', 'any_p11_cutoffs_violated:boostD1/2', 'any_p11_cutoffs_violated:boostD21', 'any_p11_cutoffs_violated:boostD7/8', 'any_p11_cutoffs_violated:day 0 / pre-pandemic', 'any_p11_cutoffs_violated:day 21 / weeks 2&3', 'any_p11_cutoffs_violated:day 210 / 7 months', 'any_p11_cutoffs_violated:day 28 / week 4', 'any_p11_cutoffs_violated:week 7 and later / 3 months', 'n_genes'\n",
       "    var: 'denominator', 'virus', 'target', 'variant_plate_type', 'antibody', 'timepoint', 'numerator'"
      ]
     },
     "execution_count": 1,
     "metadata": {},
     "output_type": "execute_result"
    }
   ],
   "source": [
    "adata_variant_ratios_time_course_with_variant_infections"
   ]
  },
  {
   "cell_type": "code",
   "execution_count": null,
   "metadata": {},
   "outputs": [],
   "source": []
  },
  {
   "cell_type": "code",
   "execution_count": 34,
   "metadata": {
    "execution": {
     "iopub.execute_input": "2022-01-15T22:13:50.647026Z",
     "iopub.status.busy": "2022-01-15T22:13:50.642093Z",
     "iopub.status.idle": "2022-01-15T22:13:50.660936Z",
     "shell.execute_reply": "2022-01-15T22:13:50.662456Z"
    }
   },
   "outputs": [
    {
     "data": {
      "text/plain": [
       "Mild                         58\n",
       "Vaccinee                     53\n",
       "Variant Infection - Delta    21\n",
       "Critical                      7\n",
       "Moderate                      6\n",
       "Variant Infection - Alpha     4\n",
       "Severe                        2\n",
       "Asymptomatic                  1\n",
       "Name: Status, dtype: int64"
      ]
     },
     "execution_count": 1,
     "metadata": {},
     "output_type": "execute_result"
    }
   ],
   "source": [
    "# also subset to not being a breakthrough infection\n",
    "adata_variant_ratios_time_course_with_variant_infections = (\n",
    "    adata_variant_ratios_time_course_with_variant_infections[\n",
    "        adata_variant_ratios_time_course_with_variant_infections.obs[\"Status\"]\n",
    "        != \"Variant Infection - Delta - mRNA vaccinated\"\n",
    "    ].copy()\n",
    ")\n",
    "adata_variant_ratios_time_course_with_variant_infections.obs[\"Status\"].value_counts()"
   ]
  },
  {
   "cell_type": "code",
   "execution_count": 35,
   "metadata": {
    "execution": {
     "iopub.execute_input": "2022-01-15T22:13:50.668876Z",
     "iopub.status.busy": "2022-01-15T22:13:50.667491Z",
     "iopub.status.idle": "2022-01-15T22:13:50.671829Z",
     "shell.execute_reply": "2022-01-15T22:13:50.673030Z"
    }
   },
   "outputs": [
    {
     "data": {
      "text/plain": [
       "AnnData object with n_obs × n_vars = 152 × 72\n",
       "    obs: 'Timepoint', 'First_dose_vaccine', 'Second_dose_vaccine', 'Status', 'source_cohort', 'Death', 'Variant', 'Vaccine', 'COVID Positive Ever?', 'Exposure', 'Exposure Type', 'cutoff_column_to_check', 'any_p11_cutoffs_violated', 'any_p11_cutoffs_violated:boostD1/2', 'any_p11_cutoffs_violated:boostD21', 'any_p11_cutoffs_violated:boostD7/8', 'any_p11_cutoffs_violated:day 0 / pre-pandemic', 'any_p11_cutoffs_violated:day 21 / weeks 2&3', 'any_p11_cutoffs_violated:day 210 / 7 months', 'any_p11_cutoffs_violated:day 28 / week 4', 'any_p11_cutoffs_violated:week 7 and later / 3 months', 'n_genes'\n",
       "    var: 'denominator', 'virus', 'target', 'variant_plate_type', 'antibody', 'timepoint', 'numerator'"
      ]
     },
     "execution_count": 1,
     "metadata": {},
     "output_type": "execute_result"
    }
   ],
   "source": [
    "adata_variant_ratios_time_course_with_variant_infections"
   ]
  },
  {
   "cell_type": "code",
   "execution_count": null,
   "metadata": {},
   "outputs": [],
   "source": []
  },
  {
   "cell_type": "code",
   "execution_count": 36,
   "metadata": {
    "execution": {
     "iopub.execute_input": "2022-01-15T22:13:50.681277Z",
     "iopub.status.busy": "2022-01-15T22:13:50.680125Z",
     "iopub.status.idle": "2022-01-15T22:13:50.683994Z",
     "shell.execute_reply": "2022-01-15T22:13:50.685098Z"
    }
   },
   "outputs": [
    {
     "data": {
      "text/plain": [
       "False    90\n",
       "True     62\n",
       "Name: any_p11_cutoffs_violated, dtype: int64"
      ]
     },
     "execution_count": 1,
     "metadata": {},
     "output_type": "execute_result"
    }
   ],
   "source": [
    "adata_variant_ratios_time_course_with_variant_infections.obs[\n",
    "    \"any_p11_cutoffs_violated\"\n",
    "].value_counts()"
   ]
  },
  {
   "cell_type": "code",
   "execution_count": 37,
   "metadata": {
    "execution": {
     "iopub.execute_input": "2022-01-15T22:13:50.694986Z",
     "iopub.status.busy": "2022-01-15T22:13:50.694005Z",
     "iopub.status.idle": "2022-01-15T22:13:50.698750Z",
     "shell.execute_reply": "2022-01-15T22:13:50.699998Z"
    },
    "tags": []
   },
   "outputs": [
    {
     "data": {
      "text/plain": [
       "False    149\n",
       "True       3\n",
       "Name: any_p11_cutoffs_violated:day 28 / week 4, dtype: int64"
      ]
     },
     "execution_count": 1,
     "metadata": {},
     "output_type": "execute_result"
    }
   ],
   "source": [
    "# timepoint specific cutoffs violated columns:\n",
    "adata_variant_ratios_time_course_with_variant_infections.obs[\n",
    "    \"any_p11_cutoffs_violated:day 28 / week 4\"\n",
    "].value_counts()"
   ]
  },
  {
   "cell_type": "code",
   "execution_count": 38,
   "metadata": {
    "execution": {
     "iopub.execute_input": "2022-01-15T22:13:50.738779Z",
     "iopub.status.busy": "2022-01-15T22:13:50.737213Z",
     "iopub.status.idle": "2022-01-15T22:13:50.743172Z",
     "shell.execute_reply": "2022-01-15T22:13:50.744680Z"
    },
    "tags": []
   },
   "outputs": [
    {
     "data": {
      "text/html": [
       "<div>\n",
       "<style scoped>\n",
       "    .dataframe tbody tr th:only-of-type {\n",
       "        vertical-align: middle;\n",
       "    }\n",
       "\n",
       "    .dataframe tbody tr th {\n",
       "        vertical-align: top;\n",
       "    }\n",
       "\n",
       "    .dataframe thead th {\n",
       "        text-align: right;\n",
       "    }\n",
       "</style>\n",
       "<table border=\"1\" class=\"dataframe\">\n",
       "  <thead>\n",
       "    <tr style=\"text-align: right;\">\n",
       "      <th></th>\n",
       "      <th>denominator</th>\n",
       "      <th>virus</th>\n",
       "      <th>target</th>\n",
       "      <th>variant_plate_type</th>\n",
       "      <th>antibody</th>\n",
       "      <th>timepoint</th>\n",
       "      <th>numerator</th>\n",
       "    </tr>\n",
       "    <tr>\n",
       "      <th>combined_name</th>\n",
       "      <th></th>\n",
       "      <th></th>\n",
       "      <th></th>\n",
       "      <th></th>\n",
       "      <th></th>\n",
       "      <th></th>\n",
       "      <th></th>\n",
       "    </tr>\n",
       "  </thead>\n",
       "  <tbody>\n",
       "    <tr>\n",
       "      <th>ratio:Wuhan_RBD_Variant_IgG_boostD1/2:Epsilon_RBD_Variant_IgG_boostD1/2</th>\n",
       "      <td>Epsilon_RBD_Variant_IgG_boostD1/2</td>\n",
       "      <td>Epsilon</td>\n",
       "      <td>RBD</td>\n",
       "      <td>Variant</td>\n",
       "      <td>IgG</td>\n",
       "      <td>boostD1/2</td>\n",
       "      <td>Wuhan_RBD_Variant_IgG_boostD1/2</td>\n",
       "    </tr>\n",
       "    <tr>\n",
       "      <th>ratio:Wuhan_RBD_Variant_IgG_boostD1/2:Beta_RBD_Variant_IgG_boostD1/2</th>\n",
       "      <td>Beta_RBD_Variant_IgG_boostD1/2</td>\n",
       "      <td>Beta</td>\n",
       "      <td>RBD</td>\n",
       "      <td>Variant</td>\n",
       "      <td>IgG</td>\n",
       "      <td>boostD1/2</td>\n",
       "      <td>Wuhan_RBD_Variant_IgG_boostD1/2</td>\n",
       "    </tr>\n",
       "    <tr>\n",
       "      <th>ratio:Wuhan_RBD_Variant_IgG_boostD1/2:Iota_RBD_Variant_IgG_boostD1/2</th>\n",
       "      <td>Iota_RBD_Variant_IgG_boostD1/2</td>\n",
       "      <td>Iota</td>\n",
       "      <td>RBD</td>\n",
       "      <td>Variant</td>\n",
       "      <td>IgG</td>\n",
       "      <td>boostD1/2</td>\n",
       "      <td>Wuhan_RBD_Variant_IgG_boostD1/2</td>\n",
       "    </tr>\n",
       "    <tr>\n",
       "      <th>ratio:Wuhan_RBD_Variant_IgG_boostD1/2:Gamma_RBD_Variant_IgG_boostD1/2</th>\n",
       "      <td>Gamma_RBD_Variant_IgG_boostD1/2</td>\n",
       "      <td>Gamma</td>\n",
       "      <td>RBD</td>\n",
       "      <td>Variant</td>\n",
       "      <td>IgG</td>\n",
       "      <td>boostD1/2</td>\n",
       "      <td>Wuhan_RBD_Variant_IgG_boostD1/2</td>\n",
       "    </tr>\n",
       "    <tr>\n",
       "      <th>ratio:Wuhan_RBD_Variant_IgG_boostD1/2:B.1.526.2_RBD_Variant_IgG_boostD1/2</th>\n",
       "      <td>B.1.526.2_RBD_Variant_IgG_boostD1/2</td>\n",
       "      <td>B.1.526.2</td>\n",
       "      <td>RBD</td>\n",
       "      <td>Variant</td>\n",
       "      <td>IgG</td>\n",
       "      <td>boostD1/2</td>\n",
       "      <td>Wuhan_RBD_Variant_IgG_boostD1/2</td>\n",
       "    </tr>\n",
       "    <tr>\n",
       "      <th>...</th>\n",
       "      <td>...</td>\n",
       "      <td>...</td>\n",
       "      <td>...</td>\n",
       "      <td>...</td>\n",
       "      <td>...</td>\n",
       "      <td>...</td>\n",
       "      <td>...</td>\n",
       "    </tr>\n",
       "    <tr>\n",
       "      <th>ratio:Wuhan_RBD_Variant_IgG_week 7 and later / 3 months:B.1.526.2_RBD_Variant_IgG_week 7 and later / 3 months</th>\n",
       "      <td>B.1.526.2_RBD_Variant_IgG_week 7 and later / 3...</td>\n",
       "      <td>B.1.526.2</td>\n",
       "      <td>RBD</td>\n",
       "      <td>Variant</td>\n",
       "      <td>IgG</td>\n",
       "      <td>week 7 and later / 3 months</td>\n",
       "      <td>Wuhan_RBD_Variant_IgG_week 7 and later / 3 months</td>\n",
       "    </tr>\n",
       "    <tr>\n",
       "      <th>ratio:Wuhan_RBD_Variant_IgG_week 7 and later / 3 months:Alpha_RBD_Variant_IgG_week 7 and later / 3 months</th>\n",
       "      <td>Alpha_RBD_Variant_IgG_week 7 and later / 3 months</td>\n",
       "      <td>Alpha</td>\n",
       "      <td>RBD</td>\n",
       "      <td>Variant</td>\n",
       "      <td>IgG</td>\n",
       "      <td>week 7 and later / 3 months</td>\n",
       "      <td>Wuhan_RBD_Variant_IgG_week 7 and later / 3 months</td>\n",
       "    </tr>\n",
       "    <tr>\n",
       "      <th>ratio:Wuhan_RBD_Variant_IgG_week 7 and later / 3 months:P.3_RBD_Variant_IgG_week 7 and later / 3 months</th>\n",
       "      <td>P.3_RBD_Variant_IgG_week 7 and later / 3 months</td>\n",
       "      <td>P.3</td>\n",
       "      <td>RBD</td>\n",
       "      <td>Variant</td>\n",
       "      <td>IgG</td>\n",
       "      <td>week 7 and later / 3 months</td>\n",
       "      <td>Wuhan_RBD_Variant_IgG_week 7 and later / 3 months</td>\n",
       "    </tr>\n",
       "    <tr>\n",
       "      <th>ratio:Wuhan_RBD_Variant_IgG_week 7 and later / 3 months:Kappa_RBD_Variant_IgG_week 7 and later / 3 months</th>\n",
       "      <td>Kappa_RBD_Variant_IgG_week 7 and later / 3 months</td>\n",
       "      <td>Kappa</td>\n",
       "      <td>RBD</td>\n",
       "      <td>Variant</td>\n",
       "      <td>IgG</td>\n",
       "      <td>week 7 and later / 3 months</td>\n",
       "      <td>Wuhan_RBD_Variant_IgG_week 7 and later / 3 months</td>\n",
       "    </tr>\n",
       "    <tr>\n",
       "      <th>ratio:Wuhan_RBD_Variant_IgG_week 7 and later / 3 months:Delta_RBD_Variant_IgG_week 7 and later / 3 months</th>\n",
       "      <td>Delta_RBD_Variant_IgG_week 7 and later / 3 months</td>\n",
       "      <td>Delta</td>\n",
       "      <td>RBD</td>\n",
       "      <td>Variant</td>\n",
       "      <td>IgG</td>\n",
       "      <td>week 7 and later / 3 months</td>\n",
       "      <td>Wuhan_RBD_Variant_IgG_week 7 and later / 3 months</td>\n",
       "    </tr>\n",
       "  </tbody>\n",
       "</table>\n",
       "<p>72 rows × 7 columns</p>\n",
       "</div>"
      ],
      "text/plain": [
       "                                                                                          denominator  \\\n",
       "combined_name                                                                                           \n",
       "ratio:Wuhan_RBD_Variant_IgG_boostD1/2:Epsilon_R...                  Epsilon_RBD_Variant_IgG_boostD1/2   \n",
       "ratio:Wuhan_RBD_Variant_IgG_boostD1/2:Beta_RBD_...                     Beta_RBD_Variant_IgG_boostD1/2   \n",
       "ratio:Wuhan_RBD_Variant_IgG_boostD1/2:Iota_RBD_...                     Iota_RBD_Variant_IgG_boostD1/2   \n",
       "ratio:Wuhan_RBD_Variant_IgG_boostD1/2:Gamma_RBD...                    Gamma_RBD_Variant_IgG_boostD1/2   \n",
       "ratio:Wuhan_RBD_Variant_IgG_boostD1/2:B.1.526.2...                B.1.526.2_RBD_Variant_IgG_boostD1/2   \n",
       "...                                                                                               ...   \n",
       "ratio:Wuhan_RBD_Variant_IgG_week 7 and later / ...  B.1.526.2_RBD_Variant_IgG_week 7 and later / 3...   \n",
       "ratio:Wuhan_RBD_Variant_IgG_week 7 and later / ...  Alpha_RBD_Variant_IgG_week 7 and later / 3 months   \n",
       "ratio:Wuhan_RBD_Variant_IgG_week 7 and later / ...    P.3_RBD_Variant_IgG_week 7 and later / 3 months   \n",
       "ratio:Wuhan_RBD_Variant_IgG_week 7 and later / ...  Kappa_RBD_Variant_IgG_week 7 and later / 3 months   \n",
       "ratio:Wuhan_RBD_Variant_IgG_week 7 and later / ...  Delta_RBD_Variant_IgG_week 7 and later / 3 months   \n",
       "\n",
       "                                                        virus target  \\\n",
       "combined_name                                                          \n",
       "ratio:Wuhan_RBD_Variant_IgG_boostD1/2:Epsilon_R...    Epsilon    RBD   \n",
       "ratio:Wuhan_RBD_Variant_IgG_boostD1/2:Beta_RBD_...       Beta    RBD   \n",
       "ratio:Wuhan_RBD_Variant_IgG_boostD1/2:Iota_RBD_...       Iota    RBD   \n",
       "ratio:Wuhan_RBD_Variant_IgG_boostD1/2:Gamma_RBD...      Gamma    RBD   \n",
       "ratio:Wuhan_RBD_Variant_IgG_boostD1/2:B.1.526.2...  B.1.526.2    RBD   \n",
       "...                                                       ...    ...   \n",
       "ratio:Wuhan_RBD_Variant_IgG_week 7 and later / ...  B.1.526.2    RBD   \n",
       "ratio:Wuhan_RBD_Variant_IgG_week 7 and later / ...      Alpha    RBD   \n",
       "ratio:Wuhan_RBD_Variant_IgG_week 7 and later / ...        P.3    RBD   \n",
       "ratio:Wuhan_RBD_Variant_IgG_week 7 and later / ...      Kappa    RBD   \n",
       "ratio:Wuhan_RBD_Variant_IgG_week 7 and later / ...      Delta    RBD   \n",
       "\n",
       "                                                   variant_plate_type  \\\n",
       "combined_name                                                           \n",
       "ratio:Wuhan_RBD_Variant_IgG_boostD1/2:Epsilon_R...            Variant   \n",
       "ratio:Wuhan_RBD_Variant_IgG_boostD1/2:Beta_RBD_...            Variant   \n",
       "ratio:Wuhan_RBD_Variant_IgG_boostD1/2:Iota_RBD_...            Variant   \n",
       "ratio:Wuhan_RBD_Variant_IgG_boostD1/2:Gamma_RBD...            Variant   \n",
       "ratio:Wuhan_RBD_Variant_IgG_boostD1/2:B.1.526.2...            Variant   \n",
       "...                                                               ...   \n",
       "ratio:Wuhan_RBD_Variant_IgG_week 7 and later / ...            Variant   \n",
       "ratio:Wuhan_RBD_Variant_IgG_week 7 and later / ...            Variant   \n",
       "ratio:Wuhan_RBD_Variant_IgG_week 7 and later / ...            Variant   \n",
       "ratio:Wuhan_RBD_Variant_IgG_week 7 and later / ...            Variant   \n",
       "ratio:Wuhan_RBD_Variant_IgG_week 7 and later / ...            Variant   \n",
       "\n",
       "                                                   antibody  \\\n",
       "combined_name                                                 \n",
       "ratio:Wuhan_RBD_Variant_IgG_boostD1/2:Epsilon_R...      IgG   \n",
       "ratio:Wuhan_RBD_Variant_IgG_boostD1/2:Beta_RBD_...      IgG   \n",
       "ratio:Wuhan_RBD_Variant_IgG_boostD1/2:Iota_RBD_...      IgG   \n",
       "ratio:Wuhan_RBD_Variant_IgG_boostD1/2:Gamma_RBD...      IgG   \n",
       "ratio:Wuhan_RBD_Variant_IgG_boostD1/2:B.1.526.2...      IgG   \n",
       "...                                                     ...   \n",
       "ratio:Wuhan_RBD_Variant_IgG_week 7 and later / ...      IgG   \n",
       "ratio:Wuhan_RBD_Variant_IgG_week 7 and later / ...      IgG   \n",
       "ratio:Wuhan_RBD_Variant_IgG_week 7 and later / ...      IgG   \n",
       "ratio:Wuhan_RBD_Variant_IgG_week 7 and later / ...      IgG   \n",
       "ratio:Wuhan_RBD_Variant_IgG_week 7 and later / ...      IgG   \n",
       "\n",
       "                                                                      timepoint  \\\n",
       "combined_name                                                                     \n",
       "ratio:Wuhan_RBD_Variant_IgG_boostD1/2:Epsilon_R...                    boostD1/2   \n",
       "ratio:Wuhan_RBD_Variant_IgG_boostD1/2:Beta_RBD_...                    boostD1/2   \n",
       "ratio:Wuhan_RBD_Variant_IgG_boostD1/2:Iota_RBD_...                    boostD1/2   \n",
       "ratio:Wuhan_RBD_Variant_IgG_boostD1/2:Gamma_RBD...                    boostD1/2   \n",
       "ratio:Wuhan_RBD_Variant_IgG_boostD1/2:B.1.526.2...                    boostD1/2   \n",
       "...                                                                         ...   \n",
       "ratio:Wuhan_RBD_Variant_IgG_week 7 and later / ...  week 7 and later / 3 months   \n",
       "ratio:Wuhan_RBD_Variant_IgG_week 7 and later / ...  week 7 and later / 3 months   \n",
       "ratio:Wuhan_RBD_Variant_IgG_week 7 and later / ...  week 7 and later / 3 months   \n",
       "ratio:Wuhan_RBD_Variant_IgG_week 7 and later / ...  week 7 and later / 3 months   \n",
       "ratio:Wuhan_RBD_Variant_IgG_week 7 and later / ...  week 7 and later / 3 months   \n",
       "\n",
       "                                                                                            numerator  \n",
       "combined_name                                                                                          \n",
       "ratio:Wuhan_RBD_Variant_IgG_boostD1/2:Epsilon_R...                    Wuhan_RBD_Variant_IgG_boostD1/2  \n",
       "ratio:Wuhan_RBD_Variant_IgG_boostD1/2:Beta_RBD_...                    Wuhan_RBD_Variant_IgG_boostD1/2  \n",
       "ratio:Wuhan_RBD_Variant_IgG_boostD1/2:Iota_RBD_...                    Wuhan_RBD_Variant_IgG_boostD1/2  \n",
       "ratio:Wuhan_RBD_Variant_IgG_boostD1/2:Gamma_RBD...                    Wuhan_RBD_Variant_IgG_boostD1/2  \n",
       "ratio:Wuhan_RBD_Variant_IgG_boostD1/2:B.1.526.2...                    Wuhan_RBD_Variant_IgG_boostD1/2  \n",
       "...                                                                                               ...  \n",
       "ratio:Wuhan_RBD_Variant_IgG_week 7 and later / ...  Wuhan_RBD_Variant_IgG_week 7 and later / 3 months  \n",
       "ratio:Wuhan_RBD_Variant_IgG_week 7 and later / ...  Wuhan_RBD_Variant_IgG_week 7 and later / 3 months  \n",
       "ratio:Wuhan_RBD_Variant_IgG_week 7 and later / ...  Wuhan_RBD_Variant_IgG_week 7 and later / 3 months  \n",
       "ratio:Wuhan_RBD_Variant_IgG_week 7 and later / ...  Wuhan_RBD_Variant_IgG_week 7 and later / 3 months  \n",
       "ratio:Wuhan_RBD_Variant_IgG_week 7 and later / ...  Wuhan_RBD_Variant_IgG_week 7 and later / 3 months  \n",
       "\n",
       "[72 rows x 7 columns]"
      ]
     },
     "execution_count": 1,
     "metadata": {},
     "output_type": "execute_result"
    }
   ],
   "source": [
    "adata_variant_ratios_time_course_with_variant_infections.var"
   ]
  },
  {
   "cell_type": "code",
   "execution_count": null,
   "metadata": {},
   "outputs": [],
   "source": []
  },
  {
   "cell_type": "code",
   "execution_count": 39,
   "metadata": {
    "execution": {
     "iopub.execute_input": "2022-01-15T22:13:50.751280Z",
     "iopub.status.busy": "2022-01-15T22:13:50.750039Z",
     "iopub.status.idle": "2022-01-15T22:14:03.697537Z",
     "shell.execute_reply": "2022-01-15T22:14:03.698825Z"
    }
   },
   "outputs": [
    {
     "name": "stdout",
     "output_type": "stream",
     "text": [
      "filtered out 60 cells that have less than 9 genes expressed\n"
     ]
    },
    {
     "name": "stdout",
     "output_type": "stream",
     "text": [
      "filtered out 130 cells that have less than 9 genes expressed\n"
     ]
    },
    {
     "name": "stdout",
     "output_type": "stream",
     "text": [
      "filtered out 137 cells that have less than 9 genes expressed\n"
     ]
    },
    {
     "name": "stdout",
     "output_type": "stream",
     "text": [
      "filtered out 149 cells that have less than 9 genes expressed\n"
     ]
    },
    {
     "name": "stdout",
     "output_type": "stream",
     "text": [
      "filtered out 109 cells that have less than 9 genes expressed\n"
     ]
    },
    {
     "name": "stderr",
     "output_type": "stream",
     "text": [
      "Timepoint boostD1/2: removing 3 rows due to plate 11 cutoffs.\n",
      "Fewer than two source cohorts for timepoint boostD1/2 - skipping.\n",
      "Timepoint boostD7/8: removing 0 rows due to plate 11 cutoffs.\n",
      "Fewer than two source cohorts for timepoint boostD7/8 - skipping.\n",
      "Timepoint boostD21: removing 0 rows due to plate 11 cutoffs.\n",
      "Fewer than two source cohorts for timepoint boostD21 - skipping.\n",
      "Timepoint day 0 / pre-pandemic: removing 41 rows due to plate 11 cutoffs.\n"
     ]
    },
    {
     "name": "stdout",
     "output_type": "stream",
     "text": [
      "filtered out 92 cells that have less than 9 genes expressed\n"
     ]
    },
    {
     "name": "stderr",
     "output_type": "stream",
     "text": [
      "Fewer than two source cohorts for timepoint day 0 / pre-pandemic - skipping.\n",
      "Timepoint day 21 / weeks 2&3: removing 7 rows due to plate 11 cutoffs.\n"
     ]
    },
    {
     "name": "stdout",
     "output_type": "stream",
     "text": [
      "filtered out 60 cells that have less than 9 genes expressed\n"
     ]
    },
    {
     "name": "stderr",
     "output_type": "stream",
     "text": [
      "Timepoint day 28 / week 4: removing 3 rows due to plate 11 cutoffs.\n"
     ]
    },
    {
     "name": "stdout",
     "output_type": "stream",
     "text": [
      "filtered out 95 cells that have less than 9 genes expressed\n"
     ]
    },
    {
     "name": "stderr",
     "output_type": "stream",
     "text": [
      "Timepoint day 210 / 7 months: removing 11 rows due to plate 11 cutoffs.\n"
     ]
    },
    {
     "name": "stdout",
     "output_type": "stream",
     "text": [
      "filtered out 88 cells that have less than 9 genes expressed\n"
     ]
    },
    {
     "name": "stderr",
     "output_type": "stream",
     "text": [
      "Timepoint week 7 and later / 3 months: removing 6 rows due to plate 11 cutoffs.\n"
     ]
    }
   ],
   "source": [
    "adata_variant_ratios_time_course_with_variant_infections_figure_data = (\n",
    "    transform_and_plot_pcas_multiple_timepoints_against_common_reference(\n",
    "        adata=adata_variant_ratios_time_course_with_variant_infections,\n",
    "        plot_name=\"variants_with_variant_infections\",\n",
    "        palette_dict=palette_dict,\n",
    "        colors_to_plot=colors_to_plot,\n",
    "        reference_timepoint=reference_timepoint_variant_comparison,\n",
    "        enforce_cutoffs=True,\n",
    "        timepoint_sort_order=timepoint_sort_order,\n",
    "    )\n",
    ")"
   ]
  },
  {
   "cell_type": "code",
   "execution_count": null,
   "metadata": {},
   "outputs": [],
   "source": []
  },
  {
   "cell_type": "markdown",
   "metadata": {},
   "source": [
    "### Export exactly the samples that are in the figure (i.e. passed cutoffs)"
   ]
  },
  {
   "cell_type": "code",
   "execution_count": 40,
   "metadata": {
    "execution": {
     "iopub.execute_input": "2022-01-15T22:14:03.710076Z",
     "iopub.status.busy": "2022-01-15T22:14:03.708557Z",
     "iopub.status.idle": "2022-01-15T22:14:03.714000Z",
     "shell.execute_reply": "2022-01-15T22:14:03.715540Z"
    }
   },
   "outputs": [
    {
     "data": {
      "text/plain": [
       "[('day 21 / weeks 2&3',\n",
       "  AnnData object with n_obs × n_vars = 53 × 9\n",
       "      obs: 'Timepoint', 'First_dose_vaccine', 'Second_dose_vaccine', 'Status', 'source_cohort', 'Death', 'Variant', 'Vaccine', 'COVID Positive Ever?', 'Exposure', 'Exposure Type', 'cutoff_column_to_check', 'any_p11_cutoffs_violated', 'any_p11_cutoffs_violated:boostD1/2', 'any_p11_cutoffs_violated:boostD21', 'any_p11_cutoffs_violated:boostD7/8', 'any_p11_cutoffs_violated:day 0 / pre-pandemic', 'any_p11_cutoffs_violated:day 21 / weeks 2&3', 'any_p11_cutoffs_violated:day 210 / 7 months', 'any_p11_cutoffs_violated:day 28 / week 4', 'any_p11_cutoffs_violated:week 7 and later / 3 months', 'n_genes'\n",
       "      var: 'denominator', 'virus', 'target', 'variant_plate_type', 'antibody', 'timepoint', 'numerator', 'n_cells'\n",
       "      uns: 'pca'\n",
       "      obsm: 'X_pca'\n",
       "      varm: 'PCs'),\n",
       " ('day 28 / week 4',\n",
       "  AnnData object with n_obs × n_vars = 89 × 9\n",
       "      obs: 'Timepoint', 'First_dose_vaccine', 'Second_dose_vaccine', 'Status', 'source_cohort', 'Death', 'Variant', 'Vaccine', 'COVID Positive Ever?', 'Exposure', 'Exposure Type', 'cutoff_column_to_check', 'any_p11_cutoffs_violated', 'any_p11_cutoffs_violated:boostD1/2', 'any_p11_cutoffs_violated:boostD21', 'any_p11_cutoffs_violated:boostD7/8', 'any_p11_cutoffs_violated:day 0 / pre-pandemic', 'any_p11_cutoffs_violated:day 21 / weeks 2&3', 'any_p11_cutoffs_violated:day 210 / 7 months', 'any_p11_cutoffs_violated:day 28 / week 4', 'any_p11_cutoffs_violated:week 7 and later / 3 months', 'n_genes'\n",
       "      var: 'denominator', 'virus', 'target', 'variant_plate_type', 'antibody', 'timepoint', 'numerator', 'n_cells'\n",
       "      uns: 'pca'\n",
       "      obsm: 'X_pca'\n",
       "      varm: 'PCs'),\n",
       " ('week 7 and later / 3 months',\n",
       "  AnnData object with n_obs × n_vars = 58 × 9\n",
       "      obs: 'Timepoint', 'First_dose_vaccine', 'Second_dose_vaccine', 'Status', 'source_cohort', 'Death', 'Variant', 'Vaccine', 'COVID Positive Ever?', 'Exposure', 'Exposure Type', 'cutoff_column_to_check', 'any_p11_cutoffs_violated', 'any_p11_cutoffs_violated:boostD1/2', 'any_p11_cutoffs_violated:boostD21', 'any_p11_cutoffs_violated:boostD7/8', 'any_p11_cutoffs_violated:day 0 / pre-pandemic', 'any_p11_cutoffs_violated:day 21 / weeks 2&3', 'any_p11_cutoffs_violated:day 210 / 7 months', 'any_p11_cutoffs_violated:day 28 / week 4', 'any_p11_cutoffs_violated:week 7 and later / 3 months', 'n_genes'\n",
       "      var: 'denominator', 'virus', 'target', 'variant_plate_type', 'antibody', 'timepoint', 'numerator', 'n_cells'\n",
       "      uns: 'pca'\n",
       "      obsm: 'X_pca'\n",
       "      varm: 'PCs'),\n",
       " ('day 210 / 7 months',\n",
       "  AnnData object with n_obs × n_vars = 46 × 9\n",
       "      obs: 'Timepoint', 'First_dose_vaccine', 'Second_dose_vaccine', 'Status', 'source_cohort', 'Death', 'Variant', 'Vaccine', 'COVID Positive Ever?', 'Exposure', 'Exposure Type', 'cutoff_column_to_check', 'any_p11_cutoffs_violated', 'any_p11_cutoffs_violated:boostD1/2', 'any_p11_cutoffs_violated:boostD21', 'any_p11_cutoffs_violated:boostD7/8', 'any_p11_cutoffs_violated:day 0 / pre-pandemic', 'any_p11_cutoffs_violated:day 21 / weeks 2&3', 'any_p11_cutoffs_violated:day 210 / 7 months', 'any_p11_cutoffs_violated:day 28 / week 4', 'any_p11_cutoffs_violated:week 7 and later / 3 months', 'n_genes'\n",
       "      var: 'denominator', 'virus', 'target', 'variant_plate_type', 'antibody', 'timepoint', 'numerator', 'n_cells'\n",
       "      uns: 'pca'\n",
       "      obsm: 'X_pca'\n",
       "      varm: 'PCs')]"
      ]
     },
     "execution_count": 1,
     "metadata": {},
     "output_type": "execute_result"
    }
   ],
   "source": [
    "adata_variant_ratios_time_course_with_variant_infections_figure_data"
   ]
  },
  {
   "cell_type": "code",
   "execution_count": 41,
   "metadata": {
    "execution": {
     "iopub.execute_input": "2022-01-15T22:14:03.724311Z",
     "iopub.status.busy": "2022-01-15T22:14:03.723097Z",
     "iopub.status.idle": "2022-01-15T22:14:03.728739Z",
     "shell.execute_reply": "2022-01-15T22:14:03.727481Z"
    }
   },
   "outputs": [
    {
     "data": {
      "text/plain": [
       "dict_keys(['day 21 / weeks 2&3', 'day 28 / week 4', 'week 7 and later / 3 months', 'day 210 / 7 months'])"
      ]
     },
     "execution_count": 1,
     "metadata": {},
     "output_type": "execute_result"
    }
   ],
   "source": [
    "# reformat as dict\n",
    "adata_variant_ratios_time_course_with_variant_infections_figure_data = {\n",
    "    timepoint: timepoint_adata_pcaed\n",
    "    for (\n",
    "        timepoint,\n",
    "        timepoint_adata_pcaed,\n",
    "    ) in adata_variant_ratios_time_course_with_variant_infections_figure_data\n",
    "}\n",
    "adata_variant_ratios_time_course_with_variant_infections_figure_data.keys()"
   ]
  },
  {
   "cell_type": "code",
   "execution_count": 42,
   "metadata": {
    "execution": {
     "iopub.execute_input": "2022-01-15T22:14:03.744806Z",
     "iopub.status.busy": "2022-01-15T22:14:03.743452Z",
     "iopub.status.idle": "2022-01-15T22:14:03.748073Z",
     "shell.execute_reply": "2022-01-15T22:14:03.749420Z"
    }
   },
   "outputs": [
    {
     "data": {
      "text/plain": [
       "AnnData object with n_obs × n_vars = 89 × 9\n",
       "    obs: 'Timepoint', 'First_dose_vaccine', 'Second_dose_vaccine', 'Status', 'source_cohort', 'Death', 'Variant', 'Vaccine', 'COVID Positive Ever?', 'Exposure', 'Exposure Type', 'cutoff_column_to_check', 'any_p11_cutoffs_violated', 'any_p11_cutoffs_violated:boostD1/2', 'any_p11_cutoffs_violated:boostD21', 'any_p11_cutoffs_violated:boostD7/8', 'any_p11_cutoffs_violated:day 0 / pre-pandemic', 'any_p11_cutoffs_violated:day 21 / weeks 2&3', 'any_p11_cutoffs_violated:day 210 / 7 months', 'any_p11_cutoffs_violated:day 28 / week 4', 'any_p11_cutoffs_violated:week 7 and later / 3 months', 'n_genes'\n",
       "    var: 'denominator', 'virus', 'target', 'variant_plate_type', 'antibody', 'timepoint', 'numerator', 'n_cells'\n",
       "    uns: 'pca'\n",
       "    obsm: 'X_pca'"
      ]
     },
     "execution_count": 1,
     "metadata": {},
     "output_type": "execute_result"
    }
   ],
   "source": [
    "# get raw data (pre-transforms) for reference timepoint\n",
    "fig_s5b_adata = adata_variant_ratios_time_course_with_variant_infections_figure_data[\n",
    "    reference_timepoint_variant_comparison\n",
    "].raw.to_adata()\n",
    "fig_s5b_adata"
   ]
  },
  {
   "cell_type": "code",
   "execution_count": null,
   "metadata": {},
   "outputs": [],
   "source": []
  },
  {
   "cell_type": "markdown",
   "metadata": {},
   "source": [
    "Alternatively you could use:\n",
    "\n",
    "```\n",
    "fig_s5b_adata = adata_variant_ratios_time_course_with_variant_infections[\n",
    "    adata_variant_ratios_time_course_with_variant_infections.obs[\n",
    "        f\"any_p11_cutoffs_violated:{reference_timepoint_variant_comparison}\"\n",
    "    ]\n",
    "    == False,\n",
    "    adata_variant_ratios_time_course_with_variant_infections.var[\"timepoint\"]\n",
    "    == reference_timepoint_variant_comparison,\n",
    "]\n",
    "fig_s5b_adata = cleanup_adata(fig_s5b_adata)\n",
    "```\n",
    "\n",
    "But that's more error-prone. Let's let the main plotting code handle that logic for us\n",
    "\n",
    "\n",
    "Continue with the export:"
   ]
  },
  {
   "cell_type": "code",
   "execution_count": null,
   "metadata": {},
   "outputs": [],
   "source": []
  },
  {
   "cell_type": "code",
   "execution_count": 43,
   "metadata": {
    "execution": {
     "iopub.execute_input": "2022-01-15T22:14:03.781694Z",
     "iopub.status.busy": "2022-01-15T22:14:03.780201Z",
     "iopub.status.idle": "2022-01-15T22:14:03.786393Z",
     "shell.execute_reply": "2022-01-15T22:14:03.788030Z"
    }
   },
   "outputs": [
    {
     "data": {
      "text/html": [
       "<div>\n",
       "<style scoped>\n",
       "    .dataframe tbody tr th:only-of-type {\n",
       "        vertical-align: middle;\n",
       "    }\n",
       "\n",
       "    .dataframe tbody tr th {\n",
       "        vertical-align: top;\n",
       "    }\n",
       "\n",
       "    .dataframe thead th {\n",
       "        text-align: right;\n",
       "    }\n",
       "</style>\n",
       "<table border=\"1\" class=\"dataframe\">\n",
       "  <thead>\n",
       "    <tr style=\"text-align: right;\">\n",
       "      <th>combined_name</th>\n",
       "      <th>ratio:Wuhan_RBD_Variant_IgG_day 28 / week 4:Epsilon_RBD_Variant_IgG_day 28 / week 4</th>\n",
       "      <th>ratio:Wuhan_RBD_Variant_IgG_day 28 / week 4:Beta_RBD_Variant_IgG_day 28 / week 4</th>\n",
       "      <th>ratio:Wuhan_RBD_Variant_IgG_day 28 / week 4:Iota_RBD_Variant_IgG_day 28 / week 4</th>\n",
       "      <th>ratio:Wuhan_RBD_Variant_IgG_day 28 / week 4:Gamma_RBD_Variant_IgG_day 28 / week 4</th>\n",
       "      <th>ratio:Wuhan_RBD_Variant_IgG_day 28 / week 4:B.1.526.2_RBD_Variant_IgG_day 28 / week 4</th>\n",
       "      <th>ratio:Wuhan_RBD_Variant_IgG_day 28 / week 4:Alpha_RBD_Variant_IgG_day 28 / week 4</th>\n",
       "      <th>ratio:Wuhan_RBD_Variant_IgG_day 28 / week 4:P.3_RBD_Variant_IgG_day 28 / week 4</th>\n",
       "      <th>ratio:Wuhan_RBD_Variant_IgG_day 28 / week 4:Kappa_RBD_Variant_IgG_day 28 / week 4</th>\n",
       "      <th>ratio:Wuhan_RBD_Variant_IgG_day 28 / week 4:Delta_RBD_Variant_IgG_day 28 / week 4</th>\n",
       "    </tr>\n",
       "  </thead>\n",
       "  <tbody>\n",
       "    <tr>\n",
       "      <th>VariantInfection_7</th>\n",
       "      <td>1.601440</td>\n",
       "      <td>6.132034</td>\n",
       "      <td>4.706114</td>\n",
       "      <td>2.938164</td>\n",
       "      <td>1.134944</td>\n",
       "      <td>0.415594</td>\n",
       "      <td>3.052104</td>\n",
       "      <td>2.380566</td>\n",
       "      <td>2.604134</td>\n",
       "    </tr>\n",
       "    <tr>\n",
       "      <th>VariantInfection_8</th>\n",
       "      <td>1.183153</td>\n",
       "      <td>2.875798</td>\n",
       "      <td>3.049274</td>\n",
       "      <td>1.530528</td>\n",
       "      <td>0.951611</td>\n",
       "      <td>0.566536</td>\n",
       "      <td>3.310914</td>\n",
       "      <td>1.864031</td>\n",
       "      <td>1.745396</td>\n",
       "    </tr>\n",
       "    <tr>\n",
       "      <th>VariantInfection_10</th>\n",
       "      <td>1.280355</td>\n",
       "      <td>2.237505</td>\n",
       "      <td>1.614093</td>\n",
       "      <td>1.458479</td>\n",
       "      <td>1.155455</td>\n",
       "      <td>0.897777</td>\n",
       "      <td>1.529394</td>\n",
       "      <td>1.242949</td>\n",
       "      <td>1.637570</td>\n",
       "    </tr>\n",
       "    <tr>\n",
       "      <th>VariantInfection_11</th>\n",
       "      <td>0.603125</td>\n",
       "      <td>4.124524</td>\n",
       "      <td>1.992277</td>\n",
       "      <td>2.399200</td>\n",
       "      <td>1.245564</td>\n",
       "      <td>1.526420</td>\n",
       "      <td>3.590779</td>\n",
       "      <td>0.761188</td>\n",
       "      <td>0.443932</td>\n",
       "    </tr>\n",
       "    <tr>\n",
       "      <th>VariantInfection_33</th>\n",
       "      <td>0.356768</td>\n",
       "      <td>10.908671</td>\n",
       "      <td>1.664127</td>\n",
       "      <td>6.176074</td>\n",
       "      <td>1.197118</td>\n",
       "      <td>3.703083</td>\n",
       "      <td>8.448293</td>\n",
       "      <td>0.469692</td>\n",
       "      <td>0.203085</td>\n",
       "    </tr>\n",
       "    <tr>\n",
       "      <th>...</th>\n",
       "      <td>...</td>\n",
       "      <td>...</td>\n",
       "      <td>...</td>\n",
       "      <td>...</td>\n",
       "      <td>...</td>\n",
       "      <td>...</td>\n",
       "      <td>...</td>\n",
       "      <td>...</td>\n",
       "      <td>...</td>\n",
       "    </tr>\n",
       "    <tr>\n",
       "      <th>cohort2-0212</th>\n",
       "      <td>1.565133</td>\n",
       "      <td>8.064258</td>\n",
       "      <td>4.296547</td>\n",
       "      <td>4.050503</td>\n",
       "      <td>1.138574</td>\n",
       "      <td>1.502563</td>\n",
       "      <td>8.151688</td>\n",
       "      <td>2.103962</td>\n",
       "      <td>2.432643</td>\n",
       "    </tr>\n",
       "    <tr>\n",
       "      <th>cohort2-0215</th>\n",
       "      <td>1.273267</td>\n",
       "      <td>5.295394</td>\n",
       "      <td>2.617568</td>\n",
       "      <td>2.599772</td>\n",
       "      <td>1.138264</td>\n",
       "      <td>1.754188</td>\n",
       "      <td>5.523726</td>\n",
       "      <td>1.568963</td>\n",
       "      <td>1.718973</td>\n",
       "    </tr>\n",
       "    <tr>\n",
       "      <th>cohort2-0218</th>\n",
       "      <td>4.249776</td>\n",
       "      <td>14.282390</td>\n",
       "      <td>9.049357</td>\n",
       "      <td>8.737440</td>\n",
       "      <td>1.106709</td>\n",
       "      <td>2.275734</td>\n",
       "      <td>13.847960</td>\n",
       "      <td>4.874630</td>\n",
       "      <td>5.321623</td>\n",
       "    </tr>\n",
       "    <tr>\n",
       "      <th>cohort2-0219</th>\n",
       "      <td>0.954939</td>\n",
       "      <td>4.808152</td>\n",
       "      <td>2.647341</td>\n",
       "      <td>2.976427</td>\n",
       "      <td>1.213674</td>\n",
       "      <td>1.779617</td>\n",
       "      <td>4.945816</td>\n",
       "      <td>1.222828</td>\n",
       "      <td>1.262787</td>\n",
       "    </tr>\n",
       "    <tr>\n",
       "      <th>cohort2-0222</th>\n",
       "      <td>2.425905</td>\n",
       "      <td>10.486355</td>\n",
       "      <td>4.909334</td>\n",
       "      <td>5.571221</td>\n",
       "      <td>1.039289</td>\n",
       "      <td>1.964931</td>\n",
       "      <td>9.639914</td>\n",
       "      <td>2.854328</td>\n",
       "      <td>3.508854</td>\n",
       "    </tr>\n",
       "  </tbody>\n",
       "</table>\n",
       "<p>89 rows × 9 columns</p>\n",
       "</div>"
      ],
      "text/plain": [
       "combined_name        ratio:Wuhan_RBD_Variant_IgG_day 28 / week 4:Epsilon_RBD_Variant_IgG_day 28 / week 4  \\\n",
       "VariantInfection_7                                            1.601440                                     \n",
       "VariantInfection_8                                            1.183153                                     \n",
       "VariantInfection_10                                           1.280355                                     \n",
       "VariantInfection_11                                           0.603125                                     \n",
       "VariantInfection_33                                           0.356768                                     \n",
       "...                                                                ...                                     \n",
       "cohort2-0212                                                  1.565133                                     \n",
       "cohort2-0215                                                  1.273267                                     \n",
       "cohort2-0218                                                  4.249776                                     \n",
       "cohort2-0219                                                  0.954939                                     \n",
       "cohort2-0222                                                  2.425905                                     \n",
       "\n",
       "combined_name        ratio:Wuhan_RBD_Variant_IgG_day 28 / week 4:Beta_RBD_Variant_IgG_day 28 / week 4  \\\n",
       "VariantInfection_7                                            6.132034                                  \n",
       "VariantInfection_8                                            2.875798                                  \n",
       "VariantInfection_10                                           2.237505                                  \n",
       "VariantInfection_11                                           4.124524                                  \n",
       "VariantInfection_33                                          10.908671                                  \n",
       "...                                                                ...                                  \n",
       "cohort2-0212                                                  8.064258                                  \n",
       "cohort2-0215                                                  5.295394                                  \n",
       "cohort2-0218                                                 14.282390                                  \n",
       "cohort2-0219                                                  4.808152                                  \n",
       "cohort2-0222                                                 10.486355                                  \n",
       "\n",
       "combined_name        ratio:Wuhan_RBD_Variant_IgG_day 28 / week 4:Iota_RBD_Variant_IgG_day 28 / week 4  \\\n",
       "VariantInfection_7                                            4.706114                                  \n",
       "VariantInfection_8                                            3.049274                                  \n",
       "VariantInfection_10                                           1.614093                                  \n",
       "VariantInfection_11                                           1.992277                                  \n",
       "VariantInfection_33                                           1.664127                                  \n",
       "...                                                                ...                                  \n",
       "cohort2-0212                                                  4.296547                                  \n",
       "cohort2-0215                                                  2.617568                                  \n",
       "cohort2-0218                                                  9.049357                                  \n",
       "cohort2-0219                                                  2.647341                                  \n",
       "cohort2-0222                                                  4.909334                                  \n",
       "\n",
       "combined_name        ratio:Wuhan_RBD_Variant_IgG_day 28 / week 4:Gamma_RBD_Variant_IgG_day 28 / week 4  \\\n",
       "VariantInfection_7                                            2.938164                                   \n",
       "VariantInfection_8                                            1.530528                                   \n",
       "VariantInfection_10                                           1.458479                                   \n",
       "VariantInfection_11                                           2.399200                                   \n",
       "VariantInfection_33                                           6.176074                                   \n",
       "...                                                                ...                                   \n",
       "cohort2-0212                                                  4.050503                                   \n",
       "cohort2-0215                                                  2.599772                                   \n",
       "cohort2-0218                                                  8.737440                                   \n",
       "cohort2-0219                                                  2.976427                                   \n",
       "cohort2-0222                                                  5.571221                                   \n",
       "\n",
       "combined_name        ratio:Wuhan_RBD_Variant_IgG_day 28 / week 4:B.1.526.2_RBD_Variant_IgG_day 28 / week 4  \\\n",
       "VariantInfection_7                                            1.134944                                       \n",
       "VariantInfection_8                                            0.951611                                       \n",
       "VariantInfection_10                                           1.155455                                       \n",
       "VariantInfection_11                                           1.245564                                       \n",
       "VariantInfection_33                                           1.197118                                       \n",
       "...                                                                ...                                       \n",
       "cohort2-0212                                                  1.138574                                       \n",
       "cohort2-0215                                                  1.138264                                       \n",
       "cohort2-0218                                                  1.106709                                       \n",
       "cohort2-0219                                                  1.213674                                       \n",
       "cohort2-0222                                                  1.039289                                       \n",
       "\n",
       "combined_name        ratio:Wuhan_RBD_Variant_IgG_day 28 / week 4:Alpha_RBD_Variant_IgG_day 28 / week 4  \\\n",
       "VariantInfection_7                                            0.415594                                   \n",
       "VariantInfection_8                                            0.566536                                   \n",
       "VariantInfection_10                                           0.897777                                   \n",
       "VariantInfection_11                                           1.526420                                   \n",
       "VariantInfection_33                                           3.703083                                   \n",
       "...                                                                ...                                   \n",
       "cohort2-0212                                                  1.502563                                   \n",
       "cohort2-0215                                                  1.754188                                   \n",
       "cohort2-0218                                                  2.275734                                   \n",
       "cohort2-0219                                                  1.779617                                   \n",
       "cohort2-0222                                                  1.964931                                   \n",
       "\n",
       "combined_name        ratio:Wuhan_RBD_Variant_IgG_day 28 / week 4:P.3_RBD_Variant_IgG_day 28 / week 4  \\\n",
       "VariantInfection_7                                            3.052104                                 \n",
       "VariantInfection_8                                            3.310914                                 \n",
       "VariantInfection_10                                           1.529394                                 \n",
       "VariantInfection_11                                           3.590779                                 \n",
       "VariantInfection_33                                           8.448293                                 \n",
       "...                                                                ...                                 \n",
       "cohort2-0212                                                  8.151688                                 \n",
       "cohort2-0215                                                  5.523726                                 \n",
       "cohort2-0218                                                 13.847960                                 \n",
       "cohort2-0219                                                  4.945816                                 \n",
       "cohort2-0222                                                  9.639914                                 \n",
       "\n",
       "combined_name        ratio:Wuhan_RBD_Variant_IgG_day 28 / week 4:Kappa_RBD_Variant_IgG_day 28 / week 4  \\\n",
       "VariantInfection_7                                            2.380566                                   \n",
       "VariantInfection_8                                            1.864031                                   \n",
       "VariantInfection_10                                           1.242949                                   \n",
       "VariantInfection_11                                           0.761188                                   \n",
       "VariantInfection_33                                           0.469692                                   \n",
       "...                                                                ...                                   \n",
       "cohort2-0212                                                  2.103962                                   \n",
       "cohort2-0215                                                  1.568963                                   \n",
       "cohort2-0218                                                  4.874630                                   \n",
       "cohort2-0219                                                  1.222828                                   \n",
       "cohort2-0222                                                  2.854328                                   \n",
       "\n",
       "combined_name        ratio:Wuhan_RBD_Variant_IgG_day 28 / week 4:Delta_RBD_Variant_IgG_day 28 / week 4  \n",
       "VariantInfection_7                                            2.604134                                  \n",
       "VariantInfection_8                                            1.745396                                  \n",
       "VariantInfection_10                                           1.637570                                  \n",
       "VariantInfection_11                                           0.443932                                  \n",
       "VariantInfection_33                                           0.203085                                  \n",
       "...                                                                ...                                  \n",
       "cohort2-0212                                                  2.432643                                  \n",
       "cohort2-0215                                                  1.718973                                  \n",
       "cohort2-0218                                                  5.321623                                  \n",
       "cohort2-0219                                                  1.262787                                  \n",
       "cohort2-0222                                                  3.508854                                  \n",
       "\n",
       "[89 rows x 9 columns]"
      ]
     },
     "execution_count": 1,
     "metadata": {},
     "output_type": "execute_result"
    }
   ],
   "source": [
    "fig_s5b_df = fig_s5b_adata.to_df()\n",
    "fig_s5b_df"
   ]
  },
  {
   "cell_type": "code",
   "execution_count": 44,
   "metadata": {
    "execution": {
     "iopub.execute_input": "2022-01-15T22:14:03.796708Z",
     "iopub.status.busy": "2022-01-15T22:14:03.795774Z",
     "iopub.status.idle": "2022-01-15T22:14:03.800046Z",
     "shell.execute_reply": "2022-01-15T22:14:03.799080Z"
    }
   },
   "outputs": [
    {
     "data": {
      "text/plain": [
       "combined_name\n",
       "ratio:Wuhan_RBD_Variant_IgG_day 28 / week 4:Epsilon_RBD_Variant_IgG_day 28 / week 4      False\n",
       "ratio:Wuhan_RBD_Variant_IgG_day 28 / week 4:Beta_RBD_Variant_IgG_day 28 / week 4         False\n",
       "ratio:Wuhan_RBD_Variant_IgG_day 28 / week 4:Iota_RBD_Variant_IgG_day 28 / week 4         False\n",
       "ratio:Wuhan_RBD_Variant_IgG_day 28 / week 4:Gamma_RBD_Variant_IgG_day 28 / week 4        False\n",
       "ratio:Wuhan_RBD_Variant_IgG_day 28 / week 4:B.1.526.2_RBD_Variant_IgG_day 28 / week 4    False\n",
       "ratio:Wuhan_RBD_Variant_IgG_day 28 / week 4:Alpha_RBD_Variant_IgG_day 28 / week 4        False\n",
       "ratio:Wuhan_RBD_Variant_IgG_day 28 / week 4:P.3_RBD_Variant_IgG_day 28 / week 4          False\n",
       "ratio:Wuhan_RBD_Variant_IgG_day 28 / week 4:Kappa_RBD_Variant_IgG_day 28 / week 4        False\n",
       "ratio:Wuhan_RBD_Variant_IgG_day 28 / week 4:Delta_RBD_Variant_IgG_day 28 / week 4        False\n",
       "dtype: bool"
      ]
     },
     "execution_count": 1,
     "metadata": {},
     "output_type": "execute_result"
    }
   ],
   "source": [
    "fig_s5b_df.isna().any()"
   ]
  },
  {
   "cell_type": "code",
   "execution_count": 45,
   "metadata": {
    "execution": {
     "iopub.execute_input": "2022-01-15T22:14:03.821420Z",
     "iopub.status.busy": "2022-01-15T22:14:03.819911Z",
     "iopub.status.idle": "2022-01-15T22:14:03.825354Z",
     "shell.execute_reply": "2022-01-15T22:14:03.826853Z"
    }
   },
   "outputs": [
    {
     "data": {
      "text/html": [
       "<div>\n",
       "<style scoped>\n",
       "    .dataframe tbody tr th:only-of-type {\n",
       "        vertical-align: middle;\n",
       "    }\n",
       "\n",
       "    .dataframe tbody tr th {\n",
       "        vertical-align: top;\n",
       "    }\n",
       "\n",
       "    .dataframe thead th {\n",
       "        text-align: right;\n",
       "    }\n",
       "</style>\n",
       "<table border=\"1\" class=\"dataframe\">\n",
       "  <thead>\n",
       "    <tr style=\"text-align: right;\">\n",
       "      <th></th>\n",
       "      <th>participant</th>\n",
       "      <th>var_name</th>\n",
       "      <th>ratio_value</th>\n",
       "    </tr>\n",
       "  </thead>\n",
       "  <tbody>\n",
       "    <tr>\n",
       "      <th>0</th>\n",
       "      <td>VariantInfection_7</td>\n",
       "      <td>ratio:Wuhan_RBD_Variant_IgG_day 28 / week 4:Ep...</td>\n",
       "      <td>1.601440</td>\n",
       "    </tr>\n",
       "    <tr>\n",
       "      <th>1</th>\n",
       "      <td>VariantInfection_8</td>\n",
       "      <td>ratio:Wuhan_RBD_Variant_IgG_day 28 / week 4:Ep...</td>\n",
       "      <td>1.183153</td>\n",
       "    </tr>\n",
       "    <tr>\n",
       "      <th>2</th>\n",
       "      <td>VariantInfection_10</td>\n",
       "      <td>ratio:Wuhan_RBD_Variant_IgG_day 28 / week 4:Ep...</td>\n",
       "      <td>1.280355</td>\n",
       "    </tr>\n",
       "    <tr>\n",
       "      <th>3</th>\n",
       "      <td>VariantInfection_11</td>\n",
       "      <td>ratio:Wuhan_RBD_Variant_IgG_day 28 / week 4:Ep...</td>\n",
       "      <td>0.603125</td>\n",
       "    </tr>\n",
       "    <tr>\n",
       "      <th>4</th>\n",
       "      <td>VariantInfection_33</td>\n",
       "      <td>ratio:Wuhan_RBD_Variant_IgG_day 28 / week 4:Ep...</td>\n",
       "      <td>0.356768</td>\n",
       "    </tr>\n",
       "    <tr>\n",
       "      <th>...</th>\n",
       "      <td>...</td>\n",
       "      <td>...</td>\n",
       "      <td>...</td>\n",
       "    </tr>\n",
       "    <tr>\n",
       "      <th>796</th>\n",
       "      <td>cohort2-0212</td>\n",
       "      <td>ratio:Wuhan_RBD_Variant_IgG_day 28 / week 4:De...</td>\n",
       "      <td>2.432643</td>\n",
       "    </tr>\n",
       "    <tr>\n",
       "      <th>797</th>\n",
       "      <td>cohort2-0215</td>\n",
       "      <td>ratio:Wuhan_RBD_Variant_IgG_day 28 / week 4:De...</td>\n",
       "      <td>1.718973</td>\n",
       "    </tr>\n",
       "    <tr>\n",
       "      <th>798</th>\n",
       "      <td>cohort2-0218</td>\n",
       "      <td>ratio:Wuhan_RBD_Variant_IgG_day 28 / week 4:De...</td>\n",
       "      <td>5.321623</td>\n",
       "    </tr>\n",
       "    <tr>\n",
       "      <th>799</th>\n",
       "      <td>cohort2-0219</td>\n",
       "      <td>ratio:Wuhan_RBD_Variant_IgG_day 28 / week 4:De...</td>\n",
       "      <td>1.262787</td>\n",
       "    </tr>\n",
       "    <tr>\n",
       "      <th>800</th>\n",
       "      <td>cohort2-0222</td>\n",
       "      <td>ratio:Wuhan_RBD_Variant_IgG_day 28 / week 4:De...</td>\n",
       "      <td>3.508854</td>\n",
       "    </tr>\n",
       "  </tbody>\n",
       "</table>\n",
       "<p>801 rows × 3 columns</p>\n",
       "</div>"
      ],
      "text/plain": [
       "             participant                                           var_name  \\\n",
       "0     VariantInfection_7  ratio:Wuhan_RBD_Variant_IgG_day 28 / week 4:Ep...   \n",
       "1     VariantInfection_8  ratio:Wuhan_RBD_Variant_IgG_day 28 / week 4:Ep...   \n",
       "2    VariantInfection_10  ratio:Wuhan_RBD_Variant_IgG_day 28 / week 4:Ep...   \n",
       "3    VariantInfection_11  ratio:Wuhan_RBD_Variant_IgG_day 28 / week 4:Ep...   \n",
       "4    VariantInfection_33  ratio:Wuhan_RBD_Variant_IgG_day 28 / week 4:Ep...   \n",
       "..                   ...                                                ...   \n",
       "796         cohort2-0212  ratio:Wuhan_RBD_Variant_IgG_day 28 / week 4:De...   \n",
       "797         cohort2-0215  ratio:Wuhan_RBD_Variant_IgG_day 28 / week 4:De...   \n",
       "798         cohort2-0218  ratio:Wuhan_RBD_Variant_IgG_day 28 / week 4:De...   \n",
       "799         cohort2-0219  ratio:Wuhan_RBD_Variant_IgG_day 28 / week 4:De...   \n",
       "800         cohort2-0222  ratio:Wuhan_RBD_Variant_IgG_day 28 / week 4:De...   \n",
       "\n",
       "     ratio_value  \n",
       "0       1.601440  \n",
       "1       1.183153  \n",
       "2       1.280355  \n",
       "3       0.603125  \n",
       "4       0.356768  \n",
       "..           ...  \n",
       "796     2.432643  \n",
       "797     1.718973  \n",
       "798     5.321623  \n",
       "799     1.262787  \n",
       "800     3.508854  \n",
       "\n",
       "[801 rows x 3 columns]"
      ]
     },
     "execution_count": 1,
     "metadata": {},
     "output_type": "execute_result"
    }
   ],
   "source": [
    "# Reshape\n",
    "fig_s5b_df = pd.melt(\n",
    "    fig_s5b_df.reset_index(),\n",
    "    id_vars=[\"index\"],\n",
    "    var_name=\"var_name\",\n",
    "    value_name=\"ratio_value\",\n",
    ").rename(columns={\"index\": \"participant\"})\n",
    "fig_s5b_df"
   ]
  },
  {
   "cell_type": "code",
   "execution_count": 46,
   "metadata": {
    "execution": {
     "iopub.execute_input": "2022-01-15T22:14:03.833709Z",
     "iopub.status.busy": "2022-01-15T22:14:03.832494Z",
     "iopub.status.idle": "2022-01-15T22:14:03.836621Z",
     "shell.execute_reply": "2022-01-15T22:14:03.837820Z"
    }
   },
   "outputs": [
    {
     "data": {
      "text/plain": [
       "9"
      ]
     },
     "execution_count": 1,
     "metadata": {},
     "output_type": "execute_result"
    }
   ],
   "source": [
    "fig_s5b_df[\"var_name\"].nunique()"
   ]
  },
  {
   "cell_type": "code",
   "execution_count": 47,
   "metadata": {
    "execution": {
     "iopub.execute_input": "2022-01-15T22:14:03.848956Z",
     "iopub.status.busy": "2022-01-15T22:14:03.848031Z",
     "iopub.status.idle": "2022-01-15T22:14:03.852430Z",
     "shell.execute_reply": "2022-01-15T22:14:03.853769Z"
    }
   },
   "outputs": [
    {
     "data": {
      "text/plain": [
       "VariantInfection_7     Variant Infection - Alpha\n",
       "VariantInfection_8     Variant Infection - Alpha\n",
       "VariantInfection_10    Variant Infection - Alpha\n",
       "VariantInfection_11    Variant Infection - Delta\n",
       "VariantInfection_33    Variant Infection - Delta\n",
       "                                 ...            \n",
       "cohort2-0212              Wuhan Infection - Mild\n",
       "cohort2-0215            Wuhan Infection - Severe\n",
       "cohort2-0218              Wuhan Infection - Mild\n",
       "cohort2-0219              Wuhan Infection - Mild\n",
       "cohort2-0222              Wuhan Infection - Mild\n",
       "Name: Exposure, Length: 89, dtype: category\n",
       "Categories (7, object): ['Pfizer-Pfizer (Stanford)', 'Pfizer-Pfizer (Stanford), CoV2+', 'Variant Infection - Alpha', 'Variant Infection - Delta', 'Wuhan Infection - Mild', 'Wuhan Infection - Moderate', 'Wuhan Infection - Severe']"
      ]
     },
     "execution_count": 1,
     "metadata": {},
     "output_type": "execute_result"
    }
   ],
   "source": [
    "fig_s5b_adata.obs[\"Exposure\"]"
   ]
  },
  {
   "cell_type": "code",
   "execution_count": 48,
   "metadata": {
    "execution": {
     "iopub.execute_input": "2022-01-15T22:14:03.864531Z",
     "iopub.status.busy": "2022-01-15T22:14:03.863001Z",
     "iopub.status.idle": "2022-01-15T22:14:03.883626Z",
     "shell.execute_reply": "2022-01-15T22:14:03.885157Z"
    }
   },
   "outputs": [
    {
     "data": {
      "text/html": [
       "<div>\n",
       "<style scoped>\n",
       "    .dataframe tbody tr th:only-of-type {\n",
       "        vertical-align: middle;\n",
       "    }\n",
       "\n",
       "    .dataframe tbody tr th {\n",
       "        vertical-align: top;\n",
       "    }\n",
       "\n",
       "    .dataframe thead th {\n",
       "        text-align: right;\n",
       "    }\n",
       "</style>\n",
       "<table border=\"1\" class=\"dataframe\">\n",
       "  <thead>\n",
       "    <tr style=\"text-align: right;\">\n",
       "      <th></th>\n",
       "      <th>participant</th>\n",
       "      <th>var_name</th>\n",
       "      <th>ratio_value</th>\n",
       "      <th>exposure</th>\n",
       "    </tr>\n",
       "  </thead>\n",
       "  <tbody>\n",
       "    <tr>\n",
       "      <th>0</th>\n",
       "      <td>VariantInfection_7</td>\n",
       "      <td>ratio:Wuhan_RBD_Variant_IgG_day 28 / week 4:Ep...</td>\n",
       "      <td>1.601440</td>\n",
       "      <td>Variant Infection - Alpha</td>\n",
       "    </tr>\n",
       "    <tr>\n",
       "      <th>1</th>\n",
       "      <td>VariantInfection_8</td>\n",
       "      <td>ratio:Wuhan_RBD_Variant_IgG_day 28 / week 4:Ep...</td>\n",
       "      <td>1.183153</td>\n",
       "      <td>Variant Infection - Alpha</td>\n",
       "    </tr>\n",
       "    <tr>\n",
       "      <th>2</th>\n",
       "      <td>VariantInfection_10</td>\n",
       "      <td>ratio:Wuhan_RBD_Variant_IgG_day 28 / week 4:Ep...</td>\n",
       "      <td>1.280355</td>\n",
       "      <td>Variant Infection - Alpha</td>\n",
       "    </tr>\n",
       "    <tr>\n",
       "      <th>3</th>\n",
       "      <td>VariantInfection_11</td>\n",
       "      <td>ratio:Wuhan_RBD_Variant_IgG_day 28 / week 4:Ep...</td>\n",
       "      <td>0.603125</td>\n",
       "      <td>Variant Infection - Delta</td>\n",
       "    </tr>\n",
       "    <tr>\n",
       "      <th>4</th>\n",
       "      <td>VariantInfection_33</td>\n",
       "      <td>ratio:Wuhan_RBD_Variant_IgG_day 28 / week 4:Ep...</td>\n",
       "      <td>0.356768</td>\n",
       "      <td>Variant Infection - Delta</td>\n",
       "    </tr>\n",
       "    <tr>\n",
       "      <th>...</th>\n",
       "      <td>...</td>\n",
       "      <td>...</td>\n",
       "      <td>...</td>\n",
       "      <td>...</td>\n",
       "    </tr>\n",
       "    <tr>\n",
       "      <th>796</th>\n",
       "      <td>cohort2-0212</td>\n",
       "      <td>ratio:Wuhan_RBD_Variant_IgG_day 28 / week 4:De...</td>\n",
       "      <td>2.432643</td>\n",
       "      <td>Wuhan Infection - Mild</td>\n",
       "    </tr>\n",
       "    <tr>\n",
       "      <th>797</th>\n",
       "      <td>cohort2-0215</td>\n",
       "      <td>ratio:Wuhan_RBD_Variant_IgG_day 28 / week 4:De...</td>\n",
       "      <td>1.718973</td>\n",
       "      <td>Wuhan Infection - Severe</td>\n",
       "    </tr>\n",
       "    <tr>\n",
       "      <th>798</th>\n",
       "      <td>cohort2-0218</td>\n",
       "      <td>ratio:Wuhan_RBD_Variant_IgG_day 28 / week 4:De...</td>\n",
       "      <td>5.321623</td>\n",
       "      <td>Wuhan Infection - Mild</td>\n",
       "    </tr>\n",
       "    <tr>\n",
       "      <th>799</th>\n",
       "      <td>cohort2-0219</td>\n",
       "      <td>ratio:Wuhan_RBD_Variant_IgG_day 28 / week 4:De...</td>\n",
       "      <td>1.262787</td>\n",
       "      <td>Wuhan Infection - Mild</td>\n",
       "    </tr>\n",
       "    <tr>\n",
       "      <th>800</th>\n",
       "      <td>cohort2-0222</td>\n",
       "      <td>ratio:Wuhan_RBD_Variant_IgG_day 28 / week 4:De...</td>\n",
       "      <td>3.508854</td>\n",
       "      <td>Wuhan Infection - Mild</td>\n",
       "    </tr>\n",
       "  </tbody>\n",
       "</table>\n",
       "<p>801 rows × 4 columns</p>\n",
       "</div>"
      ],
      "text/plain": [
       "             participant                                           var_name  \\\n",
       "0     VariantInfection_7  ratio:Wuhan_RBD_Variant_IgG_day 28 / week 4:Ep...   \n",
       "1     VariantInfection_8  ratio:Wuhan_RBD_Variant_IgG_day 28 / week 4:Ep...   \n",
       "2    VariantInfection_10  ratio:Wuhan_RBD_Variant_IgG_day 28 / week 4:Ep...   \n",
       "3    VariantInfection_11  ratio:Wuhan_RBD_Variant_IgG_day 28 / week 4:Ep...   \n",
       "4    VariantInfection_33  ratio:Wuhan_RBD_Variant_IgG_day 28 / week 4:Ep...   \n",
       "..                   ...                                                ...   \n",
       "796         cohort2-0212  ratio:Wuhan_RBD_Variant_IgG_day 28 / week 4:De...   \n",
       "797         cohort2-0215  ratio:Wuhan_RBD_Variant_IgG_day 28 / week 4:De...   \n",
       "798         cohort2-0218  ratio:Wuhan_RBD_Variant_IgG_day 28 / week 4:De...   \n",
       "799         cohort2-0219  ratio:Wuhan_RBD_Variant_IgG_day 28 / week 4:De...   \n",
       "800         cohort2-0222  ratio:Wuhan_RBD_Variant_IgG_day 28 / week 4:De...   \n",
       "\n",
       "     ratio_value                   exposure  \n",
       "0       1.601440  Variant Infection - Alpha  \n",
       "1       1.183153  Variant Infection - Alpha  \n",
       "2       1.280355  Variant Infection - Alpha  \n",
       "3       0.603125  Variant Infection - Delta  \n",
       "4       0.356768  Variant Infection - Delta  \n",
       "..           ...                        ...  \n",
       "796     2.432643     Wuhan Infection - Mild  \n",
       "797     1.718973   Wuhan Infection - Severe  \n",
       "798     5.321623     Wuhan Infection - Mild  \n",
       "799     1.262787     Wuhan Infection - Mild  \n",
       "800     3.508854     Wuhan Infection - Mild  \n",
       "\n",
       "[801 rows x 4 columns]"
      ]
     },
     "execution_count": 1,
     "metadata": {},
     "output_type": "execute_result"
    }
   ],
   "source": [
    "# Merge in Exposure\n",
    "fig_s5b_df = pd.merge(\n",
    "    fig_s5b_df,\n",
    "    fig_s5b_adata.obs[\"Exposure\"].rename(\"exposure\"),\n",
    "    left_on=\"participant\",\n",
    "    right_index=True,\n",
    "    validate=\"m:1\",\n",
    "    how=\"left\",\n",
    ")\n",
    "assert not fig_s5b_df[\"exposure\"].isna().any(), \"merge failed\"\n",
    "fig_s5b_df"
   ]
  },
  {
   "cell_type": "code",
   "execution_count": 49,
   "metadata": {
    "execution": {
     "iopub.execute_input": "2022-01-15T22:14:03.904247Z",
     "iopub.status.busy": "2022-01-15T22:14:03.902707Z",
     "iopub.status.idle": "2022-01-15T22:14:03.908431Z",
     "shell.execute_reply": "2022-01-15T22:14:03.909935Z"
    }
   },
   "outputs": [
    {
     "data": {
      "text/html": [
       "<div>\n",
       "<style scoped>\n",
       "    .dataframe tbody tr th:only-of-type {\n",
       "        vertical-align: middle;\n",
       "    }\n",
       "\n",
       "    .dataframe tbody tr th {\n",
       "        vertical-align: top;\n",
       "    }\n",
       "\n",
       "    .dataframe thead th {\n",
       "        text-align: right;\n",
       "    }\n",
       "</style>\n",
       "<table border=\"1\" class=\"dataframe\">\n",
       "  <thead>\n",
       "    <tr style=\"text-align: right;\">\n",
       "      <th></th>\n",
       "      <th>denominator</th>\n",
       "      <th>virus</th>\n",
       "      <th>target</th>\n",
       "      <th>variant_plate_type</th>\n",
       "      <th>antibody</th>\n",
       "      <th>timepoint</th>\n",
       "      <th>numerator</th>\n",
       "      <th>n_cells</th>\n",
       "    </tr>\n",
       "    <tr>\n",
       "      <th>combined_name</th>\n",
       "      <th></th>\n",
       "      <th></th>\n",
       "      <th></th>\n",
       "      <th></th>\n",
       "      <th></th>\n",
       "      <th></th>\n",
       "      <th></th>\n",
       "      <th></th>\n",
       "    </tr>\n",
       "  </thead>\n",
       "  <tbody>\n",
       "    <tr>\n",
       "      <th>ratio:Wuhan_RBD_Variant_IgG_day 28 / week 4:Epsilon_RBD_Variant_IgG_day 28 / week 4</th>\n",
       "      <td>Epsilon_RBD_Variant_IgG_day 28 / week 4</td>\n",
       "      <td>Epsilon</td>\n",
       "      <td>RBD</td>\n",
       "      <td>Variant</td>\n",
       "      <td>IgG</td>\n",
       "      <td>day 28 / week 4</td>\n",
       "      <td>Wuhan_RBD_Variant_IgG_day 28 / week 4</td>\n",
       "      <td>89</td>\n",
       "    </tr>\n",
       "    <tr>\n",
       "      <th>ratio:Wuhan_RBD_Variant_IgG_day 28 / week 4:Beta_RBD_Variant_IgG_day 28 / week 4</th>\n",
       "      <td>Beta_RBD_Variant_IgG_day 28 / week 4</td>\n",
       "      <td>Beta</td>\n",
       "      <td>RBD</td>\n",
       "      <td>Variant</td>\n",
       "      <td>IgG</td>\n",
       "      <td>day 28 / week 4</td>\n",
       "      <td>Wuhan_RBD_Variant_IgG_day 28 / week 4</td>\n",
       "      <td>89</td>\n",
       "    </tr>\n",
       "    <tr>\n",
       "      <th>ratio:Wuhan_RBD_Variant_IgG_day 28 / week 4:Iota_RBD_Variant_IgG_day 28 / week 4</th>\n",
       "      <td>Iota_RBD_Variant_IgG_day 28 / week 4</td>\n",
       "      <td>Iota</td>\n",
       "      <td>RBD</td>\n",
       "      <td>Variant</td>\n",
       "      <td>IgG</td>\n",
       "      <td>day 28 / week 4</td>\n",
       "      <td>Wuhan_RBD_Variant_IgG_day 28 / week 4</td>\n",
       "      <td>89</td>\n",
       "    </tr>\n",
       "    <tr>\n",
       "      <th>ratio:Wuhan_RBD_Variant_IgG_day 28 / week 4:Gamma_RBD_Variant_IgG_day 28 / week 4</th>\n",
       "      <td>Gamma_RBD_Variant_IgG_day 28 / week 4</td>\n",
       "      <td>Gamma</td>\n",
       "      <td>RBD</td>\n",
       "      <td>Variant</td>\n",
       "      <td>IgG</td>\n",
       "      <td>day 28 / week 4</td>\n",
       "      <td>Wuhan_RBD_Variant_IgG_day 28 / week 4</td>\n",
       "      <td>89</td>\n",
       "    </tr>\n",
       "    <tr>\n",
       "      <th>ratio:Wuhan_RBD_Variant_IgG_day 28 / week 4:B.1.526.2_RBD_Variant_IgG_day 28 / week 4</th>\n",
       "      <td>B.1.526.2_RBD_Variant_IgG_day 28 / week 4</td>\n",
       "      <td>B.1.526.2</td>\n",
       "      <td>RBD</td>\n",
       "      <td>Variant</td>\n",
       "      <td>IgG</td>\n",
       "      <td>day 28 / week 4</td>\n",
       "      <td>Wuhan_RBD_Variant_IgG_day 28 / week 4</td>\n",
       "      <td>89</td>\n",
       "    </tr>\n",
       "    <tr>\n",
       "      <th>ratio:Wuhan_RBD_Variant_IgG_day 28 / week 4:Alpha_RBD_Variant_IgG_day 28 / week 4</th>\n",
       "      <td>Alpha_RBD_Variant_IgG_day 28 / week 4</td>\n",
       "      <td>Alpha</td>\n",
       "      <td>RBD</td>\n",
       "      <td>Variant</td>\n",
       "      <td>IgG</td>\n",
       "      <td>day 28 / week 4</td>\n",
       "      <td>Wuhan_RBD_Variant_IgG_day 28 / week 4</td>\n",
       "      <td>89</td>\n",
       "    </tr>\n",
       "    <tr>\n",
       "      <th>ratio:Wuhan_RBD_Variant_IgG_day 28 / week 4:P.3_RBD_Variant_IgG_day 28 / week 4</th>\n",
       "      <td>P.3_RBD_Variant_IgG_day 28 / week 4</td>\n",
       "      <td>P.3</td>\n",
       "      <td>RBD</td>\n",
       "      <td>Variant</td>\n",
       "      <td>IgG</td>\n",
       "      <td>day 28 / week 4</td>\n",
       "      <td>Wuhan_RBD_Variant_IgG_day 28 / week 4</td>\n",
       "      <td>89</td>\n",
       "    </tr>\n",
       "    <tr>\n",
       "      <th>ratio:Wuhan_RBD_Variant_IgG_day 28 / week 4:Kappa_RBD_Variant_IgG_day 28 / week 4</th>\n",
       "      <td>Kappa_RBD_Variant_IgG_day 28 / week 4</td>\n",
       "      <td>Kappa</td>\n",
       "      <td>RBD</td>\n",
       "      <td>Variant</td>\n",
       "      <td>IgG</td>\n",
       "      <td>day 28 / week 4</td>\n",
       "      <td>Wuhan_RBD_Variant_IgG_day 28 / week 4</td>\n",
       "      <td>89</td>\n",
       "    </tr>\n",
       "    <tr>\n",
       "      <th>ratio:Wuhan_RBD_Variant_IgG_day 28 / week 4:Delta_RBD_Variant_IgG_day 28 / week 4</th>\n",
       "      <td>Delta_RBD_Variant_IgG_day 28 / week 4</td>\n",
       "      <td>Delta</td>\n",
       "      <td>RBD</td>\n",
       "      <td>Variant</td>\n",
       "      <td>IgG</td>\n",
       "      <td>day 28 / week 4</td>\n",
       "      <td>Wuhan_RBD_Variant_IgG_day 28 / week 4</td>\n",
       "      <td>89</td>\n",
       "    </tr>\n",
       "  </tbody>\n",
       "</table>\n",
       "</div>"
      ],
      "text/plain": [
       "                                                                                  denominator  \\\n",
       "combined_name                                                                                   \n",
       "ratio:Wuhan_RBD_Variant_IgG_day 28 / week 4:Eps...    Epsilon_RBD_Variant_IgG_day 28 / week 4   \n",
       "ratio:Wuhan_RBD_Variant_IgG_day 28 / week 4:Bet...       Beta_RBD_Variant_IgG_day 28 / week 4   \n",
       "ratio:Wuhan_RBD_Variant_IgG_day 28 / week 4:Iot...       Iota_RBD_Variant_IgG_day 28 / week 4   \n",
       "ratio:Wuhan_RBD_Variant_IgG_day 28 / week 4:Gam...      Gamma_RBD_Variant_IgG_day 28 / week 4   \n",
       "ratio:Wuhan_RBD_Variant_IgG_day 28 / week 4:B.1...  B.1.526.2_RBD_Variant_IgG_day 28 / week 4   \n",
       "ratio:Wuhan_RBD_Variant_IgG_day 28 / week 4:Alp...      Alpha_RBD_Variant_IgG_day 28 / week 4   \n",
       "ratio:Wuhan_RBD_Variant_IgG_day 28 / week 4:P.3...        P.3_RBD_Variant_IgG_day 28 / week 4   \n",
       "ratio:Wuhan_RBD_Variant_IgG_day 28 / week 4:Kap...      Kappa_RBD_Variant_IgG_day 28 / week 4   \n",
       "ratio:Wuhan_RBD_Variant_IgG_day 28 / week 4:Del...      Delta_RBD_Variant_IgG_day 28 / week 4   \n",
       "\n",
       "                                                        virus target  \\\n",
       "combined_name                                                          \n",
       "ratio:Wuhan_RBD_Variant_IgG_day 28 / week 4:Eps...    Epsilon    RBD   \n",
       "ratio:Wuhan_RBD_Variant_IgG_day 28 / week 4:Bet...       Beta    RBD   \n",
       "ratio:Wuhan_RBD_Variant_IgG_day 28 / week 4:Iot...       Iota    RBD   \n",
       "ratio:Wuhan_RBD_Variant_IgG_day 28 / week 4:Gam...      Gamma    RBD   \n",
       "ratio:Wuhan_RBD_Variant_IgG_day 28 / week 4:B.1...  B.1.526.2    RBD   \n",
       "ratio:Wuhan_RBD_Variant_IgG_day 28 / week 4:Alp...      Alpha    RBD   \n",
       "ratio:Wuhan_RBD_Variant_IgG_day 28 / week 4:P.3...        P.3    RBD   \n",
       "ratio:Wuhan_RBD_Variant_IgG_day 28 / week 4:Kap...      Kappa    RBD   \n",
       "ratio:Wuhan_RBD_Variant_IgG_day 28 / week 4:Del...      Delta    RBD   \n",
       "\n",
       "                                                   variant_plate_type  \\\n",
       "combined_name                                                           \n",
       "ratio:Wuhan_RBD_Variant_IgG_day 28 / week 4:Eps...            Variant   \n",
       "ratio:Wuhan_RBD_Variant_IgG_day 28 / week 4:Bet...            Variant   \n",
       "ratio:Wuhan_RBD_Variant_IgG_day 28 / week 4:Iot...            Variant   \n",
       "ratio:Wuhan_RBD_Variant_IgG_day 28 / week 4:Gam...            Variant   \n",
       "ratio:Wuhan_RBD_Variant_IgG_day 28 / week 4:B.1...            Variant   \n",
       "ratio:Wuhan_RBD_Variant_IgG_day 28 / week 4:Alp...            Variant   \n",
       "ratio:Wuhan_RBD_Variant_IgG_day 28 / week 4:P.3...            Variant   \n",
       "ratio:Wuhan_RBD_Variant_IgG_day 28 / week 4:Kap...            Variant   \n",
       "ratio:Wuhan_RBD_Variant_IgG_day 28 / week 4:Del...            Variant   \n",
       "\n",
       "                                                   antibody        timepoint  \\\n",
       "combined_name                                                                  \n",
       "ratio:Wuhan_RBD_Variant_IgG_day 28 / week 4:Eps...      IgG  day 28 / week 4   \n",
       "ratio:Wuhan_RBD_Variant_IgG_day 28 / week 4:Bet...      IgG  day 28 / week 4   \n",
       "ratio:Wuhan_RBD_Variant_IgG_day 28 / week 4:Iot...      IgG  day 28 / week 4   \n",
       "ratio:Wuhan_RBD_Variant_IgG_day 28 / week 4:Gam...      IgG  day 28 / week 4   \n",
       "ratio:Wuhan_RBD_Variant_IgG_day 28 / week 4:B.1...      IgG  day 28 / week 4   \n",
       "ratio:Wuhan_RBD_Variant_IgG_day 28 / week 4:Alp...      IgG  day 28 / week 4   \n",
       "ratio:Wuhan_RBD_Variant_IgG_day 28 / week 4:P.3...      IgG  day 28 / week 4   \n",
       "ratio:Wuhan_RBD_Variant_IgG_day 28 / week 4:Kap...      IgG  day 28 / week 4   \n",
       "ratio:Wuhan_RBD_Variant_IgG_day 28 / week 4:Del...      IgG  day 28 / week 4   \n",
       "\n",
       "                                                                                numerator  \\\n",
       "combined_name                                                                               \n",
       "ratio:Wuhan_RBD_Variant_IgG_day 28 / week 4:Eps...  Wuhan_RBD_Variant_IgG_day 28 / week 4   \n",
       "ratio:Wuhan_RBD_Variant_IgG_day 28 / week 4:Bet...  Wuhan_RBD_Variant_IgG_day 28 / week 4   \n",
       "ratio:Wuhan_RBD_Variant_IgG_day 28 / week 4:Iot...  Wuhan_RBD_Variant_IgG_day 28 / week 4   \n",
       "ratio:Wuhan_RBD_Variant_IgG_day 28 / week 4:Gam...  Wuhan_RBD_Variant_IgG_day 28 / week 4   \n",
       "ratio:Wuhan_RBD_Variant_IgG_day 28 / week 4:B.1...  Wuhan_RBD_Variant_IgG_day 28 / week 4   \n",
       "ratio:Wuhan_RBD_Variant_IgG_day 28 / week 4:Alp...  Wuhan_RBD_Variant_IgG_day 28 / week 4   \n",
       "ratio:Wuhan_RBD_Variant_IgG_day 28 / week 4:P.3...  Wuhan_RBD_Variant_IgG_day 28 / week 4   \n",
       "ratio:Wuhan_RBD_Variant_IgG_day 28 / week 4:Kap...  Wuhan_RBD_Variant_IgG_day 28 / week 4   \n",
       "ratio:Wuhan_RBD_Variant_IgG_day 28 / week 4:Del...  Wuhan_RBD_Variant_IgG_day 28 / week 4   \n",
       "\n",
       "                                                    n_cells  \n",
       "combined_name                                                \n",
       "ratio:Wuhan_RBD_Variant_IgG_day 28 / week 4:Eps...       89  \n",
       "ratio:Wuhan_RBD_Variant_IgG_day 28 / week 4:Bet...       89  \n",
       "ratio:Wuhan_RBD_Variant_IgG_day 28 / week 4:Iot...       89  \n",
       "ratio:Wuhan_RBD_Variant_IgG_day 28 / week 4:Gam...       89  \n",
       "ratio:Wuhan_RBD_Variant_IgG_day 28 / week 4:B.1...       89  \n",
       "ratio:Wuhan_RBD_Variant_IgG_day 28 / week 4:Alp...       89  \n",
       "ratio:Wuhan_RBD_Variant_IgG_day 28 / week 4:P.3...       89  \n",
       "ratio:Wuhan_RBD_Variant_IgG_day 28 / week 4:Kap...       89  \n",
       "ratio:Wuhan_RBD_Variant_IgG_day 28 / week 4:Del...       89  "
      ]
     },
     "execution_count": 1,
     "metadata": {},
     "output_type": "execute_result"
    }
   ],
   "source": [
    "fig_s5b_adata.var"
   ]
  },
  {
   "cell_type": "code",
   "execution_count": 50,
   "metadata": {
    "execution": {
     "iopub.execute_input": "2022-01-15T22:14:03.918028Z",
     "iopub.status.busy": "2022-01-15T22:14:03.916921Z",
     "iopub.status.idle": "2022-01-15T22:14:03.953135Z",
     "shell.execute_reply": "2022-01-15T22:14:03.954642Z"
    }
   },
   "outputs": [
    {
     "data": {
      "text/html": [
       "<div>\n",
       "<style scoped>\n",
       "    .dataframe tbody tr th:only-of-type {\n",
       "        vertical-align: middle;\n",
       "    }\n",
       "\n",
       "    .dataframe tbody tr th {\n",
       "        vertical-align: top;\n",
       "    }\n",
       "\n",
       "    .dataframe thead th {\n",
       "        text-align: right;\n",
       "    }\n",
       "</style>\n",
       "<table border=\"1\" class=\"dataframe\">\n",
       "  <thead>\n",
       "    <tr style=\"text-align: right;\">\n",
       "      <th></th>\n",
       "      <th>participant</th>\n",
       "      <th>var_name</th>\n",
       "      <th>ratio_value</th>\n",
       "      <th>exposure</th>\n",
       "      <th>denominator</th>\n",
       "      <th>virus</th>\n",
       "      <th>target</th>\n",
       "      <th>variant_plate_type</th>\n",
       "      <th>antibody</th>\n",
       "      <th>timepoint</th>\n",
       "      <th>numerator</th>\n",
       "    </tr>\n",
       "  </thead>\n",
       "  <tbody>\n",
       "    <tr>\n",
       "      <th>0</th>\n",
       "      <td>VariantInfection_7</td>\n",
       "      <td>ratio:Wuhan_RBD_Variant_IgG_day 28 / week 4:Ep...</td>\n",
       "      <td>1.601440</td>\n",
       "      <td>Variant Infection - Alpha</td>\n",
       "      <td>Epsilon_RBD_Variant_IgG_day 28 / week 4</td>\n",
       "      <td>Epsilon</td>\n",
       "      <td>RBD</td>\n",
       "      <td>Variant</td>\n",
       "      <td>IgG</td>\n",
       "      <td>day 28 / week 4</td>\n",
       "      <td>Wuhan_RBD_Variant_IgG_day 28 / week 4</td>\n",
       "    </tr>\n",
       "    <tr>\n",
       "      <th>1</th>\n",
       "      <td>VariantInfection_8</td>\n",
       "      <td>ratio:Wuhan_RBD_Variant_IgG_day 28 / week 4:Ep...</td>\n",
       "      <td>1.183153</td>\n",
       "      <td>Variant Infection - Alpha</td>\n",
       "      <td>Epsilon_RBD_Variant_IgG_day 28 / week 4</td>\n",
       "      <td>Epsilon</td>\n",
       "      <td>RBD</td>\n",
       "      <td>Variant</td>\n",
       "      <td>IgG</td>\n",
       "      <td>day 28 / week 4</td>\n",
       "      <td>Wuhan_RBD_Variant_IgG_day 28 / week 4</td>\n",
       "    </tr>\n",
       "    <tr>\n",
       "      <th>2</th>\n",
       "      <td>VariantInfection_10</td>\n",
       "      <td>ratio:Wuhan_RBD_Variant_IgG_day 28 / week 4:Ep...</td>\n",
       "      <td>1.280355</td>\n",
       "      <td>Variant Infection - Alpha</td>\n",
       "      <td>Epsilon_RBD_Variant_IgG_day 28 / week 4</td>\n",
       "      <td>Epsilon</td>\n",
       "      <td>RBD</td>\n",
       "      <td>Variant</td>\n",
       "      <td>IgG</td>\n",
       "      <td>day 28 / week 4</td>\n",
       "      <td>Wuhan_RBD_Variant_IgG_day 28 / week 4</td>\n",
       "    </tr>\n",
       "    <tr>\n",
       "      <th>3</th>\n",
       "      <td>VariantInfection_11</td>\n",
       "      <td>ratio:Wuhan_RBD_Variant_IgG_day 28 / week 4:Ep...</td>\n",
       "      <td>0.603125</td>\n",
       "      <td>Variant Infection - Delta</td>\n",
       "      <td>Epsilon_RBD_Variant_IgG_day 28 / week 4</td>\n",
       "      <td>Epsilon</td>\n",
       "      <td>RBD</td>\n",
       "      <td>Variant</td>\n",
       "      <td>IgG</td>\n",
       "      <td>day 28 / week 4</td>\n",
       "      <td>Wuhan_RBD_Variant_IgG_day 28 / week 4</td>\n",
       "    </tr>\n",
       "    <tr>\n",
       "      <th>4</th>\n",
       "      <td>VariantInfection_33</td>\n",
       "      <td>ratio:Wuhan_RBD_Variant_IgG_day 28 / week 4:Ep...</td>\n",
       "      <td>0.356768</td>\n",
       "      <td>Variant Infection - Delta</td>\n",
       "      <td>Epsilon_RBD_Variant_IgG_day 28 / week 4</td>\n",
       "      <td>Epsilon</td>\n",
       "      <td>RBD</td>\n",
       "      <td>Variant</td>\n",
       "      <td>IgG</td>\n",
       "      <td>day 28 / week 4</td>\n",
       "      <td>Wuhan_RBD_Variant_IgG_day 28 / week 4</td>\n",
       "    </tr>\n",
       "    <tr>\n",
       "      <th>...</th>\n",
       "      <td>...</td>\n",
       "      <td>...</td>\n",
       "      <td>...</td>\n",
       "      <td>...</td>\n",
       "      <td>...</td>\n",
       "      <td>...</td>\n",
       "      <td>...</td>\n",
       "      <td>...</td>\n",
       "      <td>...</td>\n",
       "      <td>...</td>\n",
       "      <td>...</td>\n",
       "    </tr>\n",
       "    <tr>\n",
       "      <th>796</th>\n",
       "      <td>cohort2-0212</td>\n",
       "      <td>ratio:Wuhan_RBD_Variant_IgG_day 28 / week 4:De...</td>\n",
       "      <td>2.432643</td>\n",
       "      <td>Wuhan Infection - Mild</td>\n",
       "      <td>Delta_RBD_Variant_IgG_day 28 / week 4</td>\n",
       "      <td>Delta</td>\n",
       "      <td>RBD</td>\n",
       "      <td>Variant</td>\n",
       "      <td>IgG</td>\n",
       "      <td>day 28 / week 4</td>\n",
       "      <td>Wuhan_RBD_Variant_IgG_day 28 / week 4</td>\n",
       "    </tr>\n",
       "    <tr>\n",
       "      <th>797</th>\n",
       "      <td>cohort2-0215</td>\n",
       "      <td>ratio:Wuhan_RBD_Variant_IgG_day 28 / week 4:De...</td>\n",
       "      <td>1.718973</td>\n",
       "      <td>Wuhan Infection - Severe</td>\n",
       "      <td>Delta_RBD_Variant_IgG_day 28 / week 4</td>\n",
       "      <td>Delta</td>\n",
       "      <td>RBD</td>\n",
       "      <td>Variant</td>\n",
       "      <td>IgG</td>\n",
       "      <td>day 28 / week 4</td>\n",
       "      <td>Wuhan_RBD_Variant_IgG_day 28 / week 4</td>\n",
       "    </tr>\n",
       "    <tr>\n",
       "      <th>798</th>\n",
       "      <td>cohort2-0218</td>\n",
       "      <td>ratio:Wuhan_RBD_Variant_IgG_day 28 / week 4:De...</td>\n",
       "      <td>5.321623</td>\n",
       "      <td>Wuhan Infection - Mild</td>\n",
       "      <td>Delta_RBD_Variant_IgG_day 28 / week 4</td>\n",
       "      <td>Delta</td>\n",
       "      <td>RBD</td>\n",
       "      <td>Variant</td>\n",
       "      <td>IgG</td>\n",
       "      <td>day 28 / week 4</td>\n",
       "      <td>Wuhan_RBD_Variant_IgG_day 28 / week 4</td>\n",
       "    </tr>\n",
       "    <tr>\n",
       "      <th>799</th>\n",
       "      <td>cohort2-0219</td>\n",
       "      <td>ratio:Wuhan_RBD_Variant_IgG_day 28 / week 4:De...</td>\n",
       "      <td>1.262787</td>\n",
       "      <td>Wuhan Infection - Mild</td>\n",
       "      <td>Delta_RBD_Variant_IgG_day 28 / week 4</td>\n",
       "      <td>Delta</td>\n",
       "      <td>RBD</td>\n",
       "      <td>Variant</td>\n",
       "      <td>IgG</td>\n",
       "      <td>day 28 / week 4</td>\n",
       "      <td>Wuhan_RBD_Variant_IgG_day 28 / week 4</td>\n",
       "    </tr>\n",
       "    <tr>\n",
       "      <th>800</th>\n",
       "      <td>cohort2-0222</td>\n",
       "      <td>ratio:Wuhan_RBD_Variant_IgG_day 28 / week 4:De...</td>\n",
       "      <td>3.508854</td>\n",
       "      <td>Wuhan Infection - Mild</td>\n",
       "      <td>Delta_RBD_Variant_IgG_day 28 / week 4</td>\n",
       "      <td>Delta</td>\n",
       "      <td>RBD</td>\n",
       "      <td>Variant</td>\n",
       "      <td>IgG</td>\n",
       "      <td>day 28 / week 4</td>\n",
       "      <td>Wuhan_RBD_Variant_IgG_day 28 / week 4</td>\n",
       "    </tr>\n",
       "  </tbody>\n",
       "</table>\n",
       "<p>801 rows × 11 columns</p>\n",
       "</div>"
      ],
      "text/plain": [
       "             participant                                           var_name  \\\n",
       "0     VariantInfection_7  ratio:Wuhan_RBD_Variant_IgG_day 28 / week 4:Ep...   \n",
       "1     VariantInfection_8  ratio:Wuhan_RBD_Variant_IgG_day 28 / week 4:Ep...   \n",
       "2    VariantInfection_10  ratio:Wuhan_RBD_Variant_IgG_day 28 / week 4:Ep...   \n",
       "3    VariantInfection_11  ratio:Wuhan_RBD_Variant_IgG_day 28 / week 4:Ep...   \n",
       "4    VariantInfection_33  ratio:Wuhan_RBD_Variant_IgG_day 28 / week 4:Ep...   \n",
       "..                   ...                                                ...   \n",
       "796         cohort2-0212  ratio:Wuhan_RBD_Variant_IgG_day 28 / week 4:De...   \n",
       "797         cohort2-0215  ratio:Wuhan_RBD_Variant_IgG_day 28 / week 4:De...   \n",
       "798         cohort2-0218  ratio:Wuhan_RBD_Variant_IgG_day 28 / week 4:De...   \n",
       "799         cohort2-0219  ratio:Wuhan_RBD_Variant_IgG_day 28 / week 4:De...   \n",
       "800         cohort2-0222  ratio:Wuhan_RBD_Variant_IgG_day 28 / week 4:De...   \n",
       "\n",
       "     ratio_value                   exposure  \\\n",
       "0       1.601440  Variant Infection - Alpha   \n",
       "1       1.183153  Variant Infection - Alpha   \n",
       "2       1.280355  Variant Infection - Alpha   \n",
       "3       0.603125  Variant Infection - Delta   \n",
       "4       0.356768  Variant Infection - Delta   \n",
       "..           ...                        ...   \n",
       "796     2.432643     Wuhan Infection - Mild   \n",
       "797     1.718973   Wuhan Infection - Severe   \n",
       "798     5.321623     Wuhan Infection - Mild   \n",
       "799     1.262787     Wuhan Infection - Mild   \n",
       "800     3.508854     Wuhan Infection - Mild   \n",
       "\n",
       "                                 denominator    virus target  \\\n",
       "0    Epsilon_RBD_Variant_IgG_day 28 / week 4  Epsilon    RBD   \n",
       "1    Epsilon_RBD_Variant_IgG_day 28 / week 4  Epsilon    RBD   \n",
       "2    Epsilon_RBD_Variant_IgG_day 28 / week 4  Epsilon    RBD   \n",
       "3    Epsilon_RBD_Variant_IgG_day 28 / week 4  Epsilon    RBD   \n",
       "4    Epsilon_RBD_Variant_IgG_day 28 / week 4  Epsilon    RBD   \n",
       "..                                       ...      ...    ...   \n",
       "796    Delta_RBD_Variant_IgG_day 28 / week 4    Delta    RBD   \n",
       "797    Delta_RBD_Variant_IgG_day 28 / week 4    Delta    RBD   \n",
       "798    Delta_RBD_Variant_IgG_day 28 / week 4    Delta    RBD   \n",
       "799    Delta_RBD_Variant_IgG_day 28 / week 4    Delta    RBD   \n",
       "800    Delta_RBD_Variant_IgG_day 28 / week 4    Delta    RBD   \n",
       "\n",
       "    variant_plate_type antibody        timepoint  \\\n",
       "0              Variant      IgG  day 28 / week 4   \n",
       "1              Variant      IgG  day 28 / week 4   \n",
       "2              Variant      IgG  day 28 / week 4   \n",
       "3              Variant      IgG  day 28 / week 4   \n",
       "4              Variant      IgG  day 28 / week 4   \n",
       "..                 ...      ...              ...   \n",
       "796            Variant      IgG  day 28 / week 4   \n",
       "797            Variant      IgG  day 28 / week 4   \n",
       "798            Variant      IgG  day 28 / week 4   \n",
       "799            Variant      IgG  day 28 / week 4   \n",
       "800            Variant      IgG  day 28 / week 4   \n",
       "\n",
       "                                 numerator  \n",
       "0    Wuhan_RBD_Variant_IgG_day 28 / week 4  \n",
       "1    Wuhan_RBD_Variant_IgG_day 28 / week 4  \n",
       "2    Wuhan_RBD_Variant_IgG_day 28 / week 4  \n",
       "3    Wuhan_RBD_Variant_IgG_day 28 / week 4  \n",
       "4    Wuhan_RBD_Variant_IgG_day 28 / week 4  \n",
       "..                                     ...  \n",
       "796  Wuhan_RBD_Variant_IgG_day 28 / week 4  \n",
       "797  Wuhan_RBD_Variant_IgG_day 28 / week 4  \n",
       "798  Wuhan_RBD_Variant_IgG_day 28 / week 4  \n",
       "799  Wuhan_RBD_Variant_IgG_day 28 / week 4  \n",
       "800  Wuhan_RBD_Variant_IgG_day 28 / week 4  \n",
       "\n",
       "[801 rows x 11 columns]"
      ]
     },
     "execution_count": 1,
     "metadata": {},
     "output_type": "execute_result"
    }
   ],
   "source": [
    "# Merge in var info\n",
    "fig_s5b_df = pd.merge(\n",
    "    fig_s5b_df,\n",
    "    fig_s5b_adata.var.drop(\"n_cells\", axis=1),\n",
    "    left_on=\"var_name\",\n",
    "    right_index=True,\n",
    "    validate=\"m:1\",\n",
    "    how=\"left\",\n",
    ")\n",
    "assert not fig_s5b_df[\"numerator\"].isna().any(), \"merge failed\"\n",
    "fig_s5b_df"
   ]
  },
  {
   "cell_type": "code",
   "execution_count": 51,
   "metadata": {
    "execution": {
     "iopub.execute_input": "2022-01-15T22:14:03.965983Z",
     "iopub.status.busy": "2022-01-15T22:14:03.964450Z",
     "iopub.status.idle": "2022-01-15T22:14:03.986614Z",
     "shell.execute_reply": "2022-01-15T22:14:03.988146Z"
    }
   },
   "outputs": [
    {
     "data": {
      "text/html": [
       "<div>\n",
       "<style scoped>\n",
       "    .dataframe tbody tr th:only-of-type {\n",
       "        vertical-align: middle;\n",
       "    }\n",
       "\n",
       "    .dataframe tbody tr th {\n",
       "        vertical-align: top;\n",
       "    }\n",
       "\n",
       "    .dataframe thead th {\n",
       "        text-align: right;\n",
       "    }\n",
       "</style>\n",
       "<table border=\"1\" class=\"dataframe\">\n",
       "  <thead>\n",
       "    <tr style=\"text-align: right;\">\n",
       "      <th></th>\n",
       "      <th>participant</th>\n",
       "      <th>exposure</th>\n",
       "      <th>timepoint</th>\n",
       "      <th>ratio_numerator_strain</th>\n",
       "      <th>ratio_denominator_strain</th>\n",
       "      <th>ratio_value</th>\n",
       "    </tr>\n",
       "  </thead>\n",
       "  <tbody>\n",
       "    <tr>\n",
       "      <th>447</th>\n",
       "      <td>VariantInfection_10</td>\n",
       "      <td>Variant Infection - Alpha</td>\n",
       "      <td>day 28 / week 4</td>\n",
       "      <td>Wuhan</td>\n",
       "      <td>Alpha</td>\n",
       "      <td>0.897777</td>\n",
       "    </tr>\n",
       "    <tr>\n",
       "      <th>358</th>\n",
       "      <td>VariantInfection_10</td>\n",
       "      <td>Variant Infection - Alpha</td>\n",
       "      <td>day 28 / week 4</td>\n",
       "      <td>Wuhan</td>\n",
       "      <td>B.1.526.2</td>\n",
       "      <td>1.155455</td>\n",
       "    </tr>\n",
       "    <tr>\n",
       "      <th>91</th>\n",
       "      <td>VariantInfection_10</td>\n",
       "      <td>Variant Infection - Alpha</td>\n",
       "      <td>day 28 / week 4</td>\n",
       "      <td>Wuhan</td>\n",
       "      <td>Beta</td>\n",
       "      <td>2.237505</td>\n",
       "    </tr>\n",
       "    <tr>\n",
       "      <th>714</th>\n",
       "      <td>VariantInfection_10</td>\n",
       "      <td>Variant Infection - Alpha</td>\n",
       "      <td>day 28 / week 4</td>\n",
       "      <td>Wuhan</td>\n",
       "      <td>Delta</td>\n",
       "      <td>1.637570</td>\n",
       "    </tr>\n",
       "    <tr>\n",
       "      <th>2</th>\n",
       "      <td>VariantInfection_10</td>\n",
       "      <td>Variant Infection - Alpha</td>\n",
       "      <td>day 28 / week 4</td>\n",
       "      <td>Wuhan</td>\n",
       "      <td>Epsilon</td>\n",
       "      <td>1.280355</td>\n",
       "    </tr>\n",
       "    <tr>\n",
       "      <th>...</th>\n",
       "      <td>...</td>\n",
       "      <td>...</td>\n",
       "      <td>...</td>\n",
       "      <td>...</td>\n",
       "      <td>...</td>\n",
       "      <td>...</td>\n",
       "    </tr>\n",
       "    <tr>\n",
       "      <th>68</th>\n",
       "      <td>pfizer58</td>\n",
       "      <td>Pfizer-Pfizer (Stanford)</td>\n",
       "      <td>day 28 / week 4</td>\n",
       "      <td>Wuhan</td>\n",
       "      <td>Epsilon</td>\n",
       "      <td>0.680162</td>\n",
       "    </tr>\n",
       "    <tr>\n",
       "      <th>335</th>\n",
       "      <td>pfizer58</td>\n",
       "      <td>Pfizer-Pfizer (Stanford)</td>\n",
       "      <td>day 28 / week 4</td>\n",
       "      <td>Wuhan</td>\n",
       "      <td>Gamma</td>\n",
       "      <td>1.442542</td>\n",
       "    </tr>\n",
       "    <tr>\n",
       "      <th>246</th>\n",
       "      <td>pfizer58</td>\n",
       "      <td>Pfizer-Pfizer (Stanford)</td>\n",
       "      <td>day 28 / week 4</td>\n",
       "      <td>Wuhan</td>\n",
       "      <td>Iota</td>\n",
       "      <td>1.326553</td>\n",
       "    </tr>\n",
       "    <tr>\n",
       "      <th>691</th>\n",
       "      <td>pfizer58</td>\n",
       "      <td>Pfizer-Pfizer (Stanford)</td>\n",
       "      <td>day 28 / week 4</td>\n",
       "      <td>Wuhan</td>\n",
       "      <td>Kappa</td>\n",
       "      <td>0.828217</td>\n",
       "    </tr>\n",
       "    <tr>\n",
       "      <th>602</th>\n",
       "      <td>pfizer58</td>\n",
       "      <td>Pfizer-Pfizer (Stanford)</td>\n",
       "      <td>day 28 / week 4</td>\n",
       "      <td>Wuhan</td>\n",
       "      <td>P.3</td>\n",
       "      <td>2.096835</td>\n",
       "    </tr>\n",
       "  </tbody>\n",
       "</table>\n",
       "<p>801 rows × 6 columns</p>\n",
       "</div>"
      ],
      "text/plain": [
       "             participant                   exposure        timepoint  \\\n",
       "447  VariantInfection_10  Variant Infection - Alpha  day 28 / week 4   \n",
       "358  VariantInfection_10  Variant Infection - Alpha  day 28 / week 4   \n",
       "91   VariantInfection_10  Variant Infection - Alpha  day 28 / week 4   \n",
       "714  VariantInfection_10  Variant Infection - Alpha  day 28 / week 4   \n",
       "2    VariantInfection_10  Variant Infection - Alpha  day 28 / week 4   \n",
       "..                   ...                        ...              ...   \n",
       "68              pfizer58   Pfizer-Pfizer (Stanford)  day 28 / week 4   \n",
       "335             pfizer58   Pfizer-Pfizer (Stanford)  day 28 / week 4   \n",
       "246             pfizer58   Pfizer-Pfizer (Stanford)  day 28 / week 4   \n",
       "691             pfizer58   Pfizer-Pfizer (Stanford)  day 28 / week 4   \n",
       "602             pfizer58   Pfizer-Pfizer (Stanford)  day 28 / week 4   \n",
       "\n",
       "    ratio_numerator_strain ratio_denominator_strain  ratio_value  \n",
       "447                  Wuhan                    Alpha     0.897777  \n",
       "358                  Wuhan                B.1.526.2     1.155455  \n",
       "91                   Wuhan                     Beta     2.237505  \n",
       "714                  Wuhan                    Delta     1.637570  \n",
       "2                    Wuhan                  Epsilon     1.280355  \n",
       "..                     ...                      ...          ...  \n",
       "68                   Wuhan                  Epsilon     0.680162  \n",
       "335                  Wuhan                    Gamma     1.442542  \n",
       "246                  Wuhan                     Iota     1.326553  \n",
       "691                  Wuhan                    Kappa     0.828217  \n",
       "602                  Wuhan                      P.3     2.096835  \n",
       "\n",
       "[801 rows x 6 columns]"
      ]
     },
     "execution_count": 1,
     "metadata": {},
     "output_type": "execute_result"
    }
   ],
   "source": [
    "# Reorder and simplify\n",
    "fig_s5b_df = fig_s5b_df.rename(columns={\"virus\": \"ratio_denominator_strain\"}).assign(\n",
    "    ratio_numerator_strain=\"Wuhan\"\n",
    ")\n",
    "fig_s5b_df = fig_s5b_df[\n",
    "    [\n",
    "        \"participant\",\n",
    "        \"exposure\",\n",
    "        \"timepoint\",\n",
    "        \"ratio_numerator_strain\",\n",
    "        \"ratio_denominator_strain\",\n",
    "        \"ratio_value\",\n",
    "    ]\n",
    "]\n",
    "fig_s5b_df = fig_s5b_df.sort_values([\"participant\", \"ratio_denominator_strain\"])\n",
    "fig_s5b_df"
   ]
  },
  {
   "cell_type": "code",
   "execution_count": 52,
   "metadata": {
    "execution": {
     "iopub.execute_input": "2022-01-15T22:14:03.994674Z",
     "iopub.status.busy": "2022-01-15T22:14:03.993309Z",
     "iopub.status.idle": "2022-01-15T22:14:04.004540Z",
     "shell.execute_reply": "2022-01-15T22:14:04.005783Z"
    }
   },
   "outputs": [],
   "source": [
    "fig_s5b_df.to_csv(\n",
    "    f\"{config.paths.output_dir}/fig_s5b_data_export.tsv\", sep=\"\\t\", index=None\n",
    ")"
   ]
  },
  {
   "cell_type": "code",
   "execution_count": null,
   "metadata": {},
   "outputs": [],
   "source": []
  },
  {
   "cell_type": "code",
   "execution_count": null,
   "metadata": {},
   "outputs": [],
   "source": []
  },
  {
   "cell_type": "code",
   "execution_count": null,
   "metadata": {},
   "outputs": [],
   "source": []
  },
  {
   "cell_type": "markdown",
   "metadata": {},
   "source": [
    "## Day 90 variant ratios for `infection_cohort2` patients, Pfizer vaccinees, Mongolia vaccinees. Without vaccinees who are CoV2+"
   ]
  },
  {
   "cell_type": "code",
   "execution_count": 53,
   "metadata": {
    "execution": {
     "iopub.execute_input": "2022-01-15T22:14:04.017516Z",
     "iopub.status.busy": "2022-01-15T22:14:04.015993Z",
     "iopub.status.idle": "2022-01-15T22:14:04.021139Z",
     "shell.execute_reply": "2022-01-15T22:14:04.022536Z"
    }
   },
   "outputs": [
    {
     "data": {
      "text/plain": [
       "Mongolia_vaccine_variant_plate    131\n",
       "infection_cohort2_all              74\n",
       "Pfizer_all                         53\n",
       "variant_infections                 37\n",
       "Name: source_cohort, dtype: int64"
      ]
     },
     "execution_count": 1,
     "metadata": {},
     "output_type": "execute_result"
    }
   ],
   "source": [
    "adata_variant_ratios.obs[\"source_cohort\"].value_counts()"
   ]
  },
  {
   "cell_type": "code",
   "execution_count": null,
   "metadata": {},
   "outputs": [],
   "source": []
  },
  {
   "cell_type": "code",
   "execution_count": 54,
   "metadata": {
    "execution": {
     "iopub.execute_input": "2022-01-15T22:14:04.041679Z",
     "iopub.status.busy": "2022-01-15T22:14:04.038369Z",
     "iopub.status.idle": "2022-01-15T22:14:04.057529Z",
     "shell.execute_reply": "2022-01-15T22:14:04.059049Z"
    }
   },
   "outputs": [
    {
     "data": {
      "text/plain": [
       "Infection                                      99\n",
       "Pfizer-Pfizer (Stanford)                       49\n",
       "AstraZeneca-AstraZeneca                        37\n",
       "Sinopharm-Sinopharm                            36\n",
       "Sputnik V-Sputnik V                            33\n",
       "Pfizer-Pfizer (Mongolia)                       25\n",
       "Variant Infection - Delta - mRNA vaccinated    12\n",
       "Pfizer-Pfizer (Stanford), CoV2+                 4\n",
       "Name: Exposure Type, dtype: int64"
      ]
     },
     "execution_count": 1,
     "metadata": {},
     "output_type": "execute_result"
    }
   ],
   "source": [
    "# subset cohorts\n",
    "adata_variant_ratios_day90 = adata_variant_ratios[\n",
    "    adata_variant_ratios.obs[\"source_cohort\"] != \"infection_cohort1\"\n",
    "].copy()\n",
    "adata_variant_ratios_day90.obs[\"Exposure Type\"].value_counts()"
   ]
  },
  {
   "cell_type": "code",
   "execution_count": 55,
   "metadata": {
    "execution": {
     "iopub.execute_input": "2022-01-15T22:14:04.065979Z",
     "iopub.status.busy": "2022-01-15T22:14:04.064487Z",
     "iopub.status.idle": "2022-01-15T22:14:04.069623Z",
     "shell.execute_reply": "2022-01-15T22:14:04.071144Z"
    }
   },
   "outputs": [
    {
     "data": {
      "text/plain": [
       "AnnData object with n_obs × n_vars = 295 × 72\n",
       "    obs: 'Timepoint', 'First_dose_vaccine', 'Second_dose_vaccine', 'Status', 'source_cohort', 'Death', 'Variant', 'Vaccine', 'COVID Positive Ever?', 'Exposure', 'Exposure Type', 'cutoff_column_to_check', 'any_p11_cutoffs_violated', 'any_p11_cutoffs_violated:boostD1/2', 'any_p11_cutoffs_violated:boostD21', 'any_p11_cutoffs_violated:boostD7/8', 'any_p11_cutoffs_violated:day 0 / pre-pandemic', 'any_p11_cutoffs_violated:day 21 / weeks 2&3', 'any_p11_cutoffs_violated:day 210 / 7 months', 'any_p11_cutoffs_violated:day 28 / week 4', 'any_p11_cutoffs_violated:week 7 and later / 3 months', 'n_genes'\n",
       "    var: 'denominator', 'virus', 'target', 'variant_plate_type', 'antibody', 'timepoint', 'numerator'"
      ]
     },
     "execution_count": 1,
     "metadata": {},
     "output_type": "execute_result"
    }
   ],
   "source": [
    "adata_variant_ratios_day90"
   ]
  },
  {
   "cell_type": "code",
   "execution_count": null,
   "metadata": {},
   "outputs": [],
   "source": []
  },
  {
   "cell_type": "code",
   "execution_count": 56,
   "metadata": {
    "execution": {
     "iopub.execute_input": "2022-01-15T22:14:04.085288Z",
     "iopub.status.busy": "2022-01-15T22:14:04.083764Z",
     "iopub.status.idle": "2022-01-15T22:14:04.102487Z",
     "shell.execute_reply": "2022-01-15T22:14:04.104008Z"
    }
   },
   "outputs": [
    {
     "data": {
      "text/plain": [
       "Infection                   99\n",
       "Pfizer-Pfizer (Stanford)    49\n",
       "AstraZeneca-AstraZeneca     37\n",
       "Sinopharm-Sinopharm         36\n",
       "Sputnik V-Sputnik V         33\n",
       "Pfizer-Pfizer (Mongolia)    25\n",
       "Name: Exposure Type, dtype: int64"
      ]
     },
     "execution_count": 1,
     "metadata": {},
     "output_type": "execute_result"
    }
   ],
   "source": [
    "# filter out breakthrough infections or past infections before vaccination\n",
    "\n",
    "adata_variant_ratios_day90 = adata_variant_ratios_day90[\n",
    "    ~adata_variant_ratios_day90.obs[\"Exposure Type\"].isin(\n",
    "        [\n",
    "            \"Pfizer-Pfizer (Stanford), CoV2+\",\n",
    "            \"Variant Infection - Delta - mRNA vaccinated\",\n",
    "        ]\n",
    "    )\n",
    "].copy()\n",
    "\n",
    "adata_variant_ratios_day90.obs[\"Exposure Type\"].value_counts()"
   ]
  },
  {
   "cell_type": "code",
   "execution_count": 57,
   "metadata": {
    "execution": {
     "iopub.execute_input": "2022-01-15T22:14:04.110844Z",
     "iopub.status.busy": "2022-01-15T22:14:04.109348Z",
     "iopub.status.idle": "2022-01-15T22:14:04.114256Z",
     "shell.execute_reply": "2022-01-15T22:14:04.115477Z"
    }
   },
   "outputs": [
    {
     "data": {
      "text/plain": [
       "AnnData object with n_obs × n_vars = 279 × 72\n",
       "    obs: 'Timepoint', 'First_dose_vaccine', 'Second_dose_vaccine', 'Status', 'source_cohort', 'Death', 'Variant', 'Vaccine', 'COVID Positive Ever?', 'Exposure', 'Exposure Type', 'cutoff_column_to_check', 'any_p11_cutoffs_violated', 'any_p11_cutoffs_violated:boostD1/2', 'any_p11_cutoffs_violated:boostD21', 'any_p11_cutoffs_violated:boostD7/8', 'any_p11_cutoffs_violated:day 0 / pre-pandemic', 'any_p11_cutoffs_violated:day 21 / weeks 2&3', 'any_p11_cutoffs_violated:day 210 / 7 months', 'any_p11_cutoffs_violated:day 28 / week 4', 'any_p11_cutoffs_violated:week 7 and later / 3 months', 'n_genes'\n",
       "    var: 'denominator', 'virus', 'target', 'variant_plate_type', 'antibody', 'timepoint', 'numerator'"
      ]
     },
     "execution_count": 1,
     "metadata": {},
     "output_type": "execute_result"
    }
   ],
   "source": [
    "adata_variant_ratios_day90"
   ]
  },
  {
   "cell_type": "code",
   "execution_count": null,
   "metadata": {},
   "outputs": [],
   "source": []
  },
  {
   "cell_type": "code",
   "execution_count": 58,
   "metadata": {
    "execution": {
     "iopub.execute_input": "2022-01-15T22:14:04.148242Z",
     "iopub.status.busy": "2022-01-15T22:14:04.146709Z",
     "iopub.status.idle": "2022-01-15T22:14:04.152615Z",
     "shell.execute_reply": "2022-01-15T22:14:04.154130Z"
    }
   },
   "outputs": [
    {
     "data": {
      "text/html": [
       "<div>\n",
       "<style scoped>\n",
       "    .dataframe tbody tr th:only-of-type {\n",
       "        vertical-align: middle;\n",
       "    }\n",
       "\n",
       "    .dataframe tbody tr th {\n",
       "        vertical-align: top;\n",
       "    }\n",
       "\n",
       "    .dataframe thead th {\n",
       "        text-align: right;\n",
       "    }\n",
       "</style>\n",
       "<table border=\"1\" class=\"dataframe\">\n",
       "  <thead>\n",
       "    <tr style=\"text-align: right;\">\n",
       "      <th></th>\n",
       "      <th>denominator</th>\n",
       "      <th>virus</th>\n",
       "      <th>target</th>\n",
       "      <th>variant_plate_type</th>\n",
       "      <th>antibody</th>\n",
       "      <th>timepoint</th>\n",
       "      <th>numerator</th>\n",
       "    </tr>\n",
       "    <tr>\n",
       "      <th>combined_name</th>\n",
       "      <th></th>\n",
       "      <th></th>\n",
       "      <th></th>\n",
       "      <th></th>\n",
       "      <th></th>\n",
       "      <th></th>\n",
       "      <th></th>\n",
       "    </tr>\n",
       "  </thead>\n",
       "  <tbody>\n",
       "    <tr>\n",
       "      <th>ratio:Wuhan_RBD_Variant_IgG_boostD1/2:Epsilon_RBD_Variant_IgG_boostD1/2</th>\n",
       "      <td>Epsilon_RBD_Variant_IgG_boostD1/2</td>\n",
       "      <td>Epsilon</td>\n",
       "      <td>RBD</td>\n",
       "      <td>Variant</td>\n",
       "      <td>IgG</td>\n",
       "      <td>boostD1/2</td>\n",
       "      <td>Wuhan_RBD_Variant_IgG_boostD1/2</td>\n",
       "    </tr>\n",
       "    <tr>\n",
       "      <th>ratio:Wuhan_RBD_Variant_IgG_boostD1/2:Beta_RBD_Variant_IgG_boostD1/2</th>\n",
       "      <td>Beta_RBD_Variant_IgG_boostD1/2</td>\n",
       "      <td>Beta</td>\n",
       "      <td>RBD</td>\n",
       "      <td>Variant</td>\n",
       "      <td>IgG</td>\n",
       "      <td>boostD1/2</td>\n",
       "      <td>Wuhan_RBD_Variant_IgG_boostD1/2</td>\n",
       "    </tr>\n",
       "    <tr>\n",
       "      <th>ratio:Wuhan_RBD_Variant_IgG_boostD1/2:Iota_RBD_Variant_IgG_boostD1/2</th>\n",
       "      <td>Iota_RBD_Variant_IgG_boostD1/2</td>\n",
       "      <td>Iota</td>\n",
       "      <td>RBD</td>\n",
       "      <td>Variant</td>\n",
       "      <td>IgG</td>\n",
       "      <td>boostD1/2</td>\n",
       "      <td>Wuhan_RBD_Variant_IgG_boostD1/2</td>\n",
       "    </tr>\n",
       "    <tr>\n",
       "      <th>ratio:Wuhan_RBD_Variant_IgG_boostD1/2:Gamma_RBD_Variant_IgG_boostD1/2</th>\n",
       "      <td>Gamma_RBD_Variant_IgG_boostD1/2</td>\n",
       "      <td>Gamma</td>\n",
       "      <td>RBD</td>\n",
       "      <td>Variant</td>\n",
       "      <td>IgG</td>\n",
       "      <td>boostD1/2</td>\n",
       "      <td>Wuhan_RBD_Variant_IgG_boostD1/2</td>\n",
       "    </tr>\n",
       "    <tr>\n",
       "      <th>ratio:Wuhan_RBD_Variant_IgG_boostD1/2:B.1.526.2_RBD_Variant_IgG_boostD1/2</th>\n",
       "      <td>B.1.526.2_RBD_Variant_IgG_boostD1/2</td>\n",
       "      <td>B.1.526.2</td>\n",
       "      <td>RBD</td>\n",
       "      <td>Variant</td>\n",
       "      <td>IgG</td>\n",
       "      <td>boostD1/2</td>\n",
       "      <td>Wuhan_RBD_Variant_IgG_boostD1/2</td>\n",
       "    </tr>\n",
       "    <tr>\n",
       "      <th>...</th>\n",
       "      <td>...</td>\n",
       "      <td>...</td>\n",
       "      <td>...</td>\n",
       "      <td>...</td>\n",
       "      <td>...</td>\n",
       "      <td>...</td>\n",
       "      <td>...</td>\n",
       "    </tr>\n",
       "    <tr>\n",
       "      <th>ratio:Wuhan_RBD_Variant_IgG_week 7 and later / 3 months:B.1.526.2_RBD_Variant_IgG_week 7 and later / 3 months</th>\n",
       "      <td>B.1.526.2_RBD_Variant_IgG_week 7 and later / 3...</td>\n",
       "      <td>B.1.526.2</td>\n",
       "      <td>RBD</td>\n",
       "      <td>Variant</td>\n",
       "      <td>IgG</td>\n",
       "      <td>week 7 and later / 3 months</td>\n",
       "      <td>Wuhan_RBD_Variant_IgG_week 7 and later / 3 months</td>\n",
       "    </tr>\n",
       "    <tr>\n",
       "      <th>ratio:Wuhan_RBD_Variant_IgG_week 7 and later / 3 months:Alpha_RBD_Variant_IgG_week 7 and later / 3 months</th>\n",
       "      <td>Alpha_RBD_Variant_IgG_week 7 and later / 3 months</td>\n",
       "      <td>Alpha</td>\n",
       "      <td>RBD</td>\n",
       "      <td>Variant</td>\n",
       "      <td>IgG</td>\n",
       "      <td>week 7 and later / 3 months</td>\n",
       "      <td>Wuhan_RBD_Variant_IgG_week 7 and later / 3 months</td>\n",
       "    </tr>\n",
       "    <tr>\n",
       "      <th>ratio:Wuhan_RBD_Variant_IgG_week 7 and later / 3 months:P.3_RBD_Variant_IgG_week 7 and later / 3 months</th>\n",
       "      <td>P.3_RBD_Variant_IgG_week 7 and later / 3 months</td>\n",
       "      <td>P.3</td>\n",
       "      <td>RBD</td>\n",
       "      <td>Variant</td>\n",
       "      <td>IgG</td>\n",
       "      <td>week 7 and later / 3 months</td>\n",
       "      <td>Wuhan_RBD_Variant_IgG_week 7 and later / 3 months</td>\n",
       "    </tr>\n",
       "    <tr>\n",
       "      <th>ratio:Wuhan_RBD_Variant_IgG_week 7 and later / 3 months:Kappa_RBD_Variant_IgG_week 7 and later / 3 months</th>\n",
       "      <td>Kappa_RBD_Variant_IgG_week 7 and later / 3 months</td>\n",
       "      <td>Kappa</td>\n",
       "      <td>RBD</td>\n",
       "      <td>Variant</td>\n",
       "      <td>IgG</td>\n",
       "      <td>week 7 and later / 3 months</td>\n",
       "      <td>Wuhan_RBD_Variant_IgG_week 7 and later / 3 months</td>\n",
       "    </tr>\n",
       "    <tr>\n",
       "      <th>ratio:Wuhan_RBD_Variant_IgG_week 7 and later / 3 months:Delta_RBD_Variant_IgG_week 7 and later / 3 months</th>\n",
       "      <td>Delta_RBD_Variant_IgG_week 7 and later / 3 months</td>\n",
       "      <td>Delta</td>\n",
       "      <td>RBD</td>\n",
       "      <td>Variant</td>\n",
       "      <td>IgG</td>\n",
       "      <td>week 7 and later / 3 months</td>\n",
       "      <td>Wuhan_RBD_Variant_IgG_week 7 and later / 3 months</td>\n",
       "    </tr>\n",
       "  </tbody>\n",
       "</table>\n",
       "<p>72 rows × 7 columns</p>\n",
       "</div>"
      ],
      "text/plain": [
       "                                                                                          denominator  \\\n",
       "combined_name                                                                                           \n",
       "ratio:Wuhan_RBD_Variant_IgG_boostD1/2:Epsilon_R...                  Epsilon_RBD_Variant_IgG_boostD1/2   \n",
       "ratio:Wuhan_RBD_Variant_IgG_boostD1/2:Beta_RBD_...                     Beta_RBD_Variant_IgG_boostD1/2   \n",
       "ratio:Wuhan_RBD_Variant_IgG_boostD1/2:Iota_RBD_...                     Iota_RBD_Variant_IgG_boostD1/2   \n",
       "ratio:Wuhan_RBD_Variant_IgG_boostD1/2:Gamma_RBD...                    Gamma_RBD_Variant_IgG_boostD1/2   \n",
       "ratio:Wuhan_RBD_Variant_IgG_boostD1/2:B.1.526.2...                B.1.526.2_RBD_Variant_IgG_boostD1/2   \n",
       "...                                                                                               ...   \n",
       "ratio:Wuhan_RBD_Variant_IgG_week 7 and later / ...  B.1.526.2_RBD_Variant_IgG_week 7 and later / 3...   \n",
       "ratio:Wuhan_RBD_Variant_IgG_week 7 and later / ...  Alpha_RBD_Variant_IgG_week 7 and later / 3 months   \n",
       "ratio:Wuhan_RBD_Variant_IgG_week 7 and later / ...    P.3_RBD_Variant_IgG_week 7 and later / 3 months   \n",
       "ratio:Wuhan_RBD_Variant_IgG_week 7 and later / ...  Kappa_RBD_Variant_IgG_week 7 and later / 3 months   \n",
       "ratio:Wuhan_RBD_Variant_IgG_week 7 and later / ...  Delta_RBD_Variant_IgG_week 7 and later / 3 months   \n",
       "\n",
       "                                                        virus target  \\\n",
       "combined_name                                                          \n",
       "ratio:Wuhan_RBD_Variant_IgG_boostD1/2:Epsilon_R...    Epsilon    RBD   \n",
       "ratio:Wuhan_RBD_Variant_IgG_boostD1/2:Beta_RBD_...       Beta    RBD   \n",
       "ratio:Wuhan_RBD_Variant_IgG_boostD1/2:Iota_RBD_...       Iota    RBD   \n",
       "ratio:Wuhan_RBD_Variant_IgG_boostD1/2:Gamma_RBD...      Gamma    RBD   \n",
       "ratio:Wuhan_RBD_Variant_IgG_boostD1/2:B.1.526.2...  B.1.526.2    RBD   \n",
       "...                                                       ...    ...   \n",
       "ratio:Wuhan_RBD_Variant_IgG_week 7 and later / ...  B.1.526.2    RBD   \n",
       "ratio:Wuhan_RBD_Variant_IgG_week 7 and later / ...      Alpha    RBD   \n",
       "ratio:Wuhan_RBD_Variant_IgG_week 7 and later / ...        P.3    RBD   \n",
       "ratio:Wuhan_RBD_Variant_IgG_week 7 and later / ...      Kappa    RBD   \n",
       "ratio:Wuhan_RBD_Variant_IgG_week 7 and later / ...      Delta    RBD   \n",
       "\n",
       "                                                   variant_plate_type  \\\n",
       "combined_name                                                           \n",
       "ratio:Wuhan_RBD_Variant_IgG_boostD1/2:Epsilon_R...            Variant   \n",
       "ratio:Wuhan_RBD_Variant_IgG_boostD1/2:Beta_RBD_...            Variant   \n",
       "ratio:Wuhan_RBD_Variant_IgG_boostD1/2:Iota_RBD_...            Variant   \n",
       "ratio:Wuhan_RBD_Variant_IgG_boostD1/2:Gamma_RBD...            Variant   \n",
       "ratio:Wuhan_RBD_Variant_IgG_boostD1/2:B.1.526.2...            Variant   \n",
       "...                                                               ...   \n",
       "ratio:Wuhan_RBD_Variant_IgG_week 7 and later / ...            Variant   \n",
       "ratio:Wuhan_RBD_Variant_IgG_week 7 and later / ...            Variant   \n",
       "ratio:Wuhan_RBD_Variant_IgG_week 7 and later / ...            Variant   \n",
       "ratio:Wuhan_RBD_Variant_IgG_week 7 and later / ...            Variant   \n",
       "ratio:Wuhan_RBD_Variant_IgG_week 7 and later / ...            Variant   \n",
       "\n",
       "                                                   antibody  \\\n",
       "combined_name                                                 \n",
       "ratio:Wuhan_RBD_Variant_IgG_boostD1/2:Epsilon_R...      IgG   \n",
       "ratio:Wuhan_RBD_Variant_IgG_boostD1/2:Beta_RBD_...      IgG   \n",
       "ratio:Wuhan_RBD_Variant_IgG_boostD1/2:Iota_RBD_...      IgG   \n",
       "ratio:Wuhan_RBD_Variant_IgG_boostD1/2:Gamma_RBD...      IgG   \n",
       "ratio:Wuhan_RBD_Variant_IgG_boostD1/2:B.1.526.2...      IgG   \n",
       "...                                                     ...   \n",
       "ratio:Wuhan_RBD_Variant_IgG_week 7 and later / ...      IgG   \n",
       "ratio:Wuhan_RBD_Variant_IgG_week 7 and later / ...      IgG   \n",
       "ratio:Wuhan_RBD_Variant_IgG_week 7 and later / ...      IgG   \n",
       "ratio:Wuhan_RBD_Variant_IgG_week 7 and later / ...      IgG   \n",
       "ratio:Wuhan_RBD_Variant_IgG_week 7 and later / ...      IgG   \n",
       "\n",
       "                                                                      timepoint  \\\n",
       "combined_name                                                                     \n",
       "ratio:Wuhan_RBD_Variant_IgG_boostD1/2:Epsilon_R...                    boostD1/2   \n",
       "ratio:Wuhan_RBD_Variant_IgG_boostD1/2:Beta_RBD_...                    boostD1/2   \n",
       "ratio:Wuhan_RBD_Variant_IgG_boostD1/2:Iota_RBD_...                    boostD1/2   \n",
       "ratio:Wuhan_RBD_Variant_IgG_boostD1/2:Gamma_RBD...                    boostD1/2   \n",
       "ratio:Wuhan_RBD_Variant_IgG_boostD1/2:B.1.526.2...                    boostD1/2   \n",
       "...                                                                         ...   \n",
       "ratio:Wuhan_RBD_Variant_IgG_week 7 and later / ...  week 7 and later / 3 months   \n",
       "ratio:Wuhan_RBD_Variant_IgG_week 7 and later / ...  week 7 and later / 3 months   \n",
       "ratio:Wuhan_RBD_Variant_IgG_week 7 and later / ...  week 7 and later / 3 months   \n",
       "ratio:Wuhan_RBD_Variant_IgG_week 7 and later / ...  week 7 and later / 3 months   \n",
       "ratio:Wuhan_RBD_Variant_IgG_week 7 and later / ...  week 7 and later / 3 months   \n",
       "\n",
       "                                                                                            numerator  \n",
       "combined_name                                                                                          \n",
       "ratio:Wuhan_RBD_Variant_IgG_boostD1/2:Epsilon_R...                    Wuhan_RBD_Variant_IgG_boostD1/2  \n",
       "ratio:Wuhan_RBD_Variant_IgG_boostD1/2:Beta_RBD_...                    Wuhan_RBD_Variant_IgG_boostD1/2  \n",
       "ratio:Wuhan_RBD_Variant_IgG_boostD1/2:Iota_RBD_...                    Wuhan_RBD_Variant_IgG_boostD1/2  \n",
       "ratio:Wuhan_RBD_Variant_IgG_boostD1/2:Gamma_RBD...                    Wuhan_RBD_Variant_IgG_boostD1/2  \n",
       "ratio:Wuhan_RBD_Variant_IgG_boostD1/2:B.1.526.2...                    Wuhan_RBD_Variant_IgG_boostD1/2  \n",
       "...                                                                                               ...  \n",
       "ratio:Wuhan_RBD_Variant_IgG_week 7 and later / ...  Wuhan_RBD_Variant_IgG_week 7 and later / 3 months  \n",
       "ratio:Wuhan_RBD_Variant_IgG_week 7 and later / ...  Wuhan_RBD_Variant_IgG_week 7 and later / 3 months  \n",
       "ratio:Wuhan_RBD_Variant_IgG_week 7 and later / ...  Wuhan_RBD_Variant_IgG_week 7 and later / 3 months  \n",
       "ratio:Wuhan_RBD_Variant_IgG_week 7 and later / ...  Wuhan_RBD_Variant_IgG_week 7 and later / 3 months  \n",
       "ratio:Wuhan_RBD_Variant_IgG_week 7 and later / ...  Wuhan_RBD_Variant_IgG_week 7 and later / 3 months  \n",
       "\n",
       "[72 rows x 7 columns]"
      ]
     },
     "execution_count": 1,
     "metadata": {},
     "output_type": "execute_result"
    }
   ],
   "source": [
    "adata_variant_ratios_day90.var"
   ]
  },
  {
   "cell_type": "code",
   "execution_count": 59,
   "metadata": {
    "execution": {
     "iopub.execute_input": "2022-01-15T22:14:04.163972Z",
     "iopub.status.busy": "2022-01-15T22:14:04.162418Z",
     "iopub.status.idle": "2022-01-15T22:14:04.167633Z",
     "shell.execute_reply": "2022-01-15T22:14:04.169145Z"
    }
   },
   "outputs": [
    {
     "data": {
      "text/plain": [
       "boostD1/2                      9\n",
       "boostD7/8                      9\n",
       "boostD21                       9\n",
       "day 0 / pre-pandemic           9\n",
       "day 21 / weeks 2&3             9\n",
       "day 28 / week 4                9\n",
       "day 210 / 7 months             9\n",
       "week 7 and later / 3 months    9\n",
       "Name: timepoint, dtype: int64"
      ]
     },
     "execution_count": 1,
     "metadata": {},
     "output_type": "execute_result"
    }
   ],
   "source": [
    "adata_variant_ratios_day90.var[\"timepoint\"].value_counts()"
   ]
  },
  {
   "cell_type": "code",
   "execution_count": 60,
   "metadata": {
    "execution": {
     "iopub.execute_input": "2022-01-15T22:14:04.191742Z",
     "iopub.status.busy": "2022-01-15T22:14:04.187622Z",
     "iopub.status.idle": "2022-01-15T22:14:05.842277Z",
     "shell.execute_reply": "2022-01-15T22:14:05.843827Z"
    }
   },
   "outputs": [
    {
     "name": "stdout",
     "output_type": "stream",
     "text": [
      "filtered out 88 cells that have less than 9 genes expressed\n"
     ]
    },
    {
     "data": {
      "image/png": "[encoded data removed]",
      "text/plain": [
       "<Figure size 432x432 with 1 Axes>"
      ]
     },
     "metadata": {},
     "output_type": "display_data"
    },
    {
     "data": {
      "image/png": "[encoded data removed]",
      "text/plain": [
       "<Figure size 432x432 with 1 Axes>"
      ]
     },
     "metadata": {},
     "output_type": "display_data"
    }
   ],
   "source": [
    "timepoint = \"week 7 and later / 3 months\"\n",
    "plot_name = \"variant_ratios_all_groups_day90\"\n",
    "\n",
    "# convert plot name to valid filename\n",
    "output_prefix = slugify(f\"{plot_name}.{timepoint}\")\n",
    "\n",
    "adata_subset = adata_variant_ratios_day90[\n",
    "    adata_variant_ratios_day90.obs[f\"any_p11_cutoffs_violated:{timepoint}\"] == False,\n",
    "    adata_variant_ratios_day90.var[\"timepoint\"] == timepoint,\n",
    "]\n",
    "adata_subset = cleanup_adata(adata_subset)\n",
    "adata_transformed = pca_one_timepoint_against_reference(\n",
    "    adata_subset, output_prefix=output_prefix, transformer=None\n",
    ")\n",
    "\n",
    "\n",
    "# plot PCA\n",
    "for (hue_col, is_continuous) in colors_to_plot:\n",
    "    fig, ax = plt.subplots(figsize=(6, 6))\n",
    "    plot_pca_one_hue_one_timepoint(\n",
    "        adata=adata_transformed,\n",
    "        ax=ax,\n",
    "        hue_key=hue_col,\n",
    "        title=f\"{hue_col} at {timepoint}\",\n",
    "        enable_legends=True,\n",
    "        palette=palette_dict,\n",
    "        continuous_hue=is_continuous,\n",
    "    )\n",
    "    plot_fname_hue = slugify(f\"{plot_name}.{timepoint}.{hue_col}\")\n",
    "    # save rasterized\n",
    "    genetools.plots.savefig(\n",
    "        fig, f\"{config.paths.output_dir}/{plot_fname_hue}.pca.png\", dpi=72\n",
    "    )\n",
    "    # save vector\n",
    "    genetools.plots.savefig(fig, f\"{config.paths.output_dir}/{plot_fname_hue}.pca.pdf\")"
   ]
  },
  {
   "cell_type": "code",
   "execution_count": null,
   "metadata": {},
   "outputs": [],
   "source": []
  },
  {
   "cell_type": "code",
   "execution_count": null,
   "metadata": {},
   "outputs": [],
   "source": []
  },
  {
   "cell_type": "code",
   "execution_count": null,
   "metadata": {},
   "outputs": [],
   "source": []
  },
  {
   "cell_type": "markdown",
   "metadata": {},
   "source": [
    "## Imprinting amount"
   ]
  },
  {
   "cell_type": "markdown",
   "metadata": {},
   "source": [
    "### Get data"
   ]
  },
  {
   "cell_type": "code",
   "execution_count": 61,
   "metadata": {
    "execution": {
     "iopub.execute_input": "2022-01-15T22:14:05.854541Z",
     "iopub.status.busy": "2022-01-15T22:14:05.853200Z",
     "iopub.status.idle": "2022-01-15T22:14:05.858052Z",
     "shell.execute_reply": "2022-01-15T22:14:05.859593Z"
    }
   },
   "outputs": [
    {
     "data": {
      "text/plain": [
       "Mongolia_vaccine_variant_plate    131\n",
       "infection_cohort2_all              74\n",
       "Pfizer_all                         53\n",
       "variant_infections                 37\n",
       "Name: source_cohort, dtype: int64"
      ]
     },
     "execution_count": 1,
     "metadata": {},
     "output_type": "execute_result"
    }
   ],
   "source": [
    "adata_variant_ratios.obs[\"source_cohort\"].value_counts()"
   ]
  },
  {
   "cell_type": "code",
   "execution_count": 62,
   "metadata": {
    "execution": {
     "iopub.execute_input": "2022-01-15T22:14:05.871315Z",
     "iopub.status.busy": "2022-01-15T22:14:05.869591Z",
     "iopub.status.idle": "2022-01-15T22:14:05.887548Z",
     "shell.execute_reply": "2022-01-15T22:14:05.889074Z"
    }
   },
   "outputs": [
    {
     "data": {
      "text/plain": [
       "Vaccinee                                       53\n",
       "Variant Infection - Delta                      21\n",
       "Variant Infection - Delta - mRNA vaccinated    12\n",
       "Variant Infection - Alpha                       4\n",
       "Name: Status, dtype: int64"
      ]
     },
     "execution_count": 1,
     "metadata": {},
     "output_type": "execute_result"
    }
   ],
   "source": [
    "adata_imprinting = adata_variant_ratios[\n",
    "    adata_variant_ratios.obs[\"source_cohort\"].isin([\"Pfizer_all\", \"variant_infections\"])\n",
    "].copy()\n",
    "adata_imprinting.obs[\"Status\"].value_counts()"
   ]
  },
  {
   "cell_type": "code",
   "execution_count": 63,
   "metadata": {
    "execution": {
     "iopub.execute_input": "2022-01-15T22:14:05.898447Z",
     "iopub.status.busy": "2022-01-15T22:14:05.896187Z",
     "iopub.status.idle": "2022-01-15T22:14:05.912597Z",
     "shell.execute_reply": "2022-01-15T22:14:05.914101Z"
    }
   },
   "outputs": [
    {
     "data": {
      "text/plain": [
       "Vaccinee                                       53\n",
       "Variant Infection - Delta                      21\n",
       "Variant Infection - Delta - mRNA vaccinated    12\n",
       "Name: Status, dtype: int64"
      ]
     },
     "execution_count": 1,
     "metadata": {},
     "output_type": "execute_result"
    }
   ],
   "source": [
    "adata_imprinting = adata_imprinting[\n",
    "    adata_imprinting.obs[\"Status\"] != \"Variant Infection - Alpha\"\n",
    "].copy()\n",
    "adata_imprinting.obs[\"Status\"].value_counts()"
   ]
  },
  {
   "cell_type": "code",
   "execution_count": 64,
   "metadata": {
    "execution": {
     "iopub.execute_input": "2022-01-15T22:14:05.923591Z",
     "iopub.status.busy": "2022-01-15T22:14:05.922064Z",
     "iopub.status.idle": "2022-01-15T22:14:05.927346Z",
     "shell.execute_reply": "2022-01-15T22:14:05.928969Z"
    }
   },
   "outputs": [
    {
     "data": {
      "text/plain": [
       "Pfizer-Pfizer (Stanford)                       49\n",
       "Infection                                      21\n",
       "Variant Infection - Delta - mRNA vaccinated    12\n",
       "Pfizer-Pfizer (Stanford), CoV2+                 4\n",
       "Name: Exposure Type, dtype: int64"
      ]
     },
     "execution_count": 1,
     "metadata": {},
     "output_type": "execute_result"
    }
   ],
   "source": [
    "adata_imprinting.obs[\"Exposure Type\"].value_counts()"
   ]
  },
  {
   "cell_type": "code",
   "execution_count": 65,
   "metadata": {
    "execution": {
     "iopub.execute_input": "2022-01-15T22:14:05.940284Z",
     "iopub.status.busy": "2022-01-15T22:14:05.938582Z",
     "iopub.status.idle": "2022-01-15T22:14:05.958314Z",
     "shell.execute_reply": "2022-01-15T22:14:05.959873Z"
    }
   },
   "outputs": [
    {
     "data": {
      "text/plain": [
       "Vaccinee                                       49\n",
       "Variant Infection - Delta                      21\n",
       "Variant Infection - Delta - mRNA vaccinated    12\n",
       "Name: Status, dtype: int64"
      ]
     },
     "execution_count": 1,
     "metadata": {},
     "output_type": "execute_result"
    }
   ],
   "source": [
    "adata_imprinting = adata_imprinting[\n",
    "    adata_imprinting.obs[\"Exposure Type\"] != \"Pfizer-Pfizer (Stanford), CoV2+\"\n",
    "].copy()\n",
    "adata_imprinting.obs[\"Status\"].value_counts()"
   ]
  },
  {
   "cell_type": "code",
   "execution_count": 66,
   "metadata": {
    "execution": {
     "iopub.execute_input": "2022-01-15T22:14:05.968325Z",
     "iopub.status.busy": "2022-01-15T22:14:05.966797Z",
     "iopub.status.idle": "2022-01-15T22:14:05.971902Z",
     "shell.execute_reply": "2022-01-15T22:14:05.973385Z"
    }
   },
   "outputs": [
    {
     "data": {
      "text/plain": [
       "Pfizer-Pfizer (Stanford)                       49\n",
       "Infection                                      21\n",
       "Variant Infection - Delta - mRNA vaccinated    12\n",
       "Name: Exposure Type, dtype: int64"
      ]
     },
     "execution_count": 1,
     "metadata": {},
     "output_type": "execute_result"
    }
   ],
   "source": [
    "adata_imprinting.obs[\"Exposure Type\"].value_counts()"
   ]
  },
  {
   "cell_type": "code",
   "execution_count": 67,
   "metadata": {
    "execution": {
     "iopub.execute_input": "2022-01-15T22:14:05.980145Z",
     "iopub.status.busy": "2022-01-15T22:14:05.979036Z",
     "iopub.status.idle": "2022-01-15T22:14:05.983464Z",
     "shell.execute_reply": "2022-01-15T22:14:05.984566Z"
    }
   },
   "outputs": [
    {
     "data": {
      "text/plain": [
       "AnnData object with n_obs × n_vars = 82 × 72\n",
       "    obs: 'Timepoint', 'First_dose_vaccine', 'Second_dose_vaccine', 'Status', 'source_cohort', 'Death', 'Variant', 'Vaccine', 'COVID Positive Ever?', 'Exposure', 'Exposure Type', 'cutoff_column_to_check', 'any_p11_cutoffs_violated', 'any_p11_cutoffs_violated:boostD1/2', 'any_p11_cutoffs_violated:boostD21', 'any_p11_cutoffs_violated:boostD7/8', 'any_p11_cutoffs_violated:day 0 / pre-pandemic', 'any_p11_cutoffs_violated:day 21 / weeks 2&3', 'any_p11_cutoffs_violated:day 210 / 7 months', 'any_p11_cutoffs_violated:day 28 / week 4', 'any_p11_cutoffs_violated:week 7 and later / 3 months', 'n_genes'\n",
       "    var: 'denominator', 'virus', 'target', 'variant_plate_type', 'antibody', 'timepoint', 'numerator'"
      ]
     },
     "execution_count": 1,
     "metadata": {},
     "output_type": "execute_result"
    }
   ],
   "source": [
    "adata_imprinting"
   ]
  },
  {
   "cell_type": "code",
   "execution_count": null,
   "metadata": {},
   "outputs": [],
   "source": []
  },
  {
   "cell_type": "code",
   "execution_count": 68,
   "metadata": {
    "execution": {
     "iopub.execute_input": "2022-01-15T22:14:06.000121Z",
     "iopub.status.busy": "2022-01-15T22:14:05.995844Z",
     "iopub.status.idle": "2022-01-15T22:14:06.016205Z",
     "shell.execute_reply": "2022-01-15T22:14:06.017719Z"
    }
   },
   "outputs": [
    {
     "data": {
      "text/plain": [
       "View of AnnData object with n_obs × n_vars = 82 × 1\n",
       "    obs: 'Timepoint', 'First_dose_vaccine', 'Second_dose_vaccine', 'Status', 'source_cohort', 'Death', 'Variant', 'Vaccine', 'COVID Positive Ever?', 'Exposure', 'Exposure Type', 'cutoff_column_to_check', 'any_p11_cutoffs_violated', 'any_p11_cutoffs_violated:boostD1/2', 'any_p11_cutoffs_violated:boostD21', 'any_p11_cutoffs_violated:boostD7/8', 'any_p11_cutoffs_violated:day 0 / pre-pandemic', 'any_p11_cutoffs_violated:day 21 / weeks 2&3', 'any_p11_cutoffs_violated:day 210 / 7 months', 'any_p11_cutoffs_violated:day 28 / week 4', 'any_p11_cutoffs_violated:week 7 and later / 3 months', 'n_genes'\n",
       "    var: 'denominator', 'virus', 'target', 'variant_plate_type', 'antibody', 'timepoint', 'numerator'"
      ]
     },
     "execution_count": 1,
     "metadata": {},
     "output_type": "execute_result"
    }
   ],
   "source": [
    "adata_imprinting = adata_imprinting[\n",
    "    :,\n",
    "    (adata_imprinting.var[\"virus\"] == \"Delta\")\n",
    "    & (adata_imprinting.var[\"timepoint\"] == reference_timepoint_variant_comparison),\n",
    "]\n",
    "adata_imprinting"
   ]
  },
  {
   "cell_type": "code",
   "execution_count": 69,
   "metadata": {
    "execution": {
     "iopub.execute_input": "2022-01-15T22:14:06.026831Z",
     "iopub.status.busy": "2022-01-15T22:14:06.025311Z",
     "iopub.status.idle": "2022-01-15T22:14:06.039151Z",
     "shell.execute_reply": "2022-01-15T22:14:06.037546Z"
    }
   },
   "outputs": [],
   "source": [
    "adata_imprinting = adata_imprinting[\n",
    "    ~adata_imprinting.obs[\n",
    "        f\"any_p11_cutoffs_violated:{reference_timepoint_variant_comparison}\"\n",
    "    ]\n",
    "]"
   ]
  },
  {
   "cell_type": "code",
   "execution_count": 70,
   "metadata": {
    "execution": {
     "iopub.execute_input": "2022-01-15T22:14:06.053484Z",
     "iopub.status.busy": "2022-01-15T22:14:06.051964Z",
     "iopub.status.idle": "2022-01-15T22:14:06.057408Z",
     "shell.execute_reply": "2022-01-15T22:14:06.058939Z"
    }
   },
   "outputs": [
    {
     "data": {
      "text/html": [
       "<div>\n",
       "<style scoped>\n",
       "    .dataframe tbody tr th:only-of-type {\n",
       "        vertical-align: middle;\n",
       "    }\n",
       "\n",
       "    .dataframe tbody tr th {\n",
       "        vertical-align: top;\n",
       "    }\n",
       "\n",
       "    .dataframe thead th {\n",
       "        text-align: right;\n",
       "    }\n",
       "</style>\n",
       "<table border=\"1\" class=\"dataframe\">\n",
       "  <thead>\n",
       "    <tr style=\"text-align: right;\">\n",
       "      <th></th>\n",
       "      <th>denominator</th>\n",
       "      <th>virus</th>\n",
       "      <th>target</th>\n",
       "      <th>variant_plate_type</th>\n",
       "      <th>antibody</th>\n",
       "      <th>timepoint</th>\n",
       "      <th>numerator</th>\n",
       "    </tr>\n",
       "    <tr>\n",
       "      <th>combined_name</th>\n",
       "      <th></th>\n",
       "      <th></th>\n",
       "      <th></th>\n",
       "      <th></th>\n",
       "      <th></th>\n",
       "      <th></th>\n",
       "      <th></th>\n",
       "    </tr>\n",
       "  </thead>\n",
       "  <tbody>\n",
       "    <tr>\n",
       "      <th>ratio:Wuhan_RBD_Variant_IgG_day 28 / week 4:Delta_RBD_Variant_IgG_day 28 / week 4</th>\n",
       "      <td>Delta_RBD_Variant_IgG_day 28 / week 4</td>\n",
       "      <td>Delta</td>\n",
       "      <td>RBD</td>\n",
       "      <td>Variant</td>\n",
       "      <td>IgG</td>\n",
       "      <td>day 28 / week 4</td>\n",
       "      <td>Wuhan_RBD_Variant_IgG_day 28 / week 4</td>\n",
       "    </tr>\n",
       "  </tbody>\n",
       "</table>\n",
       "</div>"
      ],
      "text/plain": [
       "                                                                              denominator  \\\n",
       "combined_name                                                                               \n",
       "ratio:Wuhan_RBD_Variant_IgG_day 28 / week 4:Del...  Delta_RBD_Variant_IgG_day 28 / week 4   \n",
       "\n",
       "                                                    virus target  \\\n",
       "combined_name                                                      \n",
       "ratio:Wuhan_RBD_Variant_IgG_day 28 / week 4:Del...  Delta    RBD   \n",
       "\n",
       "                                                   variant_plate_type  \\\n",
       "combined_name                                                           \n",
       "ratio:Wuhan_RBD_Variant_IgG_day 28 / week 4:Del...            Variant   \n",
       "\n",
       "                                                   antibody        timepoint  \\\n",
       "combined_name                                                                  \n",
       "ratio:Wuhan_RBD_Variant_IgG_day 28 / week 4:Del...      IgG  day 28 / week 4   \n",
       "\n",
       "                                                                                numerator  \n",
       "combined_name                                                                              \n",
       "ratio:Wuhan_RBD_Variant_IgG_day 28 / week 4:Del...  Wuhan_RBD_Variant_IgG_day 28 / week 4  "
      ]
     },
     "execution_count": 1,
     "metadata": {},
     "output_type": "execute_result"
    }
   ],
   "source": [
    "assert adata_imprinting.var.shape[0] == 1\n",
    "adata_imprinting.var"
   ]
  },
  {
   "cell_type": "code",
   "execution_count": null,
   "metadata": {},
   "outputs": [],
   "source": []
  },
  {
   "cell_type": "code",
   "execution_count": null,
   "metadata": {},
   "outputs": [],
   "source": []
  },
  {
   "cell_type": "code",
   "execution_count": null,
   "metadata": {},
   "outputs": [],
   "source": []
  },
  {
   "cell_type": "code",
   "execution_count": 71,
   "metadata": {
    "execution": {
     "iopub.execute_input": "2022-01-15T22:14:06.079846Z",
     "iopub.status.busy": "2022-01-15T22:14:06.078291Z",
     "iopub.status.idle": "2022-01-15T22:14:06.083754Z",
     "shell.execute_reply": "2022-01-15T22:14:06.085252Z"
    }
   },
   "outputs": [
    {
     "data": {
      "text/html": [
       "<div>\n",
       "<style scoped>\n",
       "    .dataframe tbody tr th:only-of-type {\n",
       "        vertical-align: middle;\n",
       "    }\n",
       "\n",
       "    .dataframe tbody tr th {\n",
       "        vertical-align: top;\n",
       "    }\n",
       "\n",
       "    .dataframe thead th {\n",
       "        text-align: right;\n",
       "    }\n",
       "</style>\n",
       "<table border=\"1\" class=\"dataframe\">\n",
       "  <thead>\n",
       "    <tr style=\"text-align: right;\">\n",
       "      <th></th>\n",
       "      <th>Status</th>\n",
       "      <th>ratio</th>\n",
       "    </tr>\n",
       "  </thead>\n",
       "  <tbody>\n",
       "    <tr>\n",
       "      <th>VariantInfection_11</th>\n",
       "      <td>Variant Infection - Delta</td>\n",
       "      <td>0.443932</td>\n",
       "    </tr>\n",
       "    <tr>\n",
       "      <th>VariantInfection_33</th>\n",
       "      <td>Variant Infection - Delta</td>\n",
       "      <td>0.203085</td>\n",
       "    </tr>\n",
       "    <tr>\n",
       "      <th>VariantInfection_34</th>\n",
       "      <td>Variant Infection - Delta</td>\n",
       "      <td>0.329469</td>\n",
       "    </tr>\n",
       "    <tr>\n",
       "      <th>VariantInfection_38</th>\n",
       "      <td>Variant Infection - Delta</td>\n",
       "      <td>0.180084</td>\n",
       "    </tr>\n",
       "    <tr>\n",
       "      <th>VariantInfection_43</th>\n",
       "      <td>Variant Infection - Delta</td>\n",
       "      <td>0.272468</td>\n",
       "    </tr>\n",
       "    <tr>\n",
       "      <th>...</th>\n",
       "      <td>...</td>\n",
       "      <td>...</td>\n",
       "    </tr>\n",
       "    <tr>\n",
       "      <th>pfizer55</th>\n",
       "      <td>Vaccinee</td>\n",
       "      <td>1.126029</td>\n",
       "    </tr>\n",
       "    <tr>\n",
       "      <th>pfizer56</th>\n",
       "      <td>Vaccinee</td>\n",
       "      <td>1.297713</td>\n",
       "    </tr>\n",
       "    <tr>\n",
       "      <th>pfizer57</th>\n",
       "      <td>Vaccinee</td>\n",
       "      <td>NaN</td>\n",
       "    </tr>\n",
       "    <tr>\n",
       "      <th>pfizer58</th>\n",
       "      <td>Vaccinee</td>\n",
       "      <td>0.942984</td>\n",
       "    </tr>\n",
       "    <tr>\n",
       "      <th>pfizer59</th>\n",
       "      <td>Vaccinee</td>\n",
       "      <td>NaN</td>\n",
       "    </tr>\n",
       "  </tbody>\n",
       "</table>\n",
       "<p>82 rows × 2 columns</p>\n",
       "</div>"
      ],
      "text/plain": [
       "                                        Status     ratio\n",
       "VariantInfection_11  Variant Infection - Delta  0.443932\n",
       "VariantInfection_33  Variant Infection - Delta  0.203085\n",
       "VariantInfection_34  Variant Infection - Delta  0.329469\n",
       "VariantInfection_38  Variant Infection - Delta  0.180084\n",
       "VariantInfection_43  Variant Infection - Delta  0.272468\n",
       "...                                        ...       ...\n",
       "pfizer55                              Vaccinee  1.126029\n",
       "pfizer56                              Vaccinee  1.297713\n",
       "pfizer57                              Vaccinee       NaN\n",
       "pfizer58                              Vaccinee  0.942984\n",
       "pfizer59                              Vaccinee       NaN\n",
       "\n",
       "[82 rows x 2 columns]"
      ]
     },
     "execution_count": 1,
     "metadata": {},
     "output_type": "execute_result"
    }
   ],
   "source": [
    "imprinting_df = adata_imprinting.obs[[\"Status\"]].assign(ratio=adata_imprinting.X)\n",
    "imprinting_df"
   ]
  },
  {
   "cell_type": "code",
   "execution_count": 72,
   "metadata": {
    "execution": {
     "iopub.execute_input": "2022-01-15T22:14:06.103477Z",
     "iopub.status.busy": "2022-01-15T22:14:06.102095Z",
     "iopub.status.idle": "2022-01-15T22:14:06.106941Z",
     "shell.execute_reply": "2022-01-15T22:14:06.108355Z"
    }
   },
   "outputs": [
    {
     "data": {
      "text/html": [
       "<div>\n",
       "<style scoped>\n",
       "    .dataframe tbody tr th:only-of-type {\n",
       "        vertical-align: middle;\n",
       "    }\n",
       "\n",
       "    .dataframe tbody tr th {\n",
       "        vertical-align: top;\n",
       "    }\n",
       "\n",
       "    .dataframe thead th {\n",
       "        text-align: right;\n",
       "    }\n",
       "</style>\n",
       "<table border=\"1\" class=\"dataframe\">\n",
       "  <thead>\n",
       "    <tr style=\"text-align: right;\">\n",
       "      <th></th>\n",
       "      <th>Status</th>\n",
       "      <th>ratio</th>\n",
       "    </tr>\n",
       "  </thead>\n",
       "  <tbody>\n",
       "    <tr>\n",
       "      <th>VariantInfection_11</th>\n",
       "      <td>Variant Infection - Delta</td>\n",
       "      <td>0.443932</td>\n",
       "    </tr>\n",
       "    <tr>\n",
       "      <th>VariantInfection_33</th>\n",
       "      <td>Variant Infection - Delta</td>\n",
       "      <td>0.203085</td>\n",
       "    </tr>\n",
       "    <tr>\n",
       "      <th>VariantInfection_34</th>\n",
       "      <td>Variant Infection - Delta</td>\n",
       "      <td>0.329469</td>\n",
       "    </tr>\n",
       "    <tr>\n",
       "      <th>VariantInfection_38</th>\n",
       "      <td>Variant Infection - Delta</td>\n",
       "      <td>0.180084</td>\n",
       "    </tr>\n",
       "    <tr>\n",
       "      <th>VariantInfection_43</th>\n",
       "      <td>Variant Infection - Delta</td>\n",
       "      <td>0.272468</td>\n",
       "    </tr>\n",
       "    <tr>\n",
       "      <th>...</th>\n",
       "      <td>...</td>\n",
       "      <td>...</td>\n",
       "    </tr>\n",
       "    <tr>\n",
       "      <th>pfizer48</th>\n",
       "      <td>Vaccinee</td>\n",
       "      <td>1.804002</td>\n",
       "    </tr>\n",
       "    <tr>\n",
       "      <th>pfizer49</th>\n",
       "      <td>Vaccinee</td>\n",
       "      <td>1.239837</td>\n",
       "    </tr>\n",
       "    <tr>\n",
       "      <th>pfizer55</th>\n",
       "      <td>Vaccinee</td>\n",
       "      <td>1.126029</td>\n",
       "    </tr>\n",
       "    <tr>\n",
       "      <th>pfizer56</th>\n",
       "      <td>Vaccinee</td>\n",
       "      <td>1.297713</td>\n",
       "    </tr>\n",
       "    <tr>\n",
       "      <th>pfizer58</th>\n",
       "      <td>Vaccinee</td>\n",
       "      <td>0.942984</td>\n",
       "    </tr>\n",
       "  </tbody>\n",
       "</table>\n",
       "<p>73 rows × 2 columns</p>\n",
       "</div>"
      ],
      "text/plain": [
       "                                        Status     ratio\n",
       "VariantInfection_11  Variant Infection - Delta  0.443932\n",
       "VariantInfection_33  Variant Infection - Delta  0.203085\n",
       "VariantInfection_34  Variant Infection - Delta  0.329469\n",
       "VariantInfection_38  Variant Infection - Delta  0.180084\n",
       "VariantInfection_43  Variant Infection - Delta  0.272468\n",
       "...                                        ...       ...\n",
       "pfizer48                              Vaccinee  1.804002\n",
       "pfizer49                              Vaccinee  1.239837\n",
       "pfizer55                              Vaccinee  1.126029\n",
       "pfizer56                              Vaccinee  1.297713\n",
       "pfizer58                              Vaccinee  0.942984\n",
       "\n",
       "[73 rows x 2 columns]"
      ]
     },
     "execution_count": 1,
     "metadata": {},
     "output_type": "execute_result"
    }
   ],
   "source": [
    "imprinting_df.dropna(inplace=True)\n",
    "imprinting_df"
   ]
  },
  {
   "cell_type": "code",
   "execution_count": 73,
   "metadata": {
    "execution": {
     "iopub.execute_input": "2022-01-15T22:14:06.117400Z",
     "iopub.status.busy": "2022-01-15T22:14:06.115873Z",
     "iopub.status.idle": "2022-01-15T22:14:06.121037Z",
     "shell.execute_reply": "2022-01-15T22:14:06.122536Z"
    }
   },
   "outputs": [
    {
     "data": {
      "text/plain": [
       "Vaccinee                                       40\n",
       "Variant Infection - Delta                      21\n",
       "Variant Infection - Delta - mRNA vaccinated    12\n",
       "Name: Status, dtype: int64"
      ]
     },
     "execution_count": 1,
     "metadata": {},
     "output_type": "execute_result"
    }
   ],
   "source": [
    "imprinting_df[\"Status\"].value_counts()"
   ]
  },
  {
   "cell_type": "code",
   "execution_count": 74,
   "metadata": {
    "execution": {
     "iopub.execute_input": "2022-01-15T22:14:06.131618Z",
     "iopub.status.busy": "2022-01-15T22:14:06.130227Z",
     "iopub.status.idle": "2022-01-15T22:14:06.133173Z",
     "shell.execute_reply": "2022-01-15T22:14:06.134498Z"
    }
   },
   "outputs": [],
   "source": [
    "imprinting_df[\"Status\"] = imprinting_df[\"Status\"].replace(\n",
    "    {\n",
    "        \"Vaccinee\": \"Vaccinated against Wuhan\",\n",
    "        \"Variant Infection - Delta\": \"Infected with Delta\",\n",
    "        \"Variant Infection - Delta - mRNA vaccinated\": \"Vaccinated against Wuhan + Infected with Delta\",\n",
    "    }\n",
    ")"
   ]
  },
  {
   "cell_type": "code",
   "execution_count": 75,
   "metadata": {
    "execution": {
     "iopub.execute_input": "2022-01-15T22:14:06.146054Z",
     "iopub.status.busy": "2022-01-15T22:14:06.144843Z",
     "iopub.status.idle": "2022-01-15T22:14:06.149682Z",
     "shell.execute_reply": "2022-01-15T22:14:06.151204Z"
    }
   },
   "outputs": [
    {
     "data": {
      "text/plain": [
       "Vaccinated against Wuhan                          40\n",
       "Infected with Delta                               21\n",
       "Vaccinated against Wuhan + Infected with Delta    12\n",
       "Name: Status, dtype: int64"
      ]
     },
     "execution_count": 1,
     "metadata": {},
     "output_type": "execute_result"
    }
   ],
   "source": [
    "imprinting_df[\"Status\"].value_counts()"
   ]
  },
  {
   "cell_type": "code",
   "execution_count": null,
   "metadata": {},
   "outputs": [],
   "source": []
  },
  {
   "cell_type": "markdown",
   "metadata": {},
   "source": [
    "### Plot raw data"
   ]
  },
  {
   "cell_type": "code",
   "execution_count": 76,
   "metadata": {
    "execution": {
     "iopub.execute_input": "2022-01-15T22:14:06.173382Z",
     "iopub.status.busy": "2022-01-15T22:14:06.171872Z",
     "iopub.status.idle": "2022-01-15T22:14:06.177286Z",
     "shell.execute_reply": "2022-01-15T22:14:06.179093Z"
    }
   },
   "outputs": [
    {
     "data": {
      "text/html": [
       "<div>\n",
       "<style scoped>\n",
       "    .dataframe tbody tr th:only-of-type {\n",
       "        vertical-align: middle;\n",
       "    }\n",
       "\n",
       "    .dataframe tbody tr th {\n",
       "        vertical-align: top;\n",
       "    }\n",
       "\n",
       "    .dataframe thead th {\n",
       "        text-align: right;\n",
       "    }\n",
       "</style>\n",
       "<table border=\"1\" class=\"dataframe\">\n",
       "  <thead>\n",
       "    <tr style=\"text-align: right;\">\n",
       "      <th></th>\n",
       "      <th>Status</th>\n",
       "      <th>ratio</th>\n",
       "    </tr>\n",
       "  </thead>\n",
       "  <tbody>\n",
       "    <tr>\n",
       "      <th>VariantInfection_11</th>\n",
       "      <td>Infected with Delta</td>\n",
       "      <td>0.443932</td>\n",
       "    </tr>\n",
       "    <tr>\n",
       "      <th>VariantInfection_33</th>\n",
       "      <td>Infected with Delta</td>\n",
       "      <td>0.203085</td>\n",
       "    </tr>\n",
       "    <tr>\n",
       "      <th>VariantInfection_34</th>\n",
       "      <td>Infected with Delta</td>\n",
       "      <td>0.329469</td>\n",
       "    </tr>\n",
       "    <tr>\n",
       "      <th>VariantInfection_38</th>\n",
       "      <td>Infected with Delta</td>\n",
       "      <td>0.180084</td>\n",
       "    </tr>\n",
       "    <tr>\n",
       "      <th>VariantInfection_43</th>\n",
       "      <td>Infected with Delta</td>\n",
       "      <td>0.272468</td>\n",
       "    </tr>\n",
       "    <tr>\n",
       "      <th>...</th>\n",
       "      <td>...</td>\n",
       "      <td>...</td>\n",
       "    </tr>\n",
       "    <tr>\n",
       "      <th>pfizer48</th>\n",
       "      <td>Vaccinated against Wuhan</td>\n",
       "      <td>1.804002</td>\n",
       "    </tr>\n",
       "    <tr>\n",
       "      <th>pfizer49</th>\n",
       "      <td>Vaccinated against Wuhan</td>\n",
       "      <td>1.239837</td>\n",
       "    </tr>\n",
       "    <tr>\n",
       "      <th>pfizer55</th>\n",
       "      <td>Vaccinated against Wuhan</td>\n",
       "      <td>1.126029</td>\n",
       "    </tr>\n",
       "    <tr>\n",
       "      <th>pfizer56</th>\n",
       "      <td>Vaccinated against Wuhan</td>\n",
       "      <td>1.297713</td>\n",
       "    </tr>\n",
       "    <tr>\n",
       "      <th>pfizer58</th>\n",
       "      <td>Vaccinated against Wuhan</td>\n",
       "      <td>0.942984</td>\n",
       "    </tr>\n",
       "  </tbody>\n",
       "</table>\n",
       "<p>73 rows × 2 columns</p>\n",
       "</div>"
      ],
      "text/plain": [
       "                                       Status     ratio\n",
       "VariantInfection_11       Infected with Delta  0.443932\n",
       "VariantInfection_33       Infected with Delta  0.203085\n",
       "VariantInfection_34       Infected with Delta  0.329469\n",
       "VariantInfection_38       Infected with Delta  0.180084\n",
       "VariantInfection_43       Infected with Delta  0.272468\n",
       "...                                       ...       ...\n",
       "pfizer48             Vaccinated against Wuhan  1.804002\n",
       "pfizer49             Vaccinated against Wuhan  1.239837\n",
       "pfizer55             Vaccinated against Wuhan  1.126029\n",
       "pfizer56             Vaccinated against Wuhan  1.297713\n",
       "pfizer58             Vaccinated against Wuhan  0.942984\n",
       "\n",
       "[73 rows x 2 columns]"
      ]
     },
     "execution_count": 1,
     "metadata": {},
     "output_type": "execute_result"
    }
   ],
   "source": [
    "imprinting_df"
   ]
  },
  {
   "cell_type": "code",
   "execution_count": 77,
   "metadata": {
    "execution": {
     "iopub.execute_input": "2022-01-15T22:14:06.200536Z",
     "iopub.status.busy": "2022-01-15T22:14:06.199011Z",
     "iopub.status.idle": "2022-01-15T22:14:06.223144Z",
     "shell.execute_reply": "2022-01-15T22:14:06.224663Z"
    }
   },
   "outputs": [
    {
     "data": {
      "text/html": [
       "<div>\n",
       "<style scoped>\n",
       "    .dataframe tbody tr th:only-of-type {\n",
       "        vertical-align: middle;\n",
       "    }\n",
       "\n",
       "    .dataframe tbody tr th {\n",
       "        vertical-align: top;\n",
       "    }\n",
       "\n",
       "    .dataframe thead th {\n",
       "        text-align: right;\n",
       "    }\n",
       "</style>\n",
       "<table border=\"1\" class=\"dataframe\">\n",
       "  <thead>\n",
       "    <tr style=\"text-align: right;\">\n",
       "      <th></th>\n",
       "      <th>Status</th>\n",
       "      <th>ratio</th>\n",
       "      <th>Wuhan_RBD_Variant_IgG_day 28 / week 4</th>\n",
       "      <th>Delta_RBD_Variant_IgG_day 28 / week 4</th>\n",
       "    </tr>\n",
       "  </thead>\n",
       "  <tbody>\n",
       "    <tr>\n",
       "      <th>VariantInfection_11</th>\n",
       "      <td>Infected with Delta</td>\n",
       "      <td>0.443932</td>\n",
       "      <td>16624.603516</td>\n",
       "      <td>37448.531250</td>\n",
       "    </tr>\n",
       "    <tr>\n",
       "      <th>VariantInfection_33</th>\n",
       "      <td>Infected with Delta</td>\n",
       "      <td>0.203085</td>\n",
       "      <td>1494.242676</td>\n",
       "      <td>7357.725098</td>\n",
       "    </tr>\n",
       "    <tr>\n",
       "      <th>VariantInfection_34</th>\n",
       "      <td>Infected with Delta</td>\n",
       "      <td>0.329469</td>\n",
       "      <td>65938.476562</td>\n",
       "      <td>200135.359375</td>\n",
       "    </tr>\n",
       "    <tr>\n",
       "      <th>VariantInfection_38</th>\n",
       "      <td>Infected with Delta</td>\n",
       "      <td>0.180084</td>\n",
       "      <td>2688.439453</td>\n",
       "      <td>14928.813477</td>\n",
       "    </tr>\n",
       "    <tr>\n",
       "      <th>VariantInfection_43</th>\n",
       "      <td>Infected with Delta</td>\n",
       "      <td>0.272468</td>\n",
       "      <td>2201.217041</td>\n",
       "      <td>8078.817871</td>\n",
       "    </tr>\n",
       "    <tr>\n",
       "      <th>...</th>\n",
       "      <td>...</td>\n",
       "      <td>...</td>\n",
       "      <td>...</td>\n",
       "      <td>...</td>\n",
       "    </tr>\n",
       "    <tr>\n",
       "      <th>pfizer48</th>\n",
       "      <td>Vaccinated against Wuhan</td>\n",
       "      <td>1.804002</td>\n",
       "      <td>242265.515625</td>\n",
       "      <td>134293.375000</td>\n",
       "    </tr>\n",
       "    <tr>\n",
       "      <th>pfizer49</th>\n",
       "      <td>Vaccinated against Wuhan</td>\n",
       "      <td>1.239837</td>\n",
       "      <td>60149.832031</td>\n",
       "      <td>48514.312500</td>\n",
       "    </tr>\n",
       "    <tr>\n",
       "      <th>pfizer55</th>\n",
       "      <td>Vaccinated against Wuhan</td>\n",
       "      <td>1.126029</td>\n",
       "      <td>17289.564453</td>\n",
       "      <td>15354.451172</td>\n",
       "    </tr>\n",
       "    <tr>\n",
       "      <th>pfizer56</th>\n",
       "      <td>Vaccinated against Wuhan</td>\n",
       "      <td>1.297713</td>\n",
       "      <td>214266.906250</td>\n",
       "      <td>165111.218750</td>\n",
       "    </tr>\n",
       "    <tr>\n",
       "      <th>pfizer58</th>\n",
       "      <td>Vaccinated against Wuhan</td>\n",
       "      <td>0.942984</td>\n",
       "      <td>7348.445801</td>\n",
       "      <td>7792.754395</td>\n",
       "    </tr>\n",
       "  </tbody>\n",
       "</table>\n",
       "<p>73 rows × 4 columns</p>\n",
       "</div>"
      ],
      "text/plain": [
       "                                       Status     ratio  \\\n",
       "VariantInfection_11       Infected with Delta  0.443932   \n",
       "VariantInfection_33       Infected with Delta  0.203085   \n",
       "VariantInfection_34       Infected with Delta  0.329469   \n",
       "VariantInfection_38       Infected with Delta  0.180084   \n",
       "VariantInfection_43       Infected with Delta  0.272468   \n",
       "...                                       ...       ...   \n",
       "pfizer48             Vaccinated against Wuhan  1.804002   \n",
       "pfizer49             Vaccinated against Wuhan  1.239837   \n",
       "pfizer55             Vaccinated against Wuhan  1.126029   \n",
       "pfizer56             Vaccinated against Wuhan  1.297713   \n",
       "pfizer58             Vaccinated against Wuhan  0.942984   \n",
       "\n",
       "                     Wuhan_RBD_Variant_IgG_day 28 / week 4  \\\n",
       "VariantInfection_11                           16624.603516   \n",
       "VariantInfection_33                            1494.242676   \n",
       "VariantInfection_34                           65938.476562   \n",
       "VariantInfection_38                            2688.439453   \n",
       "VariantInfection_43                            2201.217041   \n",
       "...                                                    ...   \n",
       "pfizer48                                     242265.515625   \n",
       "pfizer49                                      60149.832031   \n",
       "pfizer55                                      17289.564453   \n",
       "pfizer56                                     214266.906250   \n",
       "pfizer58                                       7348.445801   \n",
       "\n",
       "                     Delta_RBD_Variant_IgG_day 28 / week 4  \n",
       "VariantInfection_11                           37448.531250  \n",
       "VariantInfection_33                            7357.725098  \n",
       "VariantInfection_34                          200135.359375  \n",
       "VariantInfection_38                           14928.813477  \n",
       "VariantInfection_43                            8078.817871  \n",
       "...                                                    ...  \n",
       "pfizer48                                     134293.375000  \n",
       "pfizer49                                      48514.312500  \n",
       "pfizer55                                      15354.451172  \n",
       "pfizer56                                     165111.218750  \n",
       "pfizer58                                       7792.754395  \n",
       "\n",
       "[73 rows x 4 columns]"
      ]
     },
     "execution_count": 1,
     "metadata": {},
     "output_type": "execute_result"
    }
   ],
   "source": [
    "# get raw values\n",
    "numerator_varname = adata_imprinting.var.squeeze()[\"numerator\"]\n",
    "denominator_varname = adata_imprinting.var.squeeze()[\"denominator\"]\n",
    "\n",
    "imprinting_df = genetools.helpers.merge_into_left(\n",
    "    imprinting_df, adata_all[:, [numerator_varname, denominator_varname]].to_df()\n",
    ")\n",
    "assert (\n",
    "    not imprinting_df[[numerator_varname, denominator_varname]].isna().any().any()\n",
    "), \"some raw values missing\"\n",
    "imprinting_df"
   ]
  },
  {
   "cell_type": "code",
   "execution_count": 78,
   "metadata": {
    "execution": {
     "iopub.execute_input": "2022-01-15T22:14:06.296107Z",
     "iopub.status.busy": "2022-01-15T22:14:06.294520Z",
     "iopub.status.idle": "2022-01-15T22:14:07.572561Z",
     "shell.execute_reply": "2022-01-15T22:14:07.574110Z"
    }
   },
   "outputs": [
    {
     "data": {
      "image/png": "[encoded data removed]",
      "text/plain": [
       "<Figure size 1138.23x288 with 3 Axes>"
      ]
     },
     "metadata": {
      "needs_background": "light"
     },
     "output_type": "display_data"
    }
   ],
   "source": [
    "g = sns.FacetGrid(\n",
    "    imprinting_df,\n",
    "    col=\"Status\",\n",
    "    hue=\"Status\",\n",
    "    height=4,\n",
    "    sharey=False,\n",
    "    sharex=False,\n",
    ")\n",
    "g.map(sns.scatterplot, numerator_varname, denominator_varname, alpha=0.7)\n",
    "for ax in g.axes_dict.values():\n",
    "    ax.axline((0, 0), slope=1, color=\".2\", linestyle=\"--\", zorder=0)\n",
    "\n",
    "for ax in g.axes.flat:\n",
    "    # Make square: https://stackoverflow.com/q/25497402/130164\n",
    "    # Get min and max of both axes\n",
    "    lims = [\n",
    "        np.min([ax.get_xlim(), ax.get_ylim()]),\n",
    "        np.max([ax.get_xlim(), ax.get_ylim()]),\n",
    "    ]\n",
    "    ax.set_aspect(\"equal\")\n",
    "    ax.set_xlim(lims)\n",
    "    ax.set_ylim(lims)\n",
    "g.add_legend()\n",
    "\n",
    "genetools.plots.savefig(\n",
    "    g.fig, f\"{config.paths.output_dir}/imprinting_level.raw_values.png\", dpi=72\n",
    ")"
   ]
  },
  {
   "cell_type": "code",
   "execution_count": null,
   "metadata": {},
   "outputs": [],
   "source": []
  },
  {
   "cell_type": "code",
   "execution_count": 79,
   "metadata": {
    "execution": {
     "iopub.execute_input": "2022-01-15T22:14:07.871874Z",
     "iopub.status.busy": "2022-01-15T22:14:07.860992Z",
     "iopub.status.idle": "2022-01-15T22:14:10.059136Z",
     "shell.execute_reply": "2022-01-15T22:14:10.060668Z"
    }
   },
   "outputs": [
    {
     "data": {
      "image/png": "[encoded data removed]",
      "text/plain": [
       "<Figure size 432x432 with 3 Axes>"
      ]
     },
     "metadata": {},
     "output_type": "display_data"
    },
    {
     "data": {
      "image/png": "[encoded data removed]",
      "text/plain": [
       "<Figure size 432x432 with 3 Axes>"
      ]
     },
     "metadata": {},
     "output_type": "display_data"
    },
    {
     "data": {
      "image/png": "[encoded data removed]",
      "text/plain": [
       "<Figure size 432x432 with 3 Axes>"
      ]
     },
     "metadata": {},
     "output_type": "display_data"
    }
   ],
   "source": [
    "with sns.axes_style(\"white\"):\n",
    "    for (status, grp), color in zip(\n",
    "        imprinting_df.groupby(\"Status\", sort=False), sns.color_palette()\n",
    "    ):\n",
    "        g = sns.jointplot(\n",
    "            data=grp,\n",
    "            x=numerator_varname,\n",
    "            y=denominator_varname,\n",
    "            color=color,\n",
    "        )\n",
    "        ax = g.ax_joint\n",
    "        ax.axline((0, 0), slope=1, color=\".2\", linestyle=\"--\", zorder=0)\n",
    "\n",
    "        # Make square: https://stackoverflow.com/q/25497402/130164\n",
    "        # Get min and max of both axes\n",
    "        lims = [\n",
    "            np.min([ax.get_xlim(), ax.get_ylim()]),\n",
    "            np.max([ax.get_xlim(), ax.get_ylim()]),\n",
    "        ]\n",
    "        ax.set_aspect(\"equal\")\n",
    "        ax.set_xlim(lims)\n",
    "        ax.set_ylim(lims)\n",
    "        g.fig.subplots_adjust(top=0.9)\n",
    "        g.fig.suptitle(status)\n",
    "        genetools.plots.savefig(\n",
    "            g.fig,\n",
    "            f\"{config.paths.output_dir}/imprinting_level.raw_values.{slugify(status)}.png\",\n",
    "            dpi=72,\n",
    "        )"
   ]
  },
  {
   "cell_type": "code",
   "execution_count": null,
   "metadata": {},
   "outputs": [],
   "source": []
  },
  {
   "cell_type": "markdown",
   "metadata": {},
   "source": [
    "### Plot raw ratios"
   ]
  },
  {
   "cell_type": "code",
   "execution_count": 80,
   "metadata": {
    "execution": {
     "iopub.execute_input": "2022-01-15T22:14:10.130643Z",
     "iopub.status.busy": "2022-01-15T22:14:10.111982Z",
     "iopub.status.idle": "2022-01-15T22:14:10.448629Z",
     "shell.execute_reply": "2022-01-15T22:14:10.450152Z"
    }
   },
   "outputs": [
    {
     "data": {
      "image/png": "[encoded data removed]",
      "text/plain": [
       "<Figure size 432x288 with 1 Axes>"
      ]
     },
     "metadata": {
      "needs_background": "light"
     },
     "output_type": "display_data"
    }
   ],
   "source": [
    "fig, ax = plt.subplots()\n",
    "sns.boxplot(data=imprinting_df, x=\"Status\", y=\"ratio\", ax=ax)\n",
    "sns.swarmplot(data=imprinting_df, x=\"Status\", y=\"ratio\", color=\".25\", alpha=0.7, ax=ax)\n",
    "\n",
    "# Even preferences line\n",
    "plt.axhline(y=1, color=\"k\", zorder=-5, linestyle=\"dashed\")\n",
    "\n",
    "plt.ylabel(\"Wuhan / Delta ratio\")\n",
    "\n",
    "# wrap tick labels\n",
    "genetools.plots.wrap_tick_labels(ax, wrap_x_axis=True, wrap_y_axis=False)\n",
    "\n",
    "genetools.plots.savefig(\n",
    "    fig, f\"{config.paths.output_dir}/imprinting_level.raw_ratios.png\", dpi=72\n",
    ")"
   ]
  },
  {
   "cell_type": "code",
   "execution_count": null,
   "metadata": {},
   "outputs": [],
   "source": []
  },
  {
   "cell_type": "markdown",
   "metadata": {},
   "source": [
    "### Plot log transformed ratio"
   ]
  },
  {
   "cell_type": "code",
   "execution_count": 81,
   "metadata": {
    "execution": {
     "iopub.execute_input": "2022-01-15T22:14:10.469803Z",
     "iopub.status.busy": "2022-01-15T22:14:10.464687Z",
     "iopub.status.idle": "2022-01-15T22:14:10.473917Z",
     "shell.execute_reply": "2022-01-15T22:14:10.475455Z"
    }
   },
   "outputs": [
    {
     "data": {
      "text/html": [
       "<div>\n",
       "<style scoped>\n",
       "    .dataframe tbody tr th:only-of-type {\n",
       "        vertical-align: middle;\n",
       "    }\n",
       "\n",
       "    .dataframe tbody tr th {\n",
       "        vertical-align: top;\n",
       "    }\n",
       "\n",
       "    .dataframe thead th {\n",
       "        text-align: right;\n",
       "    }\n",
       "</style>\n",
       "<table border=\"1\" class=\"dataframe\">\n",
       "  <thead>\n",
       "    <tr style=\"text-align: right;\">\n",
       "      <th></th>\n",
       "      <th>Status</th>\n",
       "      <th>ratio</th>\n",
       "      <th>Wuhan_RBD_Variant_IgG_day 28 / week 4</th>\n",
       "      <th>Delta_RBD_Variant_IgG_day 28 / week 4</th>\n",
       "      <th>ratio_log</th>\n",
       "    </tr>\n",
       "  </thead>\n",
       "  <tbody>\n",
       "    <tr>\n",
       "      <th>VariantInfection_11</th>\n",
       "      <td>Infected with Delta</td>\n",
       "      <td>0.443932</td>\n",
       "      <td>16624.603516</td>\n",
       "      <td>37448.531250</td>\n",
       "      <td>-0.812084</td>\n",
       "    </tr>\n",
       "    <tr>\n",
       "      <th>VariantInfection_33</th>\n",
       "      <td>Infected with Delta</td>\n",
       "      <td>0.203085</td>\n",
       "      <td>1494.242676</td>\n",
       "      <td>7357.725098</td>\n",
       "      <td>-1.594131</td>\n",
       "    </tr>\n",
       "    <tr>\n",
       "      <th>VariantInfection_34</th>\n",
       "      <td>Infected with Delta</td>\n",
       "      <td>0.329469</td>\n",
       "      <td>65938.476562</td>\n",
       "      <td>200135.359375</td>\n",
       "      <td>-1.110272</td>\n",
       "    </tr>\n",
       "    <tr>\n",
       "      <th>VariantInfection_38</th>\n",
       "      <td>Infected with Delta</td>\n",
       "      <td>0.180084</td>\n",
       "      <td>2688.439453</td>\n",
       "      <td>14928.813477</td>\n",
       "      <td>-1.714332</td>\n",
       "    </tr>\n",
       "    <tr>\n",
       "      <th>VariantInfection_43</th>\n",
       "      <td>Infected with Delta</td>\n",
       "      <td>0.272468</td>\n",
       "      <td>2201.217041</td>\n",
       "      <td>8078.817871</td>\n",
       "      <td>-1.300235</td>\n",
       "    </tr>\n",
       "    <tr>\n",
       "      <th>...</th>\n",
       "      <td>...</td>\n",
       "      <td>...</td>\n",
       "      <td>...</td>\n",
       "      <td>...</td>\n",
       "      <td>...</td>\n",
       "    </tr>\n",
       "    <tr>\n",
       "      <th>pfizer48</th>\n",
       "      <td>Vaccinated against Wuhan</td>\n",
       "      <td>1.804002</td>\n",
       "      <td>242265.515625</td>\n",
       "      <td>134293.375000</td>\n",
       "      <td>0.590008</td>\n",
       "    </tr>\n",
       "    <tr>\n",
       "      <th>pfizer49</th>\n",
       "      <td>Vaccinated against Wuhan</td>\n",
       "      <td>1.239837</td>\n",
       "      <td>60149.832031</td>\n",
       "      <td>48514.312500</td>\n",
       "      <td>0.214980</td>\n",
       "    </tr>\n",
       "    <tr>\n",
       "      <th>pfizer55</th>\n",
       "      <td>Vaccinated against Wuhan</td>\n",
       "      <td>1.126029</td>\n",
       "      <td>17289.564453</td>\n",
       "      <td>15354.451172</td>\n",
       "      <td>0.118698</td>\n",
       "    </tr>\n",
       "    <tr>\n",
       "      <th>pfizer56</th>\n",
       "      <td>Vaccinated against Wuhan</td>\n",
       "      <td>1.297713</td>\n",
       "      <td>214266.906250</td>\n",
       "      <td>165111.218750</td>\n",
       "      <td>0.260603</td>\n",
       "    </tr>\n",
       "    <tr>\n",
       "      <th>pfizer58</th>\n",
       "      <td>Vaccinated against Wuhan</td>\n",
       "      <td>0.942984</td>\n",
       "      <td>7348.445801</td>\n",
       "      <td>7792.754395</td>\n",
       "      <td>-0.058706</td>\n",
       "    </tr>\n",
       "  </tbody>\n",
       "</table>\n",
       "<p>73 rows × 5 columns</p>\n",
       "</div>"
      ],
      "text/plain": [
       "                                       Status     ratio  \\\n",
       "VariantInfection_11       Infected with Delta  0.443932   \n",
       "VariantInfection_33       Infected with Delta  0.203085   \n",
       "VariantInfection_34       Infected with Delta  0.329469   \n",
       "VariantInfection_38       Infected with Delta  0.180084   \n",
       "VariantInfection_43       Infected with Delta  0.272468   \n",
       "...                                       ...       ...   \n",
       "pfizer48             Vaccinated against Wuhan  1.804002   \n",
       "pfizer49             Vaccinated against Wuhan  1.239837   \n",
       "pfizer55             Vaccinated against Wuhan  1.126029   \n",
       "pfizer56             Vaccinated against Wuhan  1.297713   \n",
       "pfizer58             Vaccinated against Wuhan  0.942984   \n",
       "\n",
       "                     Wuhan_RBD_Variant_IgG_day 28 / week 4  \\\n",
       "VariantInfection_11                           16624.603516   \n",
       "VariantInfection_33                            1494.242676   \n",
       "VariantInfection_34                           65938.476562   \n",
       "VariantInfection_38                            2688.439453   \n",
       "VariantInfection_43                            2201.217041   \n",
       "...                                                    ...   \n",
       "pfizer48                                     242265.515625   \n",
       "pfizer49                                      60149.832031   \n",
       "pfizer55                                      17289.564453   \n",
       "pfizer56                                     214266.906250   \n",
       "pfizer58                                       7348.445801   \n",
       "\n",
       "                     Delta_RBD_Variant_IgG_day 28 / week 4  ratio_log  \n",
       "VariantInfection_11                           37448.531250  -0.812084  \n",
       "VariantInfection_33                            7357.725098  -1.594131  \n",
       "VariantInfection_34                          200135.359375  -1.110272  \n",
       "VariantInfection_38                           14928.813477  -1.714332  \n",
       "VariantInfection_43                            8078.817871  -1.300235  \n",
       "...                                                    ...        ...  \n",
       "pfizer48                                     134293.375000   0.590008  \n",
       "pfizer49                                      48514.312500   0.214980  \n",
       "pfizer55                                      15354.451172   0.118698  \n",
       "pfizer56                                     165111.218750   0.260603  \n",
       "pfizer58                                       7792.754395  -0.058706  \n",
       "\n",
       "[73 rows x 5 columns]"
      ]
     },
     "execution_count": 1,
     "metadata": {},
     "output_type": "execute_result"
    }
   ],
   "source": [
    "imprinting_df[\"ratio_log\"] = np.log(imprinting_df[\"ratio\"])\n",
    "imprinting_df"
   ]
  },
  {
   "cell_type": "code",
   "execution_count": 82,
   "metadata": {
    "execution": {
     "iopub.execute_input": "2022-01-15T22:14:10.527721Z",
     "iopub.status.busy": "2022-01-15T22:14:10.526143Z",
     "iopub.status.idle": "2022-01-15T22:14:10.857380Z",
     "shell.execute_reply": "2022-01-15T22:14:10.858934Z"
    }
   },
   "outputs": [
    {
     "data": {
      "image/png": "[encoded data removed]",
      "text/plain": [
       "<Figure size 432x288 with 1 Axes>"
      ]
     },
     "metadata": {
      "needs_background": "light"
     },
     "output_type": "display_data"
    }
   ],
   "source": [
    "fig, ax = plt.subplots()\n",
    "\n",
    "sns.boxplot(data=imprinting_df, x=\"Status\", y=\"ratio_log\", ax=ax)\n",
    "sns.swarmplot(\n",
    "    data=imprinting_df, x=\"Status\", y=\"ratio_log\", color=\".25\", alpha=0.7, ax=ax\n",
    ")\n",
    "\n",
    "# even preference line\n",
    "plt.axhline(y=0, color=\"k\", zorder=-5, linestyle=\"dashed\")\n",
    "\n",
    "# wrap tick labels\n",
    "genetools.plots.wrap_tick_labels(ax, wrap_x_axis=True, wrap_y_axis=False)\n",
    "\n",
    "plt.ylabel(\"Wuhan / Delta ratio, log transformed\")\n",
    "\n",
    "genetools.plots.savefig(\n",
    "    fig, f\"{config.paths.output_dir}/imprinting_level.log_ratios.png\", dpi=72\n",
    ")"
   ]
  },
  {
   "cell_type": "code",
   "execution_count": 83,
   "metadata": {
    "execution": {
     "iopub.execute_input": "2022-01-15T22:14:10.869644Z",
     "iopub.status.busy": "2022-01-15T22:14:10.865696Z",
     "iopub.status.idle": "2022-01-15T22:14:10.873612Z",
     "shell.execute_reply": "2022-01-15T22:14:10.874819Z"
    }
   },
   "outputs": [
    {
     "data": {
      "text/plain": [
       "count    73.000000\n",
       "mean     -0.133897\n",
       "std       0.775900\n",
       "min      -2.209176\n",
       "25%      -0.639939\n",
       "50%       0.217850\n",
       "75%       0.368859\n",
       "max       1.314393\n",
       "Name: ratio_log, dtype: float64"
      ]
     },
     "execution_count": 1,
     "metadata": {},
     "output_type": "execute_result"
    }
   ],
   "source": [
    "imprinting_df[\"ratio_log\"].describe()"
   ]
  },
  {
   "cell_type": "code",
   "execution_count": null,
   "metadata": {},
   "outputs": [],
   "source": []
  },
  {
   "cell_type": "markdown",
   "metadata": {},
   "source": [
    "### Rescale log-transformed ratio, piecewise: -100%-0 and 0-100%"
   ]
  },
  {
   "cell_type": "code",
   "execution_count": null,
   "metadata": {},
   "outputs": [],
   "source": []
  },
  {
   "cell_type": "code",
   "execution_count": 84,
   "metadata": {
    "execution": {
     "iopub.execute_input": "2022-01-15T22:14:10.897235Z",
     "iopub.status.busy": "2022-01-15T22:14:10.893337Z",
     "iopub.status.idle": "2022-01-15T22:14:10.900923Z",
     "shell.execute_reply": "2022-01-15T22:14:10.902435Z"
    }
   },
   "outputs": [
    {
     "data": {
      "text/plain": [
       "count    73.000000\n",
       "mean      0.010470\n",
       "std       0.409912\n",
       "min      -1.000000\n",
       "25%      -0.289673\n",
       "50%       0.165742\n",
       "75%       0.280630\n",
       "max       1.000000\n",
       "Name: Imprinting level, dtype: float64"
      ]
     },
     "execution_count": 1,
     "metadata": {},
     "output_type": "execute_result"
    }
   ],
   "source": [
    "# ratio_log_rescaled\n",
    "imprinting_df[\"Imprinting level\"] = imprinting_df[\"ratio_log\"].copy()\n",
    "maximum_ratio_log = np.abs(imprinting_df[\"ratio_log\"].max())\n",
    "minimum_ratio_log = np.abs(imprinting_df[\"ratio_log\"].min())\n",
    "imprinting_df.loc[imprinting_df[\"ratio_log\"] > 0, \"Imprinting level\"] = (\n",
    "    imprinting_df.loc[imprinting_df[\"ratio_log\"] > 0, \"ratio_log\"] / maximum_ratio_log\n",
    ")\n",
    "imprinting_df.loc[imprinting_df[\"ratio_log\"] < 0, \"Imprinting level\"] = (\n",
    "    imprinting_df.loc[imprinting_df[\"ratio_log\"] < 0, \"ratio_log\"] / minimum_ratio_log\n",
    ")\n",
    "imprinting_df[\"Imprinting level\"].describe()"
   ]
  },
  {
   "cell_type": "code",
   "execution_count": null,
   "metadata": {},
   "outputs": [],
   "source": []
  },
  {
   "cell_type": "code",
   "execution_count": 85,
   "metadata": {
    "execution": {
     "iopub.execute_input": "2022-01-15T22:14:10.970991Z",
     "iopub.status.busy": "2022-01-15T22:14:10.935013Z",
     "iopub.status.idle": "2022-01-15T22:14:11.726088Z",
     "shell.execute_reply": "2022-01-15T22:14:11.727636Z"
    }
   },
   "outputs": [
    {
     "data": {
      "image/png": "[encoded data removed]",
      "text/plain": [
       "<Figure size 432x288 with 1 Axes>"
      ]
     },
     "metadata": {
      "needs_background": "light"
     },
     "output_type": "display_data"
    }
   ],
   "source": [
    "fig, ax = plt.subplots()\n",
    "sns.boxplot(data=imprinting_df, x=\"Status\", y=\"Imprinting level\", ax=ax)\n",
    "sns.swarmplot(\n",
    "    data=imprinting_df, x=\"Status\", y=\"Imprinting level\", color=\".25\", alpha=0.7, ax=ax\n",
    ")\n",
    "plt.axhline(y=0, color=\"k\", zorder=-5, linestyle=\"dashed\")\n",
    "plt.yticks(\n",
    "    ticks=[-1, -0.5, 0, 0.5, 1],\n",
    "    labels=[\n",
    "        \"100% Delta preference\",\n",
    "        \"50%\",\n",
    "        \"Even preference\",\n",
    "        \"50%\",\n",
    "        \"100% Wuhan preference\",\n",
    "    ],\n",
    ")\n",
    "\n",
    "# Add sample size to labels\n",
    "ax.set_xticklabels(\n",
    "    genetools.plots.add_sample_size_to_labels(\n",
    "        labels=ax.get_xticklabels(), data=imprinting_df, hue_key=\"Status\"\n",
    "    )\n",
    ")\n",
    "\n",
    "# wrap tick labels\n",
    "genetools.plots.wrap_tick_labels(ax, wrap_x_axis=True, wrap_y_axis=True)\n",
    "\n",
    "\n",
    "# save rasterized\n",
    "genetools.plots.savefig(\n",
    "    fig, f\"{config.paths.output_dir}/imprinting_level.log_rescaled_ratios.png\", dpi=72\n",
    ")\n",
    "# save vector\n",
    "genetools.plots.savefig(\n",
    "    fig, f\"{config.paths.output_dir}/imprinting_level.log_rescaled_ratios.pdf\"\n",
    ")"
   ]
  },
  {
   "cell_type": "code",
   "execution_count": null,
   "metadata": {},
   "outputs": [],
   "source": []
  },
  {
   "cell_type": "code",
   "execution_count": 86,
   "metadata": {
    "execution": {
     "iopub.execute_input": "2022-01-15T22:14:11.767210Z",
     "iopub.status.busy": "2022-01-15T22:14:11.763665Z",
     "iopub.status.idle": "2022-01-15T22:14:12.181461Z",
     "shell.execute_reply": "2022-01-15T22:14:12.183348Z"
    }
   },
   "outputs": [
    {
     "data": {
      "image/png": "[encoded data removed]",
      "text/plain": [
       "<Figure size 576x288 with 1 Axes>"
      ]
     },
     "metadata": {
      "needs_background": "light"
     },
     "output_type": "display_data"
    }
   ],
   "source": [
    "# Same but densities, overlapping\n",
    "\n",
    "fig, ax = plt.subplots(figsize=(8, 4))\n",
    "ax = sns.kdeplot(\n",
    "    data=imprinting_df, x=\"Imprinting level\", hue=\"Status\", ax=ax, legend=True\n",
    ")\n",
    "# Move legend -- need special way to extract legend for histplot or kdeplot: https://github.com/mwaskom/seaborn/issues/2280#issuecomment-899101193\n",
    "# place legend outside figure\n",
    "sns.move_legend(\n",
    "    ax,\n",
    "    bbox_to_anchor=(1.05, 0.5),\n",
    "    loc=\"center left\",\n",
    "    borderaxespad=0.0,\n",
    "    # no border\n",
    "    frameon=False,\n",
    "    # transparent background\n",
    "    framealpha=0.0,\n",
    ")\n",
    "\n",
    "\n",
    "plt.axvline(x=0, color=\"k\", zorder=-5, linestyle=\"dashed\")\n",
    "plt.xticks(\n",
    "    ticks=[-1, -0.5, 0, 0.5, 1],\n",
    "    labels=[\n",
    "        \"100% Delta preference\",\n",
    "        \"50%\",\n",
    "        \"Even preference\",\n",
    "        \"50%\",\n",
    "        \"100% Wuhan preference\",\n",
    "    ],\n",
    ")\n",
    "\n",
    "# wrap tick labels\n",
    "genetools.plots.wrap_tick_labels(ax, wrap_x_axis=True, wrap_y_axis=False)\n",
    "\n",
    "genetools.plots.savefig(\n",
    "    fig,\n",
    "    f\"{config.paths.output_dir}/imprinting_level.log_rescaled_ratios.densities.overlap.png\",\n",
    "    dpi=72,\n",
    ")"
   ]
  },
  {
   "cell_type": "code",
   "execution_count": 87,
   "metadata": {
    "execution": {
     "iopub.execute_input": "2022-01-15T22:14:12.260182Z",
     "iopub.status.busy": "2022-01-15T22:14:12.258541Z",
     "iopub.status.idle": "2022-01-15T22:14:13.512486Z",
     "shell.execute_reply": "2022-01-15T22:14:13.514032Z"
    }
   },
   "outputs": [
    {
     "data": {
      "image/png": "[encoded data removed]",
      "text/plain": [
       "<Figure size 432x648 with 3 Axes>"
      ]
     },
     "metadata": {
      "needs_background": "light"
     },
     "output_type": "display_data"
    }
   ],
   "source": [
    "# Same but densities, stacked\n",
    "\n",
    "g = sns.FacetGrid(\n",
    "    imprinting_df, row=\"Status\", hue=\"Status\", sharey=False, sharex=True, aspect=2\n",
    ")\n",
    "g.map(sns.kdeplot, \"Imprinting level\")\n",
    "\n",
    "for ax in g.axes.flat:\n",
    "    ax.axvline(x=0, color=\".2\", zorder=-5, linestyle=\"dashed\", alpha=0.7)\n",
    "\n",
    "    ax.set_xticks(ticks=[-1, 0, 1], minor=False)\n",
    "    ax.set_xticklabels(\n",
    "        [\n",
    "            \"100% Delta preference\",\n",
    "            \"Even preference\",\n",
    "            \"100% Wuhan preference\",\n",
    "        ],\n",
    "        minor=False,\n",
    "    )\n",
    "\n",
    "    ax.set_xticks(ticks=[-0.5, 0.5], minor=True)\n",
    "    ax.set_xticklabels(\n",
    "        [\n",
    "            \"50%\",\n",
    "            \"50%\",\n",
    "        ],\n",
    "        minor=True,\n",
    "    )\n",
    "\n",
    "    # wrap tick labels\n",
    "    genetools.plots.wrap_tick_labels(ax, wrap_x_axis=True, wrap_y_axis=False)\n",
    "\n",
    "\n",
    "# save rasterized\n",
    "genetools.plots.savefig(\n",
    "    g.fig,\n",
    "    f\"{config.paths.output_dir}/imprinting_level.log_rescaled_ratios.densities.stacked.png\",\n",
    "    dpi=72,\n",
    ")\n",
    "# save vector\n",
    "genetools.plots.savefig(\n",
    "    g.fig,\n",
    "    f\"{config.paths.output_dir}/imprinting_level.log_rescaled_ratios.densities.stacked.pdf\",\n",
    ")"
   ]
  },
  {
   "cell_type": "code",
   "execution_count": null,
   "metadata": {},
   "outputs": [],
   "source": []
  },
  {
   "cell_type": "code",
   "execution_count": null,
   "metadata": {},
   "outputs": [],
   "source": []
  },
  {
   "cell_type": "code",
   "execution_count": null,
   "metadata": {},
   "outputs": [],
   "source": []
  },
  {
   "cell_type": "code",
   "execution_count": null,
   "metadata": {},
   "outputs": [],
   "source": []
  }
 ],
 "metadata": {
  "jupytext": {
   "cell_metadata_filter": "-all",
   "notebook_metadata_filter": "-all"
  },
  "kernelspec": {
   "display_name": "py37-serology-env",
   "language": "python",
   "name": "py37-serology-env"
  },
  "language_info": {
   "codemirror_mode": {
    "name": "ipython",
    "version": 3
   },
   "file_extension": ".py",
   "mimetype": "text/x-python",
   "name": "python",
   "nbconvert_exporter": "python",
   "pygments_lexer": "ipython3",
   "version": "3.7.10"
  }
 },
 "nbformat": 4,
 "nbformat_minor": 4
}
