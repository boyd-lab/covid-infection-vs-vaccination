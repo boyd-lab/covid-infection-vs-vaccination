{
 "cells": [
  {
   "cell_type": "code",
   "execution_count": null,
   "metadata": {},
   "outputs": [],
   "source": []
  },
  {
   "cell_type": "code",
   "execution_count": 1,
   "metadata": {
    "execution": {
     "iopub.execute_input": "2022-01-15T22:13:17.228329Z",
     "iopub.status.busy": "2022-01-15T22:13:17.226574Z",
     "iopub.status.idle": "2022-01-15T22:13:21.213040Z",
     "shell.execute_reply": "2022-01-15T22:13:21.214316Z"
    }
   },
   "outputs": [],
   "source": [
    "import numpy as np\n",
    "import matplotlib.pyplot as plt\n",
    "\n",
    "%matplotlib inline\n",
    "import pandas as pd\n",
    "import seaborn as sns\n",
    "import anndata\n",
    "import scanpy as sc\n",
    "import genetools\n",
    "from covid_serology import config"
   ]
  },
  {
   "cell_type": "code",
   "execution_count": 2,
   "metadata": {
    "execution": {
     "iopub.execute_input": "2022-01-15T22:13:21.226157Z",
     "iopub.status.busy": "2022-01-15T22:13:21.224635Z",
     "iopub.status.idle": "2022-01-15T22:13:21.228304Z",
     "shell.execute_reply": "2022-01-15T22:13:21.229765Z"
    }
   },
   "outputs": [],
   "source": [
    "from IPython.display import display, Markdown\n",
    "from numpy.testing import assert_array_equal"
   ]
  },
  {
   "cell_type": "code",
   "execution_count": null,
   "metadata": {},
   "outputs": [],
   "source": []
  },
  {
   "cell_type": "code",
   "execution_count": null,
   "metadata": {},
   "outputs": [],
   "source": []
  },
  {
   "cell_type": "code",
   "execution_count": null,
   "metadata": {},
   "outputs": [],
   "source": []
  },
  {
   "cell_type": "markdown",
   "metadata": {},
   "source": [
    "# Concatenate a subset of datasets: coronavirus plate only, for `infection_cohort1` patients and for Pfizer vaccinees (original data that includes IgM and IgA -- new only includes IgG)\n",
    "\n",
    "# Load data"
   ]
  },
  {
   "cell_type": "code",
   "execution_count": 3,
   "metadata": {
    "execution": {
     "iopub.execute_input": "2022-01-15T22:13:21.240826Z",
     "iopub.status.busy": "2022-01-15T22:13:21.239471Z",
     "iopub.status.idle": "2022-01-15T22:13:21.243002Z",
     "shell.execute_reply": "2022-01-15T22:13:21.244296Z"
    }
   },
   "outputs": [],
   "source": [
    "adata_sources = {\n",
    "    \"Pfizer_vaccine\": f\"{config.paths.generated_data_dir}/partial.pfizer_vaccine.coronavirus_plate.original.h5\",\n",
    "    \"infection_cohort1\": f\"{config.paths.generated_data_dir}/partial.infection_cohort1.h5\",\n",
    "}"
   ]
  },
  {
   "cell_type": "code",
   "execution_count": 4,
   "metadata": {
    "execution": {
     "iopub.execute_input": "2022-01-15T22:13:21.255119Z",
     "iopub.status.busy": "2022-01-15T22:13:21.253764Z",
     "iopub.status.idle": "2022-01-15T22:13:21.328366Z",
     "shell.execute_reply": "2022-01-15T22:13:21.329870Z"
    }
   },
   "outputs": [
    {
     "name": "stdout",
     "output_type": "stream",
     "text": [
      "WARNING: Your filename has more than two extensions: ['.pfizer_vaccine', '.coronavirus_plate', '.original', '.h5'].\n",
      "Only considering the two last: ['.original', '.h5'].\n"
     ]
    },
    {
     "name": "stdout",
     "output_type": "stream",
     "text": [
      "WARNING: Your filename has more than two extensions: ['.pfizer_vaccine', '.coronavirus_plate', '.original', '.h5'].\n",
      "Only considering the two last: ['.original', '.h5'].\n"
     ]
    },
    {
     "data": {
      "text/plain": [
       "{'Pfizer_vaccine': AnnData object with n_obs × n_vars = 59 × 162\n",
       "     obs: 'COVID Positive Ever?', 'Status'\n",
       "     var: 'virus', 'target', 'variant_plate_type', 'antibody', 'measurement_original_column_name', 'timepoint',\n",
       " 'infection_cohort1': AnnData object with n_obs × n_vars = 99 × 162\n",
       "     obs: 'Status', 'Death'\n",
       "     var: 'virus', 'target', 'variant_plate_type', 'antibody', 'measurement_original_column_name', 'timepoint'}"
      ]
     },
     "execution_count": 1,
     "metadata": {},
     "output_type": "execute_result"
    }
   ],
   "source": [
    "adatas = {key: sc.read(val) for key, val in adata_sources.items()}\n",
    "adatas"
   ]
  },
  {
   "cell_type": "code",
   "execution_count": null,
   "metadata": {},
   "outputs": [],
   "source": []
  },
  {
   "cell_type": "markdown",
   "metadata": {},
   "source": [
    "# combine datasets and align columns"
   ]
  },
  {
   "cell_type": "code",
   "execution_count": 5,
   "metadata": {
    "execution": {
     "iopub.execute_input": "2022-01-15T22:13:21.337698Z",
     "iopub.status.busy": "2022-01-15T22:13:21.336357Z",
     "iopub.status.idle": "2022-01-15T22:13:21.420223Z",
     "shell.execute_reply": "2022-01-15T22:13:21.421709Z"
    }
   },
   "outputs": [
    {
     "data": {
      "text/markdown": [
       "## Pfizer_vaccine"
      ],
      "text/plain": [
       "<IPython.core.display.Markdown object>"
      ]
     },
     "metadata": {},
     "output_type": "display_data"
    },
    {
     "data": {
      "text/html": [
       "<div>\n",
       "<style scoped>\n",
       "    .dataframe tbody tr th:only-of-type {\n",
       "        vertical-align: middle;\n",
       "    }\n",
       "\n",
       "    .dataframe tbody tr th {\n",
       "        vertical-align: top;\n",
       "    }\n",
       "\n",
       "    .dataframe thead th {\n",
       "        text-align: right;\n",
       "    }\n",
       "</style>\n",
       "<table border=\"1\" class=\"dataframe\">\n",
       "  <thead>\n",
       "    <tr style=\"text-align: right;\">\n",
       "      <th></th>\n",
       "      <th>virus</th>\n",
       "      <th>target</th>\n",
       "      <th>variant_plate_type</th>\n",
       "      <th>antibody</th>\n",
       "      <th>measurement_original_column_name</th>\n",
       "      <th>timepoint</th>\n",
       "    </tr>\n",
       "    <tr>\n",
       "      <th>combined_name</th>\n",
       "      <th></th>\n",
       "      <th></th>\n",
       "      <th></th>\n",
       "      <th></th>\n",
       "      <th></th>\n",
       "      <th></th>\n",
       "    </tr>\n",
       "  </thead>\n",
       "  <tbody>\n",
       "    <tr>\n",
       "      <th>Wuhan_S_Wuhan_IgG_day 0 / pre-pandemic</th>\n",
       "      <td>Wuhan</td>\n",
       "      <td>S</td>\n",
       "      <td>Wuhan</td>\n",
       "      <td>IgG</td>\n",
       "      <td>CoV2_S_IgG_Mean</td>\n",
       "      <td>day 0 / pre-pandemic</td>\n",
       "    </tr>\n",
       "    <tr>\n",
       "      <th>NL63_S_Wuhan_IgG_day 0 / pre-pandemic</th>\n",
       "      <td>NL63</td>\n",
       "      <td>S</td>\n",
       "      <td>Wuhan</td>\n",
       "      <td>IgG</td>\n",
       "      <td>NL63_S_IgG_Mean</td>\n",
       "      <td>day 0 / pre-pandemic</td>\n",
       "    </tr>\n",
       "    <tr>\n",
       "      <th>Wuhan_N_Wuhan_IgG_day 0 / pre-pandemic</th>\n",
       "      <td>Wuhan</td>\n",
       "      <td>N</td>\n",
       "      <td>Wuhan</td>\n",
       "      <td>IgG</td>\n",
       "      <td>CoV2_N_IgG_Mean</td>\n",
       "      <td>day 0 / pre-pandemic</td>\n",
       "    </tr>\n",
       "    <tr>\n",
       "      <th>CoV1_S_Wuhan_IgG_day 0 / pre-pandemic</th>\n",
       "      <td>CoV1</td>\n",
       "      <td>S</td>\n",
       "      <td>Wuhan</td>\n",
       "      <td>IgG</td>\n",
       "      <td>CoV1_S_IgG_Mean</td>\n",
       "      <td>day 0 / pre-pandemic</td>\n",
       "    </tr>\n",
       "    <tr>\n",
       "      <th>Wuhan_NTD_Wuhan_IgG_day 0 / pre-pandemic</th>\n",
       "      <td>Wuhan</td>\n",
       "      <td>NTD</td>\n",
       "      <td>Wuhan</td>\n",
       "      <td>IgG</td>\n",
       "      <td>CoV2_NTD_IgG_Mean</td>\n",
       "      <td>day 0 / pre-pandemic</td>\n",
       "    </tr>\n",
       "    <tr>\n",
       "      <th>...</th>\n",
       "      <td>...</td>\n",
       "      <td>...</td>\n",
       "      <td>...</td>\n",
       "      <td>...</td>\n",
       "      <td>...</td>\n",
       "      <td>...</td>\n",
       "    </tr>\n",
       "    <tr>\n",
       "      <th>Wuhan_NTD_Wuhan_IgA_week 7 and later</th>\n",
       "      <td>Wuhan</td>\n",
       "      <td>NTD</td>\n",
       "      <td>Wuhan</td>\n",
       "      <td>IgA</td>\n",
       "      <td>CoV2_NTD_IgA_Mean</td>\n",
       "      <td>week 7 and later</td>\n",
       "    </tr>\n",
       "    <tr>\n",
       "      <th>HKU1_S_Wuhan_IgA_week 7 and later</th>\n",
       "      <td>HKU1</td>\n",
       "      <td>S</td>\n",
       "      <td>Wuhan</td>\n",
       "      <td>IgA</td>\n",
       "      <td>HKU1_S_IgA_Mean</td>\n",
       "      <td>week 7 and later</td>\n",
       "    </tr>\n",
       "    <tr>\n",
       "      <th>OC43_S_Wuhan_IgA_week 7 and later</th>\n",
       "      <td>OC43</td>\n",
       "      <td>S</td>\n",
       "      <td>Wuhan</td>\n",
       "      <td>IgA</td>\n",
       "      <td>OC43_S_IgA_Mean</td>\n",
       "      <td>week 7 and later</td>\n",
       "    </tr>\n",
       "    <tr>\n",
       "      <th>h229E_S_Wuhan_IgA_week 7 and later</th>\n",
       "      <td>h229E</td>\n",
       "      <td>S</td>\n",
       "      <td>Wuhan</td>\n",
       "      <td>IgA</td>\n",
       "      <td>h229E_S_IgA_Mean</td>\n",
       "      <td>week 7 and later</td>\n",
       "    </tr>\n",
       "    <tr>\n",
       "      <th>Wuhan_RBD_Wuhan_IgA_week 7 and later</th>\n",
       "      <td>Wuhan</td>\n",
       "      <td>RBD</td>\n",
       "      <td>Wuhan</td>\n",
       "      <td>IgA</td>\n",
       "      <td>CoV2_RBD_IgA_Mean</td>\n",
       "      <td>week 7 and later</td>\n",
       "    </tr>\n",
       "  </tbody>\n",
       "</table>\n",
       "<p>162 rows × 6 columns</p>\n",
       "</div>"
      ],
      "text/plain": [
       "                                          virus target variant_plate_type  \\\n",
       "combined_name                                                               \n",
       "Wuhan_S_Wuhan_IgG_day 0 / pre-pandemic    Wuhan      S              Wuhan   \n",
       "NL63_S_Wuhan_IgG_day 0 / pre-pandemic      NL63      S              Wuhan   \n",
       "Wuhan_N_Wuhan_IgG_day 0 / pre-pandemic    Wuhan      N              Wuhan   \n",
       "CoV1_S_Wuhan_IgG_day 0 / pre-pandemic      CoV1      S              Wuhan   \n",
       "Wuhan_NTD_Wuhan_IgG_day 0 / pre-pandemic  Wuhan    NTD              Wuhan   \n",
       "...                                         ...    ...                ...   \n",
       "Wuhan_NTD_Wuhan_IgA_week 7 and later      Wuhan    NTD              Wuhan   \n",
       "HKU1_S_Wuhan_IgA_week 7 and later          HKU1      S              Wuhan   \n",
       "OC43_S_Wuhan_IgA_week 7 and later          OC43      S              Wuhan   \n",
       "h229E_S_Wuhan_IgA_week 7 and later        h229E      S              Wuhan   \n",
       "Wuhan_RBD_Wuhan_IgA_week 7 and later      Wuhan    RBD              Wuhan   \n",
       "\n",
       "                                         antibody  \\\n",
       "combined_name                                       \n",
       "Wuhan_S_Wuhan_IgG_day 0 / pre-pandemic        IgG   \n",
       "NL63_S_Wuhan_IgG_day 0 / pre-pandemic         IgG   \n",
       "Wuhan_N_Wuhan_IgG_day 0 / pre-pandemic        IgG   \n",
       "CoV1_S_Wuhan_IgG_day 0 / pre-pandemic         IgG   \n",
       "Wuhan_NTD_Wuhan_IgG_day 0 / pre-pandemic      IgG   \n",
       "...                                           ...   \n",
       "Wuhan_NTD_Wuhan_IgA_week 7 and later          IgA   \n",
       "HKU1_S_Wuhan_IgA_week 7 and later             IgA   \n",
       "OC43_S_Wuhan_IgA_week 7 and later             IgA   \n",
       "h229E_S_Wuhan_IgA_week 7 and later            IgA   \n",
       "Wuhan_RBD_Wuhan_IgA_week 7 and later          IgA   \n",
       "\n",
       "                                         measurement_original_column_name  \\\n",
       "combined_name                                                               \n",
       "Wuhan_S_Wuhan_IgG_day 0 / pre-pandemic                    CoV2_S_IgG_Mean   \n",
       "NL63_S_Wuhan_IgG_day 0 / pre-pandemic                     NL63_S_IgG_Mean   \n",
       "Wuhan_N_Wuhan_IgG_day 0 / pre-pandemic                    CoV2_N_IgG_Mean   \n",
       "CoV1_S_Wuhan_IgG_day 0 / pre-pandemic                     CoV1_S_IgG_Mean   \n",
       "Wuhan_NTD_Wuhan_IgG_day 0 / pre-pandemic                CoV2_NTD_IgG_Mean   \n",
       "...                                                                   ...   \n",
       "Wuhan_NTD_Wuhan_IgA_week 7 and later                    CoV2_NTD_IgA_Mean   \n",
       "HKU1_S_Wuhan_IgA_week 7 and later                         HKU1_S_IgA_Mean   \n",
       "OC43_S_Wuhan_IgA_week 7 and later                         OC43_S_IgA_Mean   \n",
       "h229E_S_Wuhan_IgA_week 7 and later                       h229E_S_IgA_Mean   \n",
       "Wuhan_RBD_Wuhan_IgA_week 7 and later                    CoV2_RBD_IgA_Mean   \n",
       "\n",
       "                                                     timepoint  \n",
       "combined_name                                                   \n",
       "Wuhan_S_Wuhan_IgG_day 0 / pre-pandemic    day 0 / pre-pandemic  \n",
       "NL63_S_Wuhan_IgG_day 0 / pre-pandemic     day 0 / pre-pandemic  \n",
       "Wuhan_N_Wuhan_IgG_day 0 / pre-pandemic    day 0 / pre-pandemic  \n",
       "CoV1_S_Wuhan_IgG_day 0 / pre-pandemic     day 0 / pre-pandemic  \n",
       "Wuhan_NTD_Wuhan_IgG_day 0 / pre-pandemic  day 0 / pre-pandemic  \n",
       "...                                                        ...  \n",
       "Wuhan_NTD_Wuhan_IgA_week 7 and later          week 7 and later  \n",
       "HKU1_S_Wuhan_IgA_week 7 and later             week 7 and later  \n",
       "OC43_S_Wuhan_IgA_week 7 and later             week 7 and later  \n",
       "h229E_S_Wuhan_IgA_week 7 and later            week 7 and later  \n",
       "Wuhan_RBD_Wuhan_IgA_week 7 and later          week 7 and later  \n",
       "\n",
       "[162 rows x 6 columns]"
      ]
     },
     "metadata": {},
     "output_type": "display_data"
    },
    {
     "name": "stdout",
     "output_type": "stream",
     "text": [
      "['day 0 / pre-pandemic', 'day 7 / week 1', 'day 42 / weeks 5&6', 'day 21 / weeks 2&3', 'day 28 / week 4', 'week 7 and later']\n"
     ]
    },
    {
     "data": {
      "text/markdown": [
       "## infection_cohort1"
      ],
      "text/plain": [
       "<IPython.core.display.Markdown object>"
      ]
     },
     "metadata": {},
     "output_type": "display_data"
    },
    {
     "data": {
      "text/html": [
       "<div>\n",
       "<style scoped>\n",
       "    .dataframe tbody tr th:only-of-type {\n",
       "        vertical-align: middle;\n",
       "    }\n",
       "\n",
       "    .dataframe tbody tr th {\n",
       "        vertical-align: top;\n",
       "    }\n",
       "\n",
       "    .dataframe thead th {\n",
       "        text-align: right;\n",
       "    }\n",
       "</style>\n",
       "<table border=\"1\" class=\"dataframe\">\n",
       "  <thead>\n",
       "    <tr style=\"text-align: right;\">\n",
       "      <th></th>\n",
       "      <th>virus</th>\n",
       "      <th>target</th>\n",
       "      <th>variant_plate_type</th>\n",
       "      <th>antibody</th>\n",
       "      <th>measurement_original_column_name</th>\n",
       "      <th>timepoint</th>\n",
       "    </tr>\n",
       "    <tr>\n",
       "      <th>combined_name</th>\n",
       "      <th></th>\n",
       "      <th></th>\n",
       "      <th></th>\n",
       "      <th></th>\n",
       "      <th></th>\n",
       "      <th></th>\n",
       "    </tr>\n",
       "  </thead>\n",
       "  <tbody>\n",
       "    <tr>\n",
       "      <th>Wuhan_S_Wuhan_IgG_day 0 / pre-pandemic</th>\n",
       "      <td>Wuhan</td>\n",
       "      <td>S</td>\n",
       "      <td>Wuhan</td>\n",
       "      <td>IgG</td>\n",
       "      <td>CoV2_S_IgG_Mean</td>\n",
       "      <td>day 0 / pre-pandemic</td>\n",
       "    </tr>\n",
       "    <tr>\n",
       "      <th>NL63_S_Wuhan_IgG_day 0 / pre-pandemic</th>\n",
       "      <td>NL63</td>\n",
       "      <td>S</td>\n",
       "      <td>Wuhan</td>\n",
       "      <td>IgG</td>\n",
       "      <td>NL63_S_IgG_Mean</td>\n",
       "      <td>day 0 / pre-pandemic</td>\n",
       "    </tr>\n",
       "    <tr>\n",
       "      <th>Wuhan_N_Wuhan_IgG_day 0 / pre-pandemic</th>\n",
       "      <td>Wuhan</td>\n",
       "      <td>N</td>\n",
       "      <td>Wuhan</td>\n",
       "      <td>IgG</td>\n",
       "      <td>CoV2_N_IgG_Mean</td>\n",
       "      <td>day 0 / pre-pandemic</td>\n",
       "    </tr>\n",
       "    <tr>\n",
       "      <th>CoV1_S_Wuhan_IgG_day 0 / pre-pandemic</th>\n",
       "      <td>CoV1</td>\n",
       "      <td>S</td>\n",
       "      <td>Wuhan</td>\n",
       "      <td>IgG</td>\n",
       "      <td>CoV1_S_IgG_Mean</td>\n",
       "      <td>day 0 / pre-pandemic</td>\n",
       "    </tr>\n",
       "    <tr>\n",
       "      <th>Wuhan_NTD_Wuhan_IgG_day 0 / pre-pandemic</th>\n",
       "      <td>Wuhan</td>\n",
       "      <td>NTD</td>\n",
       "      <td>Wuhan</td>\n",
       "      <td>IgG</td>\n",
       "      <td>CoV2_NTD_IgG_Mean</td>\n",
       "      <td>day 0 / pre-pandemic</td>\n",
       "    </tr>\n",
       "    <tr>\n",
       "      <th>...</th>\n",
       "      <td>...</td>\n",
       "      <td>...</td>\n",
       "      <td>...</td>\n",
       "      <td>...</td>\n",
       "      <td>...</td>\n",
       "      <td>...</td>\n",
       "    </tr>\n",
       "    <tr>\n",
       "      <th>Wuhan_NTD_Wuhan_IgA_week 7 and later / 3 months</th>\n",
       "      <td>Wuhan</td>\n",
       "      <td>NTD</td>\n",
       "      <td>Wuhan</td>\n",
       "      <td>IgA</td>\n",
       "      <td>CoV2_NTD_IgA_Mean</td>\n",
       "      <td>week 7 and later / 3 months</td>\n",
       "    </tr>\n",
       "    <tr>\n",
       "      <th>HKU1_S_Wuhan_IgA_week 7 and later / 3 months</th>\n",
       "      <td>HKU1</td>\n",
       "      <td>S</td>\n",
       "      <td>Wuhan</td>\n",
       "      <td>IgA</td>\n",
       "      <td>HKU1_S_IgA_Mean</td>\n",
       "      <td>week 7 and later / 3 months</td>\n",
       "    </tr>\n",
       "    <tr>\n",
       "      <th>OC43_S_Wuhan_IgA_week 7 and later / 3 months</th>\n",
       "      <td>OC43</td>\n",
       "      <td>S</td>\n",
       "      <td>Wuhan</td>\n",
       "      <td>IgA</td>\n",
       "      <td>OC43_S_IgA_Mean</td>\n",
       "      <td>week 7 and later / 3 months</td>\n",
       "    </tr>\n",
       "    <tr>\n",
       "      <th>h229E_S_Wuhan_IgA_week 7 and later / 3 months</th>\n",
       "      <td>h229E</td>\n",
       "      <td>S</td>\n",
       "      <td>Wuhan</td>\n",
       "      <td>IgA</td>\n",
       "      <td>h229E_S_IgA_Mean</td>\n",
       "      <td>week 7 and later / 3 months</td>\n",
       "    </tr>\n",
       "    <tr>\n",
       "      <th>Wuhan_RBD_Wuhan_IgA_week 7 and later / 3 months</th>\n",
       "      <td>Wuhan</td>\n",
       "      <td>RBD</td>\n",
       "      <td>Wuhan</td>\n",
       "      <td>IgA</td>\n",
       "      <td>CoV2_RBD_IgA_Mean</td>\n",
       "      <td>week 7 and later / 3 months</td>\n",
       "    </tr>\n",
       "  </tbody>\n",
       "</table>\n",
       "<p>162 rows × 6 columns</p>\n",
       "</div>"
      ],
      "text/plain": [
       "                                                 virus target  \\\n",
       "combined_name                                                   \n",
       "Wuhan_S_Wuhan_IgG_day 0 / pre-pandemic           Wuhan      S   \n",
       "NL63_S_Wuhan_IgG_day 0 / pre-pandemic             NL63      S   \n",
       "Wuhan_N_Wuhan_IgG_day 0 / pre-pandemic           Wuhan      N   \n",
       "CoV1_S_Wuhan_IgG_day 0 / pre-pandemic             CoV1      S   \n",
       "Wuhan_NTD_Wuhan_IgG_day 0 / pre-pandemic         Wuhan    NTD   \n",
       "...                                                ...    ...   \n",
       "Wuhan_NTD_Wuhan_IgA_week 7 and later / 3 months  Wuhan    NTD   \n",
       "HKU1_S_Wuhan_IgA_week 7 and later / 3 months      HKU1      S   \n",
       "OC43_S_Wuhan_IgA_week 7 and later / 3 months      OC43      S   \n",
       "h229E_S_Wuhan_IgA_week 7 and later / 3 months    h229E      S   \n",
       "Wuhan_RBD_Wuhan_IgA_week 7 and later / 3 months  Wuhan    RBD   \n",
       "\n",
       "                                                variant_plate_type antibody  \\\n",
       "combined_name                                                                 \n",
       "Wuhan_S_Wuhan_IgG_day 0 / pre-pandemic                       Wuhan      IgG   \n",
       "NL63_S_Wuhan_IgG_day 0 / pre-pandemic                        Wuhan      IgG   \n",
       "Wuhan_N_Wuhan_IgG_day 0 / pre-pandemic                       Wuhan      IgG   \n",
       "CoV1_S_Wuhan_IgG_day 0 / pre-pandemic                        Wuhan      IgG   \n",
       "Wuhan_NTD_Wuhan_IgG_day 0 / pre-pandemic                     Wuhan      IgG   \n",
       "...                                                            ...      ...   \n",
       "Wuhan_NTD_Wuhan_IgA_week 7 and later / 3 months              Wuhan      IgA   \n",
       "HKU1_S_Wuhan_IgA_week 7 and later / 3 months                 Wuhan      IgA   \n",
       "OC43_S_Wuhan_IgA_week 7 and later / 3 months                 Wuhan      IgA   \n",
       "h229E_S_Wuhan_IgA_week 7 and later / 3 months                Wuhan      IgA   \n",
       "Wuhan_RBD_Wuhan_IgA_week 7 and later / 3 months              Wuhan      IgA   \n",
       "\n",
       "                                                measurement_original_column_name  \\\n",
       "combined_name                                                                      \n",
       "Wuhan_S_Wuhan_IgG_day 0 / pre-pandemic                           CoV2_S_IgG_Mean   \n",
       "NL63_S_Wuhan_IgG_day 0 / pre-pandemic                            NL63_S_IgG_Mean   \n",
       "Wuhan_N_Wuhan_IgG_day 0 / pre-pandemic                           CoV2_N_IgG_Mean   \n",
       "CoV1_S_Wuhan_IgG_day 0 / pre-pandemic                            CoV1_S_IgG_Mean   \n",
       "Wuhan_NTD_Wuhan_IgG_day 0 / pre-pandemic                       CoV2_NTD_IgG_Mean   \n",
       "...                                                                          ...   \n",
       "Wuhan_NTD_Wuhan_IgA_week 7 and later / 3 months                CoV2_NTD_IgA_Mean   \n",
       "HKU1_S_Wuhan_IgA_week 7 and later / 3 months                     HKU1_S_IgA_Mean   \n",
       "OC43_S_Wuhan_IgA_week 7 and later / 3 months                     OC43_S_IgA_Mean   \n",
       "h229E_S_Wuhan_IgA_week 7 and later / 3 months                   h229E_S_IgA_Mean   \n",
       "Wuhan_RBD_Wuhan_IgA_week 7 and later / 3 months                CoV2_RBD_IgA_Mean   \n",
       "\n",
       "                                                                   timepoint  \n",
       "combined_name                                                                 \n",
       "Wuhan_S_Wuhan_IgG_day 0 / pre-pandemic                  day 0 / pre-pandemic  \n",
       "NL63_S_Wuhan_IgG_day 0 / pre-pandemic                   day 0 / pre-pandemic  \n",
       "Wuhan_N_Wuhan_IgG_day 0 / pre-pandemic                  day 0 / pre-pandemic  \n",
       "CoV1_S_Wuhan_IgG_day 0 / pre-pandemic                   day 0 / pre-pandemic  \n",
       "Wuhan_NTD_Wuhan_IgG_day 0 / pre-pandemic                day 0 / pre-pandemic  \n",
       "...                                                                      ...  \n",
       "Wuhan_NTD_Wuhan_IgA_week 7 and later / 3 months  week 7 and later / 3 months  \n",
       "HKU1_S_Wuhan_IgA_week 7 and later / 3 months     week 7 and later / 3 months  \n",
       "OC43_S_Wuhan_IgA_week 7 and later / 3 months     week 7 and later / 3 months  \n",
       "h229E_S_Wuhan_IgA_week 7 and later / 3 months    week 7 and later / 3 months  \n",
       "Wuhan_RBD_Wuhan_IgA_week 7 and later / 3 months  week 7 and later / 3 months  \n",
       "\n",
       "[162 rows x 6 columns]"
      ]
     },
     "metadata": {},
     "output_type": "display_data"
    },
    {
     "name": "stdout",
     "output_type": "stream",
     "text": [
      "['day 0 / pre-pandemic', 'day 7 / week 1', 'day 21 / weeks 2&3', 'day 28 / week 4', 'day 42 / weeks 5&6', 'week 7 and later / 3 months']\n"
     ]
    }
   ],
   "source": [
    "for name, adata in adatas.items():\n",
    "    display(Markdown(f\"## {name}\"))\n",
    "    display(adata.var)\n",
    "    print(adata.var[\"timepoint\"].unique().tolist())"
   ]
  },
  {
   "cell_type": "code",
   "execution_count": null,
   "metadata": {},
   "outputs": [],
   "source": []
  },
  {
   "cell_type": "code",
   "execution_count": 6,
   "metadata": {
    "execution": {
     "iopub.execute_input": "2022-01-15T22:13:21.429122Z",
     "iopub.status.busy": "2022-01-15T22:13:21.427911Z",
     "iopub.status.idle": "2022-01-15T22:13:21.431806Z",
     "shell.execute_reply": "2022-01-15T22:13:21.432990Z"
    }
   },
   "outputs": [
    {
     "name": "stdout",
     "output_type": "stream",
     "text": [
      "Pfizer_vaccine infection_cohort1 set()\n"
     ]
    }
   ],
   "source": [
    "# Confirm no obs names overlap between datasets\n",
    "import itertools\n",
    "\n",
    "for ((name_a, adata_a), (name_b, adata_b)) in itertools.combinations(adatas.items(), 2):\n",
    "    intersection_of_obsnames = set.intersection(\n",
    "        set(adata_a.obs_names), set(adata_b.obs_names)\n",
    "    )\n",
    "    print(name_a, name_b, intersection_of_obsnames)\n",
    "    assert len(intersection_of_obsnames) == 0"
   ]
  },
  {
   "cell_type": "code",
   "execution_count": 7,
   "metadata": {
    "execution": {
     "iopub.execute_input": "2022-01-15T22:13:21.438502Z",
     "iopub.status.busy": "2022-01-15T22:13:21.437467Z",
     "iopub.status.idle": "2022-01-15T22:13:21.440300Z",
     "shell.execute_reply": "2022-01-15T22:13:21.441275Z"
    }
   },
   "outputs": [],
   "source": [
    "# # Note issue: https://github.com/theislab/anndata/issues/614\n",
    "# # This doesn't work - adata.var has a lot of NaNs.\n",
    "\n",
    "# adata_full = anndata.concat(\n",
    "#     adatas.values(),\n",
    "#     join=\"outer\",\n",
    "#     merge=\"first\",\n",
    "#     axis=0,\n",
    "#     label=\"source_cohort\",\n",
    "#     keys=adatas.keys(),\n",
    "# )\n",
    "# adata_full"
   ]
  },
  {
   "cell_type": "code",
   "execution_count": 8,
   "metadata": {
    "execution": {
     "iopub.execute_input": "2022-01-15T22:13:21.461670Z",
     "iopub.status.busy": "2022-01-15T22:13:21.460231Z",
     "iopub.status.idle": "2022-01-15T22:13:21.462978Z",
     "shell.execute_reply": "2022-01-15T22:13:21.464291Z"
    }
   },
   "outputs": [],
   "source": [
    "def _merge_two_anndatas(ad1, ad2, var_col_join):\n",
    "    \"\"\"concatenate two anndatas. they must have different obsnames.\n",
    "    some of their vars can intersect, and will be combined.\n",
    "    we will concat along var, specifically using only the [var_col_join] columns to describe each variable, as well as the var_name\n",
    "    \"\"\"\n",
    "    # confirm obsnames are distinct\n",
    "    if len(set(ad1.obs_names).intersection(ad2.obs_names)) > 0:\n",
    "        raise ValueError(\"Obsnames intersect\")\n",
    "\n",
    "    # we will concat along var, specifically using only the [var_col_join] columns to describe each variable, as well as the var_name\n",
    "    if \"varname\" in var_col_join:\n",
    "        # TODO: relax this\n",
    "        raise ValueError(\"Cannot use varname as a var col - will be overwritten\")\n",
    "\n",
    "    def _get_df_from_anndata(adata, var_cols):\n",
    "        df = adata.to_df()\n",
    "        df.columns = adata.var[var_cols].assign(varname=adata.var_names)\n",
    "        return df\n",
    "\n",
    "    df1 = _get_df_from_anndata(ad1, var_col_join)\n",
    "    df2 = _get_df_from_anndata(ad2, var_col_join)\n",
    "\n",
    "    df_concat = pd.concat([df1, df2], axis=0)\n",
    "    if df_concat.shape[0] != df1.shape[0] + df2.shape[0]:\n",
    "        raise ValueError(\"Concat produced unexpected number of rows\")\n",
    "\n",
    "    new_var = df_concat.columns.to_frame(index=False)\n",
    "    new_var.columns = var_col_join + [\"varname\"]\n",
    "    # recover varname\n",
    "    new_var = new_var.set_index(\"varname\")\n",
    "    df_concat.columns = new_var.index\n",
    "\n",
    "    new_obs = pd.concat([ad1.obs, ad2.obs], axis=0)\n",
    "    if not np.array_equal(new_obs.index, df_concat.index):\n",
    "        raise ValueError(\"Concat unexpectedly rearranged rows\")\n",
    "\n",
    "    if new_var.duplicated().any():\n",
    "        raise ValueError(\"Some var rows are duplicated - unexpected\")\n",
    "\n",
    "    return anndata.AnnData(df_concat, var=new_var, obs=new_obs)\n",
    "\n",
    "\n",
    "from functools import reduce\n",
    "\n",
    "\n",
    "def merge_anndatas(\n",
    "    adatas,\n",
    "    var_col_join,\n",
    "):\n",
    "    \"\"\"progresively merge a list of anndatas\"\"\"\n",
    "    return reduce(\n",
    "        lambda x, y: _merge_two_anndatas(x, y, var_col_join=var_col_join), adatas\n",
    "    )"
   ]
  },
  {
   "cell_type": "code",
   "execution_count": 9,
   "metadata": {
    "execution": {
     "iopub.execute_input": "2022-01-15T22:13:21.483678Z",
     "iopub.status.busy": "2022-01-15T22:13:21.476009Z",
     "iopub.status.idle": "2022-01-15T22:13:21.498750Z",
     "shell.execute_reply": "2022-01-15T22:13:21.500275Z"
    }
   },
   "outputs": [
    {
     "data": {
      "text/plain": [
       "AnnData object with n_obs × n_vars = 158 × 189\n",
       "    obs: 'COVID Positive Ever?', 'Status', 'source_cohort', 'Death'\n",
       "    var: 'virus', 'target', 'variant_plate_type', 'antibody', 'timepoint'"
      ]
     },
     "execution_count": 1,
     "metadata": {},
     "output_type": "execute_result"
    }
   ],
   "source": [
    "# use our workaround\n",
    "# first, label each adata with a source cohort key\n",
    "for name, adata in adatas.items():\n",
    "    adata.obs[\"source_cohort\"] = name\n",
    "\n",
    "# now merge\n",
    "adata_full = merge_anndatas(\n",
    "    adatas.values(),\n",
    "    var_col_join=[\"virus\", \"target\", \"variant_plate_type\", \"antibody\", \"timepoint\"],\n",
    ")\n",
    "\n",
    "adata_full"
   ]
  },
  {
   "cell_type": "code",
   "execution_count": 10,
   "metadata": {
    "execution": {
     "iopub.execute_input": "2022-01-15T22:13:21.516885Z",
     "iopub.status.busy": "2022-01-15T22:13:21.515394Z",
     "iopub.status.idle": "2022-01-15T22:13:21.520951Z",
     "shell.execute_reply": "2022-01-15T22:13:21.522442Z"
    }
   },
   "outputs": [
    {
     "data": {
      "text/html": [
       "<div>\n",
       "<style scoped>\n",
       "    .dataframe tbody tr th:only-of-type {\n",
       "        vertical-align: middle;\n",
       "    }\n",
       "\n",
       "    .dataframe tbody tr th {\n",
       "        vertical-align: top;\n",
       "    }\n",
       "\n",
       "    .dataframe thead th {\n",
       "        text-align: right;\n",
       "    }\n",
       "</style>\n",
       "<table border=\"1\" class=\"dataframe\">\n",
       "  <thead>\n",
       "    <tr style=\"text-align: right;\">\n",
       "      <th></th>\n",
       "      <th>virus</th>\n",
       "      <th>target</th>\n",
       "      <th>variant_plate_type</th>\n",
       "      <th>antibody</th>\n",
       "      <th>timepoint</th>\n",
       "    </tr>\n",
       "    <tr>\n",
       "      <th>varname</th>\n",
       "      <th></th>\n",
       "      <th></th>\n",
       "      <th></th>\n",
       "      <th></th>\n",
       "      <th></th>\n",
       "    </tr>\n",
       "  </thead>\n",
       "  <tbody>\n",
       "    <tr>\n",
       "      <th>Wuhan_S_Wuhan_IgG_day 0 / pre-pandemic</th>\n",
       "      <td>Wuhan</td>\n",
       "      <td>S</td>\n",
       "      <td>Wuhan</td>\n",
       "      <td>IgG</td>\n",
       "      <td>day 0 / pre-pandemic</td>\n",
       "    </tr>\n",
       "    <tr>\n",
       "      <th>NL63_S_Wuhan_IgG_day 0 / pre-pandemic</th>\n",
       "      <td>NL63</td>\n",
       "      <td>S</td>\n",
       "      <td>Wuhan</td>\n",
       "      <td>IgG</td>\n",
       "      <td>day 0 / pre-pandemic</td>\n",
       "    </tr>\n",
       "    <tr>\n",
       "      <th>Wuhan_N_Wuhan_IgG_day 0 / pre-pandemic</th>\n",
       "      <td>Wuhan</td>\n",
       "      <td>N</td>\n",
       "      <td>Wuhan</td>\n",
       "      <td>IgG</td>\n",
       "      <td>day 0 / pre-pandemic</td>\n",
       "    </tr>\n",
       "    <tr>\n",
       "      <th>CoV1_S_Wuhan_IgG_day 0 / pre-pandemic</th>\n",
       "      <td>CoV1</td>\n",
       "      <td>S</td>\n",
       "      <td>Wuhan</td>\n",
       "      <td>IgG</td>\n",
       "      <td>day 0 / pre-pandemic</td>\n",
       "    </tr>\n",
       "    <tr>\n",
       "      <th>Wuhan_NTD_Wuhan_IgG_day 0 / pre-pandemic</th>\n",
       "      <td>Wuhan</td>\n",
       "      <td>NTD</td>\n",
       "      <td>Wuhan</td>\n",
       "      <td>IgG</td>\n",
       "      <td>day 0 / pre-pandemic</td>\n",
       "    </tr>\n",
       "    <tr>\n",
       "      <th>...</th>\n",
       "      <td>...</td>\n",
       "      <td>...</td>\n",
       "      <td>...</td>\n",
       "      <td>...</td>\n",
       "      <td>...</td>\n",
       "    </tr>\n",
       "    <tr>\n",
       "      <th>Wuhan_NTD_Wuhan_IgA_week 7 and later / 3 months</th>\n",
       "      <td>Wuhan</td>\n",
       "      <td>NTD</td>\n",
       "      <td>Wuhan</td>\n",
       "      <td>IgA</td>\n",
       "      <td>week 7 and later / 3 months</td>\n",
       "    </tr>\n",
       "    <tr>\n",
       "      <th>HKU1_S_Wuhan_IgA_week 7 and later / 3 months</th>\n",
       "      <td>HKU1</td>\n",
       "      <td>S</td>\n",
       "      <td>Wuhan</td>\n",
       "      <td>IgA</td>\n",
       "      <td>week 7 and later / 3 months</td>\n",
       "    </tr>\n",
       "    <tr>\n",
       "      <th>OC43_S_Wuhan_IgA_week 7 and later / 3 months</th>\n",
       "      <td>OC43</td>\n",
       "      <td>S</td>\n",
       "      <td>Wuhan</td>\n",
       "      <td>IgA</td>\n",
       "      <td>week 7 and later / 3 months</td>\n",
       "    </tr>\n",
       "    <tr>\n",
       "      <th>h229E_S_Wuhan_IgA_week 7 and later / 3 months</th>\n",
       "      <td>h229E</td>\n",
       "      <td>S</td>\n",
       "      <td>Wuhan</td>\n",
       "      <td>IgA</td>\n",
       "      <td>week 7 and later / 3 months</td>\n",
       "    </tr>\n",
       "    <tr>\n",
       "      <th>Wuhan_RBD_Wuhan_IgA_week 7 and later / 3 months</th>\n",
       "      <td>Wuhan</td>\n",
       "      <td>RBD</td>\n",
       "      <td>Wuhan</td>\n",
       "      <td>IgA</td>\n",
       "      <td>week 7 and later / 3 months</td>\n",
       "    </tr>\n",
       "  </tbody>\n",
       "</table>\n",
       "<p>189 rows × 5 columns</p>\n",
       "</div>"
      ],
      "text/plain": [
       "                                                 virus target  \\\n",
       "varname                                                         \n",
       "Wuhan_S_Wuhan_IgG_day 0 / pre-pandemic           Wuhan      S   \n",
       "NL63_S_Wuhan_IgG_day 0 / pre-pandemic             NL63      S   \n",
       "Wuhan_N_Wuhan_IgG_day 0 / pre-pandemic           Wuhan      N   \n",
       "CoV1_S_Wuhan_IgG_day 0 / pre-pandemic             CoV1      S   \n",
       "Wuhan_NTD_Wuhan_IgG_day 0 / pre-pandemic         Wuhan    NTD   \n",
       "...                                                ...    ...   \n",
       "Wuhan_NTD_Wuhan_IgA_week 7 and later / 3 months  Wuhan    NTD   \n",
       "HKU1_S_Wuhan_IgA_week 7 and later / 3 months      HKU1      S   \n",
       "OC43_S_Wuhan_IgA_week 7 and later / 3 months      OC43      S   \n",
       "h229E_S_Wuhan_IgA_week 7 and later / 3 months    h229E      S   \n",
       "Wuhan_RBD_Wuhan_IgA_week 7 and later / 3 months  Wuhan    RBD   \n",
       "\n",
       "                                                variant_plate_type antibody  \\\n",
       "varname                                                                       \n",
       "Wuhan_S_Wuhan_IgG_day 0 / pre-pandemic                       Wuhan      IgG   \n",
       "NL63_S_Wuhan_IgG_day 0 / pre-pandemic                        Wuhan      IgG   \n",
       "Wuhan_N_Wuhan_IgG_day 0 / pre-pandemic                       Wuhan      IgG   \n",
       "CoV1_S_Wuhan_IgG_day 0 / pre-pandemic                        Wuhan      IgG   \n",
       "Wuhan_NTD_Wuhan_IgG_day 0 / pre-pandemic                     Wuhan      IgG   \n",
       "...                                                            ...      ...   \n",
       "Wuhan_NTD_Wuhan_IgA_week 7 and later / 3 months              Wuhan      IgA   \n",
       "HKU1_S_Wuhan_IgA_week 7 and later / 3 months                 Wuhan      IgA   \n",
       "OC43_S_Wuhan_IgA_week 7 and later / 3 months                 Wuhan      IgA   \n",
       "h229E_S_Wuhan_IgA_week 7 and later / 3 months                Wuhan      IgA   \n",
       "Wuhan_RBD_Wuhan_IgA_week 7 and later / 3 months              Wuhan      IgA   \n",
       "\n",
       "                                                                   timepoint  \n",
       "varname                                                                       \n",
       "Wuhan_S_Wuhan_IgG_day 0 / pre-pandemic                  day 0 / pre-pandemic  \n",
       "NL63_S_Wuhan_IgG_day 0 / pre-pandemic                   day 0 / pre-pandemic  \n",
       "Wuhan_N_Wuhan_IgG_day 0 / pre-pandemic                  day 0 / pre-pandemic  \n",
       "CoV1_S_Wuhan_IgG_day 0 / pre-pandemic                   day 0 / pre-pandemic  \n",
       "Wuhan_NTD_Wuhan_IgG_day 0 / pre-pandemic                day 0 / pre-pandemic  \n",
       "...                                                                      ...  \n",
       "Wuhan_NTD_Wuhan_IgA_week 7 and later / 3 months  week 7 and later / 3 months  \n",
       "HKU1_S_Wuhan_IgA_week 7 and later / 3 months     week 7 and later / 3 months  \n",
       "OC43_S_Wuhan_IgA_week 7 and later / 3 months     week 7 and later / 3 months  \n",
       "h229E_S_Wuhan_IgA_week 7 and later / 3 months    week 7 and later / 3 months  \n",
       "Wuhan_RBD_Wuhan_IgA_week 7 and later / 3 months  week 7 and later / 3 months  \n",
       "\n",
       "[189 rows x 5 columns]"
      ]
     },
     "execution_count": 1,
     "metadata": {},
     "output_type": "execute_result"
    }
   ],
   "source": [
    "adata_full.var"
   ]
  },
  {
   "cell_type": "code",
   "execution_count": 11,
   "metadata": {
    "execution": {
     "iopub.execute_input": "2022-01-15T22:13:21.538555Z",
     "iopub.status.busy": "2022-01-15T22:13:21.533004Z",
     "iopub.status.idle": "2022-01-15T22:13:21.542513Z",
     "shell.execute_reply": "2022-01-15T22:13:21.544025Z"
    }
   },
   "outputs": [
    {
     "data": {
      "text/html": [
       "<div>\n",
       "<style scoped>\n",
       "    .dataframe tbody tr th:only-of-type {\n",
       "        vertical-align: middle;\n",
       "    }\n",
       "\n",
       "    .dataframe tbody tr th {\n",
       "        vertical-align: top;\n",
       "    }\n",
       "\n",
       "    .dataframe thead th {\n",
       "        text-align: right;\n",
       "    }\n",
       "</style>\n",
       "<table border=\"1\" class=\"dataframe\">\n",
       "  <thead>\n",
       "    <tr style=\"text-align: right;\">\n",
       "      <th></th>\n",
       "      <th>COVID Positive Ever?</th>\n",
       "      <th>Status</th>\n",
       "      <th>source_cohort</th>\n",
       "      <th>Death</th>\n",
       "    </tr>\n",
       "  </thead>\n",
       "  <tbody>\n",
       "    <tr>\n",
       "      <th>pfizer00</th>\n",
       "      <td>No</td>\n",
       "      <td>Vaccinee</td>\n",
       "      <td>Pfizer_vaccine</td>\n",
       "      <td>NaN</td>\n",
       "    </tr>\n",
       "    <tr>\n",
       "      <th>pfizer01</th>\n",
       "      <td>No</td>\n",
       "      <td>Vaccinee</td>\n",
       "      <td>Pfizer_vaccine</td>\n",
       "      <td>NaN</td>\n",
       "    </tr>\n",
       "    <tr>\n",
       "      <th>pfizer02</th>\n",
       "      <td>No</td>\n",
       "      <td>Vaccinee</td>\n",
       "      <td>Pfizer_vaccine</td>\n",
       "      <td>NaN</td>\n",
       "    </tr>\n",
       "    <tr>\n",
       "      <th>pfizer03</th>\n",
       "      <td>No</td>\n",
       "      <td>Vaccinee</td>\n",
       "      <td>Pfizer_vaccine</td>\n",
       "      <td>NaN</td>\n",
       "    </tr>\n",
       "    <tr>\n",
       "      <th>pfizer04</th>\n",
       "      <td>No</td>\n",
       "      <td>Vaccinee</td>\n",
       "      <td>Pfizer_vaccine</td>\n",
       "      <td>NaN</td>\n",
       "    </tr>\n",
       "    <tr>\n",
       "      <th>...</th>\n",
       "      <td>...</td>\n",
       "      <td>...</td>\n",
       "      <td>...</td>\n",
       "      <td>...</td>\n",
       "    </tr>\n",
       "    <tr>\n",
       "      <th>84</th>\n",
       "      <td>NaN</td>\n",
       "      <td>ICU</td>\n",
       "      <td>infection_cohort1</td>\n",
       "      <td>0.0</td>\n",
       "    </tr>\n",
       "    <tr>\n",
       "      <th>87</th>\n",
       "      <td>NaN</td>\n",
       "      <td>ICU</td>\n",
       "      <td>infection_cohort1</td>\n",
       "      <td>0.0</td>\n",
       "    </tr>\n",
       "    <tr>\n",
       "      <th>101</th>\n",
       "      <td>NaN</td>\n",
       "      <td>Admit</td>\n",
       "      <td>infection_cohort1</td>\n",
       "      <td>0.0</td>\n",
       "    </tr>\n",
       "    <tr>\n",
       "      <th>6</th>\n",
       "      <td>NaN</td>\n",
       "      <td>ICU</td>\n",
       "      <td>infection_cohort1</td>\n",
       "      <td>1.0</td>\n",
       "    </tr>\n",
       "    <tr>\n",
       "      <th>200</th>\n",
       "      <td>NaN</td>\n",
       "      <td>Outpatient</td>\n",
       "      <td>infection_cohort1</td>\n",
       "      <td>0.0</td>\n",
       "    </tr>\n",
       "  </tbody>\n",
       "</table>\n",
       "<p>158 rows × 4 columns</p>\n",
       "</div>"
      ],
      "text/plain": [
       "         COVID Positive Ever?      Status      source_cohort  Death\n",
       "pfizer00                   No    Vaccinee     Pfizer_vaccine    NaN\n",
       "pfizer01                   No    Vaccinee     Pfizer_vaccine    NaN\n",
       "pfizer02                   No    Vaccinee     Pfizer_vaccine    NaN\n",
       "pfizer03                   No    Vaccinee     Pfizer_vaccine    NaN\n",
       "pfizer04                   No    Vaccinee     Pfizer_vaccine    NaN\n",
       "...                       ...         ...                ...    ...\n",
       "84                        NaN         ICU  infection_cohort1    0.0\n",
       "87                        NaN         ICU  infection_cohort1    0.0\n",
       "101                       NaN       Admit  infection_cohort1    0.0\n",
       "6                         NaN         ICU  infection_cohort1    1.0\n",
       "200                       NaN  Outpatient  infection_cohort1    0.0\n",
       "\n",
       "[158 rows x 4 columns]"
      ]
     },
     "execution_count": 1,
     "metadata": {},
     "output_type": "execute_result"
    }
   ],
   "source": [
    "adata_full.obs"
   ]
  },
  {
   "cell_type": "code",
   "execution_count": null,
   "metadata": {},
   "outputs": [],
   "source": []
  },
  {
   "cell_type": "code",
   "execution_count": 12,
   "metadata": {
    "execution": {
     "iopub.execute_input": "2022-01-15T22:13:21.550163Z",
     "iopub.status.busy": "2022-01-15T22:13:21.549086Z",
     "iopub.status.idle": "2022-01-15T22:13:21.559028Z",
     "shell.execute_reply": "2022-01-15T22:13:21.560076Z"
    }
   },
   "outputs": [
    {
     "data": {
      "text/plain": [
       "dict_keys(['Pfizer_vaccine', 'infection_cohort1'])"
      ]
     },
     "execution_count": 1,
     "metadata": {},
     "output_type": "execute_result"
    }
   ],
   "source": [
    "adatas.keys()"
   ]
  },
  {
   "cell_type": "code",
   "execution_count": 13,
   "metadata": {
    "execution": {
     "iopub.execute_input": "2022-01-15T22:13:21.569870Z",
     "iopub.status.busy": "2022-01-15T22:13:21.568834Z",
     "iopub.status.idle": "2022-01-15T22:13:21.573301Z",
     "shell.execute_reply": "2022-01-15T22:13:21.574330Z"
    }
   },
   "outputs": [
    {
     "data": {
      "text/plain": [
       "(135,\n",
       " Index(['Wuhan_S_Wuhan_IgG_day 0 / pre-pandemic',\n",
       "        'NL63_S_Wuhan_IgG_day 0 / pre-pandemic',\n",
       "        'Wuhan_N_Wuhan_IgG_day 0 / pre-pandemic',\n",
       "        'CoV1_S_Wuhan_IgG_day 0 / pre-pandemic',\n",
       "        'Wuhan_NTD_Wuhan_IgG_day 0 / pre-pandemic',\n",
       "        'HKU1_S_Wuhan_IgG_day 0 / pre-pandemic',\n",
       "        'OC43_S_Wuhan_IgG_day 0 / pre-pandemic',\n",
       "        'h229E_S_Wuhan_IgG_day 0 / pre-pandemic',\n",
       "        'Wuhan_RBD_Wuhan_IgG_day 0 / pre-pandemic',\n",
       "        'Wuhan_S_Wuhan_IgM_day 0 / pre-pandemic',\n",
       "        ...\n",
       "        'Wuhan_RBD_Wuhan_IgM_day 42 / weeks 5&6',\n",
       "        'Wuhan_S_Wuhan_IgA_day 42 / weeks 5&6',\n",
       "        'NL63_S_Wuhan_IgA_day 42 / weeks 5&6',\n",
       "        'Wuhan_N_Wuhan_IgA_day 42 / weeks 5&6',\n",
       "        'CoV1_S_Wuhan_IgA_day 42 / weeks 5&6',\n",
       "        'Wuhan_NTD_Wuhan_IgA_day 42 / weeks 5&6',\n",
       "        'HKU1_S_Wuhan_IgA_day 42 / weeks 5&6',\n",
       "        'OC43_S_Wuhan_IgA_day 42 / weeks 5&6',\n",
       "        'h229E_S_Wuhan_IgA_day 42 / weeks 5&6',\n",
       "        'Wuhan_RBD_Wuhan_IgA_day 42 / weeks 5&6'],\n",
       "       dtype='object', name='combined_name', length=135))"
      ]
     },
     "execution_count": 1,
     "metadata": {},
     "output_type": "execute_result"
    }
   ],
   "source": [
    "var_names_in_common = adatas[\"infection_cohort1\"].var_names.intersection(\n",
    "    adatas[\"Pfizer_vaccine\"].var_names\n",
    ")\n",
    "len(var_names_in_common), var_names_in_common"
   ]
  },
  {
   "cell_type": "code",
   "execution_count": 14,
   "metadata": {
    "execution": {
     "iopub.execute_input": "2022-01-15T22:13:21.585858Z",
     "iopub.status.busy": "2022-01-15T22:13:21.584914Z",
     "iopub.status.idle": "2022-01-15T22:13:21.590615Z",
     "shell.execute_reply": "2022-01-15T22:13:21.591745Z"
    }
   },
   "outputs": [
    {
     "data": {
      "text/plain": [
       "(27,\n",
       " Index(['CoV1_S_Wuhan_IgA_week 7 and later / 3 months',\n",
       "        'CoV1_S_Wuhan_IgG_week 7 and later / 3 months',\n",
       "        'CoV1_S_Wuhan_IgM_week 7 and later / 3 months',\n",
       "        'HKU1_S_Wuhan_IgA_week 7 and later / 3 months',\n",
       "        'HKU1_S_Wuhan_IgG_week 7 and later / 3 months',\n",
       "        'HKU1_S_Wuhan_IgM_week 7 and later / 3 months',\n",
       "        'NL63_S_Wuhan_IgA_week 7 and later / 3 months',\n",
       "        'NL63_S_Wuhan_IgG_week 7 and later / 3 months',\n",
       "        'NL63_S_Wuhan_IgM_week 7 and later / 3 months',\n",
       "        'OC43_S_Wuhan_IgA_week 7 and later / 3 months',\n",
       "        'OC43_S_Wuhan_IgG_week 7 and later / 3 months',\n",
       "        'OC43_S_Wuhan_IgM_week 7 and later / 3 months',\n",
       "        'Wuhan_NTD_Wuhan_IgA_week 7 and later / 3 months',\n",
       "        'Wuhan_NTD_Wuhan_IgG_week 7 and later / 3 months',\n",
       "        'Wuhan_NTD_Wuhan_IgM_week 7 and later / 3 months',\n",
       "        'Wuhan_N_Wuhan_IgA_week 7 and later / 3 months',\n",
       "        'Wuhan_N_Wuhan_IgG_week 7 and later / 3 months',\n",
       "        'Wuhan_N_Wuhan_IgM_week 7 and later / 3 months',\n",
       "        'Wuhan_RBD_Wuhan_IgA_week 7 and later / 3 months',\n",
       "        'Wuhan_RBD_Wuhan_IgG_week 7 and later / 3 months',\n",
       "        'Wuhan_RBD_Wuhan_IgM_week 7 and later / 3 months',\n",
       "        'Wuhan_S_Wuhan_IgA_week 7 and later / 3 months',\n",
       "        'Wuhan_S_Wuhan_IgG_week 7 and later / 3 months',\n",
       "        'Wuhan_S_Wuhan_IgM_week 7 and later / 3 months',\n",
       "        'h229E_S_Wuhan_IgA_week 7 and later / 3 months',\n",
       "        'h229E_S_Wuhan_IgG_week 7 and later / 3 months',\n",
       "        'h229E_S_Wuhan_IgM_week 7 and later / 3 months'],\n",
       "       dtype='object', name='combined_name'))"
      ]
     },
     "execution_count": 1,
     "metadata": {},
     "output_type": "execute_result"
    }
   ],
   "source": [
    "var_names_different = adatas[\"infection_cohort1\"].var_names.difference(\n",
    "    adatas[\"Pfizer_vaccine\"].var_names\n",
    ")\n",
    "len(var_names_different), var_names_different"
   ]
  },
  {
   "cell_type": "code",
   "execution_count": 15,
   "metadata": {
    "execution": {
     "iopub.execute_input": "2022-01-15T22:13:21.600857Z",
     "iopub.status.busy": "2022-01-15T22:13:21.599332Z",
     "iopub.status.idle": "2022-01-15T22:13:21.604499Z",
     "shell.execute_reply": "2022-01-15T22:13:21.605991Z"
    }
   },
   "outputs": [
    {
     "data": {
      "text/plain": [
       "AnnData object with n_obs × n_vars = 158 × 189\n",
       "    obs: 'COVID Positive Ever?', 'Status', 'source_cohort', 'Death'\n",
       "    var: 'virus', 'target', 'variant_plate_type', 'antibody', 'timepoint'"
      ]
     },
     "execution_count": 1,
     "metadata": {},
     "output_type": "execute_result"
    }
   ],
   "source": [
    "adata_full"
   ]
  },
  {
   "cell_type": "code",
   "execution_count": 16,
   "metadata": {
    "execution": {
     "iopub.execute_input": "2022-01-15T22:13:21.620124Z",
     "iopub.status.busy": "2022-01-15T22:13:21.615676Z",
     "iopub.status.idle": "2022-01-15T22:13:21.625497Z",
     "shell.execute_reply": "2022-01-15T22:13:21.624132Z"
    }
   },
   "outputs": [
    {
     "data": {
      "text/plain": [
       "AnnData object with n_obs × n_vars = 158 × 135\n",
       "    obs: 'COVID Positive Ever?', 'Status', 'source_cohort', 'Death'\n",
       "    var: 'virus', 'target', 'variant_plate_type', 'antibody', 'timepoint'"
      ]
     },
     "execution_count": 1,
     "metadata": {},
     "output_type": "execute_result"
    }
   ],
   "source": [
    "# subset to columns in common\n",
    "adata_full = adata_full[:, var_names_in_common].copy()\n",
    "adata_full"
   ]
  },
  {
   "cell_type": "code",
   "execution_count": null,
   "metadata": {},
   "outputs": [],
   "source": []
  },
  {
   "cell_type": "code",
   "execution_count": null,
   "metadata": {},
   "outputs": [],
   "source": []
  },
  {
   "cell_type": "code",
   "execution_count": null,
   "metadata": {},
   "outputs": [],
   "source": []
  },
  {
   "cell_type": "code",
   "execution_count": 17,
   "metadata": {
    "execution": {
     "iopub.execute_input": "2022-01-15T22:13:21.633900Z",
     "iopub.status.busy": "2022-01-15T22:13:21.632808Z",
     "iopub.status.idle": "2022-01-15T22:13:21.636682Z",
     "shell.execute_reply": "2022-01-15T22:13:21.637561Z"
    }
   },
   "outputs": [],
   "source": [
    "assert not adata_full.obs_names.duplicated().any()"
   ]
  },
  {
   "cell_type": "code",
   "execution_count": 18,
   "metadata": {
    "execution": {
     "iopub.execute_input": "2022-01-15T22:13:21.647856Z",
     "iopub.status.busy": "2022-01-15T22:13:21.646485Z",
     "iopub.status.idle": "2022-01-15T22:13:21.650089Z",
     "shell.execute_reply": "2022-01-15T22:13:21.651579Z"
    }
   },
   "outputs": [],
   "source": [
    "assert not adata_full.obs[\"Status\"].isna().any()"
   ]
  },
  {
   "cell_type": "code",
   "execution_count": null,
   "metadata": {},
   "outputs": [],
   "source": []
  },
  {
   "cell_type": "code",
   "execution_count": 19,
   "metadata": {
    "execution": {
     "iopub.execute_input": "2022-01-15T22:13:21.662806Z",
     "iopub.status.busy": "2022-01-15T22:13:21.661327Z",
     "iopub.status.idle": "2022-01-15T22:13:21.666397Z",
     "shell.execute_reply": "2022-01-15T22:13:21.667906Z"
    }
   },
   "outputs": [
    {
     "data": {
      "text/plain": [
       "['day 0 / pre-pandemic',\n",
       " 'day 7 / week 1',\n",
       " 'day 21 / weeks 2&3',\n",
       " 'day 28 / week 4',\n",
       " 'day 42 / weeks 5&6']"
      ]
     },
     "execution_count": 1,
     "metadata": {},
     "output_type": "execute_result"
    }
   ],
   "source": [
    "adata_full.var[\"timepoint\"].unique().tolist()"
   ]
  },
  {
   "cell_type": "code",
   "execution_count": null,
   "metadata": {},
   "outputs": [],
   "source": []
  },
  {
   "cell_type": "code",
   "execution_count": null,
   "metadata": {},
   "outputs": [],
   "source": []
  },
  {
   "cell_type": "markdown",
   "metadata": {},
   "source": [
    "# Expand granularity of Status obs column, and add any other hue columns"
   ]
  },
  {
   "cell_type": "code",
   "execution_count": 20,
   "metadata": {
    "execution": {
     "iopub.execute_input": "2022-01-15T22:13:21.682691Z",
     "iopub.status.busy": "2022-01-15T22:13:21.681170Z",
     "iopub.status.idle": "2022-01-15T22:13:21.686335Z",
     "shell.execute_reply": "2022-01-15T22:13:21.687864Z"
    }
   },
   "outputs": [
    {
     "data": {
      "text/plain": [
       "Vaccinee      59\n",
       "Admit         40\n",
       "ICU           35\n",
       "Outpatient    24\n",
       "Name: Status, dtype: int64"
      ]
     },
     "execution_count": 1,
     "metadata": {},
     "output_type": "execute_result"
    }
   ],
   "source": [
    "adata_full.obs[\"Status\"].value_counts()"
   ]
  },
  {
   "cell_type": "code",
   "execution_count": 21,
   "metadata": {
    "execution": {
     "iopub.execute_input": "2022-01-15T22:13:21.698398Z",
     "iopub.status.busy": "2022-01-15T22:13:21.697200Z",
     "iopub.status.idle": "2022-01-15T22:13:21.700880Z",
     "shell.execute_reply": "2022-01-15T22:13:21.702342Z"
    }
   },
   "outputs": [],
   "source": [
    "adata_full.obs[\"Exposure\"] = adata_full.obs[\"Status\"].copy()"
   ]
  },
  {
   "cell_type": "code",
   "execution_count": 22,
   "metadata": {
    "execution": {
     "iopub.execute_input": "2022-01-15T22:13:21.722682Z",
     "iopub.status.busy": "2022-01-15T22:13:21.721176Z",
     "iopub.status.idle": "2022-01-15T22:13:21.726313Z",
     "shell.execute_reply": "2022-01-15T22:13:21.727810Z"
    }
   },
   "outputs": [
    {
     "data": {
      "text/plain": [
       "Vaccinee            55\n",
       "Admit               40\n",
       "ICU                 35\n",
       "Outpatient          24\n",
       "Vaccinee (CoV2+)     4\n",
       "Name: Exposure, dtype: int64"
      ]
     },
     "execution_count": 1,
     "metadata": {},
     "output_type": "execute_result"
    }
   ],
   "source": [
    "adata_full.obs.loc[\n",
    "    (adata_full.obs[\"Exposure\"] == \"Vaccinee\")\n",
    "    & (adata_full.obs[\"COVID Positive Ever?\"] != \"No\")\n",
    "    & ~(adata_full.obs[\"COVID Positive Ever?\"].isna()),\n",
    "    \"Exposure\",\n",
    "] = \"Vaccinee (CoV2+)\"\n",
    "adata_full.obs[\"Exposure\"].value_counts()"
   ]
  },
  {
   "cell_type": "code",
   "execution_count": 23,
   "metadata": {
    "execution": {
     "iopub.execute_input": "2022-01-15T22:13:21.744031Z",
     "iopub.status.busy": "2022-01-15T22:13:21.742485Z",
     "iopub.status.idle": "2022-01-15T22:13:21.747675Z",
     "shell.execute_reply": "2022-01-15T22:13:21.749145Z"
    }
   },
   "outputs": [
    {
     "data": {
      "text/plain": [
       "Vaccinee                        55\n",
       "Wuhan Infection - Admit         40\n",
       "Wuhan Infection - ICU           35\n",
       "Wuhan Infection - Outpatient    24\n",
       "Vaccinee (CoV2+)                 4\n",
       "Name: Exposure, dtype: int64"
      ]
     },
     "execution_count": 1,
     "metadata": {},
     "output_type": "execute_result"
    }
   ],
   "source": [
    "adata_full.obs[\"Exposure\"] = adata_full.obs[\"Exposure\"].replace(\n",
    "    {\n",
    "        \"Admit\": \"Wuhan Infection - Admit\",\n",
    "        \"ICU\": \"Wuhan Infection - ICU\",\n",
    "        \"Outpatient\": \"Wuhan Infection - Outpatient\",\n",
    "    }\n",
    ")\n",
    "adata_full.obs[\"Exposure\"].value_counts()"
   ]
  },
  {
   "cell_type": "code",
   "execution_count": 24,
   "metadata": {
    "execution": {
     "iopub.execute_input": "2022-01-15T22:13:21.763727Z",
     "iopub.status.busy": "2022-01-15T22:13:21.762183Z",
     "iopub.status.idle": "2022-01-15T22:13:21.767307Z",
     "shell.execute_reply": "2022-01-15T22:13:21.768832Z"
    }
   },
   "outputs": [
    {
     "data": {
      "text/plain": [
       "Pfizer-Pfizer (Stanford)           55\n",
       "Wuhan Infection - Admit            40\n",
       "Wuhan Infection - ICU              35\n",
       "Wuhan Infection - Outpatient       24\n",
       "Pfizer-Pfizer (Stanford), CoV2+     4\n",
       "Name: Exposure, dtype: int64"
      ]
     },
     "execution_count": 1,
     "metadata": {},
     "output_type": "execute_result"
    }
   ],
   "source": [
    "adata_full.obs[\"Exposure\"] = adata_full.obs[\"Exposure\"].replace(\n",
    "    {\n",
    "        \"Vaccinee\": \"Pfizer-Pfizer (Stanford)\",\n",
    "        \"Vaccinee (CoV2+)\": \"Pfizer-Pfizer (Stanford), CoV2+\",\n",
    "    }\n",
    ")\n",
    "adata_full.obs[\"Exposure\"].value_counts()"
   ]
  },
  {
   "cell_type": "code",
   "execution_count": null,
   "metadata": {},
   "outputs": [],
   "source": []
  },
  {
   "cell_type": "code",
   "execution_count": null,
   "metadata": {},
   "outputs": [],
   "source": []
  },
  {
   "cell_type": "code",
   "execution_count": 25,
   "metadata": {
    "execution": {
     "iopub.execute_input": "2022-01-15T22:13:21.785843Z",
     "iopub.status.busy": "2022-01-15T22:13:21.784334Z",
     "iopub.status.idle": "2022-01-15T22:13:21.789428Z",
     "shell.execute_reply": "2022-01-15T22:13:21.790919Z"
    },
    "lines_to_next_cell": 2
   },
   "outputs": [
    {
     "data": {
      "text/plain": [
       "Infection                          99\n",
       "Pfizer-Pfizer (Stanford)           55\n",
       "Pfizer-Pfizer (Stanford), CoV2+     4\n",
       "Name: Exposure Type, dtype: int64"
      ]
     },
     "execution_count": 1,
     "metadata": {},
     "output_type": "execute_result"
    }
   ],
   "source": [
    "patient_types = [\n",
    "    \"Wuhan Infection - Admit\",\n",
    "    \"Wuhan Infection - ICU\",\n",
    "    \"Wuhan Infection - Outpatient\",\n",
    "]\n",
    "adata_full.obs[\"Exposure Type\"] = adata_full.obs[\"Exposure\"].replace(\n",
    "    {k: \"Infection\" for k in patient_types}\n",
    ")\n",
    "adata_full.obs[\"Exposure Type\"].value_counts()"
   ]
  },
  {
   "cell_type": "code",
   "execution_count": null,
   "metadata": {},
   "outputs": [],
   "source": []
  },
  {
   "cell_type": "markdown",
   "metadata": {},
   "source": [
    "# Export"
   ]
  },
  {
   "cell_type": "code",
   "execution_count": 26,
   "metadata": {
    "execution": {
     "iopub.execute_input": "2022-01-15T22:13:21.802983Z",
     "iopub.status.busy": "2022-01-15T22:13:21.801485Z",
     "iopub.status.idle": "2022-01-15T22:13:21.875308Z",
     "shell.execute_reply": "2022-01-15T22:13:21.876543Z"
    }
   },
   "outputs": [
    {
     "name": "stderr",
     "output_type": "stream",
     "text": [
      "... storing 'COVID Positive Ever?' as categorical\n"
     ]
    },
    {
     "name": "stderr",
     "output_type": "stream",
     "text": [
      "... storing 'Status' as categorical\n"
     ]
    },
    {
     "name": "stderr",
     "output_type": "stream",
     "text": [
      "... storing 'source_cohort' as categorical\n"
     ]
    },
    {
     "name": "stderr",
     "output_type": "stream",
     "text": [
      "... storing 'Exposure' as categorical\n"
     ]
    },
    {
     "name": "stderr",
     "output_type": "stream",
     "text": [
      "... storing 'Exposure Type' as categorical\n"
     ]
    },
    {
     "name": "stderr",
     "output_type": "stream",
     "text": [
      "... storing 'virus' as categorical\n"
     ]
    },
    {
     "name": "stderr",
     "output_type": "stream",
     "text": [
      "... storing 'target' as categorical\n"
     ]
    },
    {
     "name": "stderr",
     "output_type": "stream",
     "text": [
      "... storing 'variant_plate_type' as categorical\n"
     ]
    },
    {
     "name": "stderr",
     "output_type": "stream",
     "text": [
      "... storing 'antibody' as categorical\n"
     ]
    },
    {
     "name": "stderr",
     "output_type": "stream",
     "text": [
      "... storing 'timepoint' as categorical\n"
     ]
    }
   ],
   "source": [
    "adata_full.write(f\"{config.paths.generated_data_dir}/coronavirus_plate_only.subset.h5\")"
   ]
  },
  {
   "cell_type": "code",
   "execution_count": null,
   "metadata": {},
   "outputs": [],
   "source": []
  }
 ],
 "metadata": {
  "jupytext": {
   "cell_metadata_filter": "-all",
   "notebook_metadata_filter": "-all"
  },
  "kernelspec": {
   "display_name": "py37-serology-env",
   "language": "python",
   "name": "py37-serology-env"
  },
  "language_info": {
   "codemirror_mode": {
    "name": "ipython",
    "version": 3
   },
   "file_extension": ".py",
   "mimetype": "text/x-python",
   "name": "python",
   "nbconvert_exporter": "python",
   "pygments_lexer": "ipython3",
   "version": "3.7.10"
  }
 },
 "nbformat": 4,
 "nbformat_minor": 4
}
