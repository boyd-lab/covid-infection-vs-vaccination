{
 "cells": [
  {
   "cell_type": "code",
   "execution_count": null,
   "metadata": {},
   "outputs": [],
   "source": []
  },
  {
   "cell_type": "code",
   "execution_count": 1,
   "metadata": {
    "execution": {
     "iopub.execute_input": "2022-01-15T22:14:20.844175Z",
     "iopub.status.busy": "2022-01-15T22:14:20.842376Z",
     "iopub.status.idle": "2022-01-15T22:14:21.691728Z",
     "shell.execute_reply": "2022-01-15T22:14:21.693022Z"
    },
    "lines_to_next_cell": 1
   },
   "outputs": [],
   "source": [
    "from summarynb import show\n",
    "from IPython.display import display, Markdown\n",
    "from covid_serology import config\n",
    "from slugify import slugify"
   ]
  },
  {
   "cell_type": "code",
   "execution_count": 2,
   "metadata": {
    "execution": {
     "iopub.execute_input": "2022-01-15T22:14:21.704540Z",
     "iopub.status.busy": "2022-01-15T22:14:21.702757Z",
     "iopub.status.idle": "2022-01-15T22:14:21.706828Z",
     "shell.execute_reply": "2022-01-15T22:14:21.708101Z"
    }
   },
   "outputs": [],
   "source": [
    "def summary(plot_name, hue_name, full=True):\n",
    "    display(Markdown(f\"## Scatterplot colored by {hue_name}\"))\n",
    "    show(\n",
    "        f\"{config.paths.output_dir}/{slugify(plot_name)}.pca.{slugify(hue_name)}.png\",\n",
    "        max_width=2000,\n",
    "    )\n",
    "\n",
    "    if full:\n",
    "        # Don't stop early after just plotting the main hue_name's scatterplot\n",
    "        display(Markdown(f\"### Distance from centroid of each {hue_name} group\"))\n",
    "        for (use_rep, description) in zip(\n",
    "            [\"X\", \"X_pca\"], [\"raw data\", \"PCA (relative to reference timepoint)\"]\n",
    "        ):\n",
    "            display(Markdown(f\"#### In {description} space\"))\n",
    "            show(\n",
    "                f\"{config.paths.output_dir}/{slugify(plot_name)}.distance_from_centroid.{slugify(hue_name)}.{use_rep}.png\",\n",
    "                max_width=2000,\n",
    "            )"
   ]
  },
  {
   "cell_type": "code",
   "execution_count": null,
   "metadata": {},
   "outputs": [],
   "source": []
  },
  {
   "cell_type": "markdown",
   "metadata": {},
   "source": [
    "# PCA colored by Exposure\n",
    "\n",
    "To characterize how spread out each group is, we also find each group’s centroid and plot the distribution of distances from all points in that group to their centroid. We measure the distance in raw data space and in PC1-PC2 space. Note that the PC space is created relative to a reference timepoint, while distances in raw data space in any timepoint are independent of other timepoints.\n"
   ]
  },
  {
   "cell_type": "code",
   "execution_count": null,
   "metadata": {},
   "outputs": [],
   "source": []
  },
  {
   "cell_type": "markdown",
   "metadata": {},
   "source": [
    "# Fig2C-D: CoV2 antigens (IgM, IgG, IgA) except N antigen"
   ]
  },
  {
   "cell_type": "code",
   "execution_count": 3,
   "metadata": {
    "execution": {
     "iopub.execute_input": "2022-01-15T22:14:21.730727Z",
     "iopub.status.busy": "2022-01-15T22:14:21.729210Z",
     "iopub.status.idle": "2022-01-15T22:14:21.749039Z",
     "shell.execute_reply": "2022-01-15T22:14:21.749973Z"
    }
   },
   "outputs": [
    {
     "data": {
      "text/markdown": [
       "## Scatterplot colored by Exposure Type"
      ],
      "text/plain": [
       "<IPython.core.display.Markdown object>"
      ]
     },
     "metadata": {},
     "output_type": "display_data"
    },
    {
     "data": {
      "text/html": [
       "<table><tr><td style=\"text-align: center\"><img src=\"../out/cov2-all-except-n.pca.exposure-type.png\" style=\"max-width: 2000px; max-height: 800px;\" /></td></tr></table>"
      ],
      "text/plain": [
       "<IPython.core.display.HTML object>"
      ]
     },
     "metadata": {},
     "output_type": "display_data"
    },
    {
     "data": {
      "text/markdown": [
       "## Scatterplot colored by Exposure"
      ],
      "text/plain": [
       "<IPython.core.display.Markdown object>"
      ]
     },
     "metadata": {},
     "output_type": "display_data"
    },
    {
     "data": {
      "text/html": [
       "<table><tr><td style=\"text-align: center\"><img src=\"../out/cov2-all-except-n.pca.exposure.png\" style=\"max-width: 2000px; max-height: 800px;\" /></td></tr></table>"
      ],
      "text/plain": [
       "<IPython.core.display.HTML object>"
      ]
     },
     "metadata": {},
     "output_type": "display_data"
    },
    {
     "data": {
      "text/markdown": [
       "### Distance from centroid of each Exposure group"
      ],
      "text/plain": [
       "<IPython.core.display.Markdown object>"
      ]
     },
     "metadata": {},
     "output_type": "display_data"
    },
    {
     "data": {
      "text/markdown": [
       "#### In raw data space"
      ],
      "text/plain": [
       "<IPython.core.display.Markdown object>"
      ]
     },
     "metadata": {},
     "output_type": "display_data"
    },
    {
     "data": {
      "text/html": [
       "<table><tr><td style=\"text-align: center\"><img src=\"../out/cov2-all-except-n.distance_from_centroid.exposure.X.png\" style=\"max-width: 2000px; max-height: 800px;\" /></td></tr></table>"
      ],
      "text/plain": [
       "<IPython.core.display.HTML object>"
      ]
     },
     "metadata": {},
     "output_type": "display_data"
    },
    {
     "data": {
      "text/markdown": [
       "#### In PCA (relative to reference timepoint) space"
      ],
      "text/plain": [
       "<IPython.core.display.Markdown object>"
      ]
     },
     "metadata": {},
     "output_type": "display_data"
    },
    {
     "data": {
      "text/html": [
       "<table><tr><td style=\"text-align: center\"><img src=\"../out/cov2-all-except-n.distance_from_centroid.exposure.X_pca.png\" style=\"max-width: 2000px; max-height: 800px;\" /></td></tr></table>"
      ],
      "text/plain": [
       "<IPython.core.display.HTML object>"
      ]
     },
     "metadata": {},
     "output_type": "display_data"
    }
   ],
   "source": [
    "# Include Exposure Type in summary so you can see what the groups are\n",
    "summary(\"cov2-all-except-n\", \"Exposure Type\", full=False)\n",
    "\n",
    "summary(\"cov2-all-except-n\", \"Exposure\")"
   ]
  },
  {
   "cell_type": "code",
   "execution_count": null,
   "metadata": {},
   "outputs": [],
   "source": []
  },
  {
   "cell_type": "code",
   "execution_count": null,
   "metadata": {},
   "outputs": [],
   "source": []
  },
  {
   "cell_type": "markdown",
   "metadata": {
    "tags": []
   },
   "source": [
    "---\n",
    "\n",
    "# Fig S5B: Time course PCA of variant ratios for `infection_cohort2` patients and Pfizer vaccinees AND variant infections\n",
    "NOTE: this variant infections PCA plot does not include breakthrough infections (i.e. post-vax)\n",
    "at each timepoint, only choose subjects who don't violate any p11 cutoffs at that timepoint."
   ]
  },
  {
   "cell_type": "code",
   "execution_count": 4,
   "metadata": {
    "execution": {
     "iopub.execute_input": "2022-01-15T22:14:21.758936Z",
     "iopub.status.busy": "2022-01-15T22:14:21.758276Z",
     "iopub.status.idle": "2022-01-15T22:14:21.785458Z",
     "shell.execute_reply": "2022-01-15T22:14:21.784485Z"
    }
   },
   "outputs": [
    {
     "data": {
      "text/markdown": [
       "## Scatterplot colored by Exposure Type"
      ],
      "text/plain": [
       "<IPython.core.display.Markdown object>"
      ]
     },
     "metadata": {},
     "output_type": "display_data"
    },
    {
     "data": {
      "text/html": [
       "<table><tr><td style=\"text-align: center\"><img src=\"../out/variants-with-variant-infections.pca.exposure-type.png\" style=\"max-width: 2000px; max-height: 800px;\" /></td></tr></table>"
      ],
      "text/plain": [
       "<IPython.core.display.HTML object>"
      ]
     },
     "metadata": {},
     "output_type": "display_data"
    },
    {
     "data": {
      "text/markdown": [
       "## Scatterplot colored by Exposure"
      ],
      "text/plain": [
       "<IPython.core.display.Markdown object>"
      ]
     },
     "metadata": {},
     "output_type": "display_data"
    },
    {
     "data": {
      "text/html": [
       "<table><tr><td style=\"text-align: center\"><img src=\"../out/variants-with-variant-infections.pca.exposure.png\" style=\"max-width: 2000px; max-height: 800px;\" /></td></tr></table>"
      ],
      "text/plain": [
       "<IPython.core.display.HTML object>"
      ]
     },
     "metadata": {},
     "output_type": "display_data"
    },
    {
     "data": {
      "text/markdown": [
       "### Distance from centroid of each Exposure group"
      ],
      "text/plain": [
       "<IPython.core.display.Markdown object>"
      ]
     },
     "metadata": {},
     "output_type": "display_data"
    },
    {
     "data": {
      "text/markdown": [
       "#### In raw data space"
      ],
      "text/plain": [
       "<IPython.core.display.Markdown object>"
      ]
     },
     "metadata": {},
     "output_type": "display_data"
    },
    {
     "data": {
      "text/html": [
       "<table><tr><td style=\"text-align: center\"><img src=\"../out/variants-with-variant-infections.distance_from_centroid.exposure.X.png\" style=\"max-width: 2000px; max-height: 800px;\" /></td></tr></table>"
      ],
      "text/plain": [
       "<IPython.core.display.HTML object>"
      ]
     },
     "metadata": {},
     "output_type": "display_data"
    },
    {
     "data": {
      "text/markdown": [
       "#### In PCA (relative to reference timepoint) space"
      ],
      "text/plain": [
       "<IPython.core.display.Markdown object>"
      ]
     },
     "metadata": {},
     "output_type": "display_data"
    },
    {
     "data": {
      "text/html": [
       "<table><tr><td style=\"text-align: center\"><img src=\"../out/variants-with-variant-infections.distance_from_centroid.exposure.X_pca.png\" style=\"max-width: 2000px; max-height: 800px;\" /></td></tr></table>"
      ],
      "text/plain": [
       "<IPython.core.display.HTML object>"
      ]
     },
     "metadata": {},
     "output_type": "display_data"
    }
   ],
   "source": [
    "# Include Exposure Type in summary so you can see what the groups are\n",
    "summary(\"variants-with-variant-infections\", \"Exposure Type\", full=False)\n",
    "\n",
    "summary(\"variants-with-variant-infections\", \"Exposure\")"
   ]
  },
  {
   "cell_type": "markdown",
   "metadata": {},
   "source": [
    "---\n",
    "\n",
    "# Day 90 variant ratios for `infection_cohort2` patients, Pfizer vaccinees, Mongolia vaccinees. Without vaccinees who are CoV2+"
   ]
  },
  {
   "cell_type": "code",
   "execution_count": 5,
   "metadata": {
    "execution": {
     "iopub.execute_input": "2022-01-15T22:14:21.793501Z",
     "iopub.status.busy": "2022-01-15T22:14:21.792532Z",
     "iopub.status.idle": "2022-01-15T22:14:21.797919Z",
     "shell.execute_reply": "2022-01-15T22:14:21.798807Z"
    }
   },
   "outputs": [
    {
     "data": {
      "text/html": [
       "<table><tr><td style=\"text-align: center\"><img src=\"../out/variant-ratios-all-groups-day90-week-7-and-later-3-months-exposure-type.pca.png\" style=\"max-width: 2000px; max-height: 800px;\" /></td></tr></table>"
      ],
      "text/plain": [
       "<IPython.core.display.HTML object>"
      ]
     },
     "metadata": {},
     "output_type": "display_data"
    }
   ],
   "source": [
    "show(\n",
    "    f\"{config.paths.output_dir}/variant-ratios-all-groups-day90-week-7-and-later-3-months-exposure-type.pca.png\",\n",
    "    max_width=2000,\n",
    ")"
   ]
  },
  {
   "cell_type": "markdown",
   "metadata": {},
   "source": [
    "---\n",
    "\n",
    "# Fig 5B: Imprinting index\n",
    "Below are the preference/imprinting levels for:\n",
    "\n",
    "- Delta infected\n",
    "- Wuhan vaccinated\n",
    "- Wuhan vaccinated then Delta infected"
   ]
  },
  {
   "cell_type": "code",
   "execution_count": 6,
   "metadata": {
    "execution": {
     "iopub.execute_input": "2022-01-15T22:14:21.807872Z",
     "iopub.status.busy": "2022-01-15T22:14:21.806743Z",
     "iopub.status.idle": "2022-01-15T22:14:21.812693Z",
     "shell.execute_reply": "2022-01-15T22:14:21.813613Z"
    }
   },
   "outputs": [
    {
     "data": {
      "text/html": [
       "<table><tr><td style=\"text-align: center\"><img src=\"../out/imprinting_level.log_rescaled_ratios.png\" style=\"max-width: 800px; max-height: 800px;\" /></td></tr></table>"
      ],
      "text/plain": [
       "<IPython.core.display.HTML object>"
      ]
     },
     "metadata": {},
     "output_type": "display_data"
    }
   ],
   "source": [
    "show(f\"{config.paths.output_dir}/imprinting_level.log_rescaled_ratios.png\")"
   ]
  },
  {
   "cell_type": "markdown",
   "metadata": {},
   "source": [
    "#### Preliminary: Plot raw data, Wuhan vs variant\n",
    "The $y=x$ dotted line indicates Wuhan/variant ratios of 1. Above the line means ratio < 1, and below the line means ratio > 1."
   ]
  },
  {
   "cell_type": "code",
   "execution_count": 7,
   "metadata": {
    "execution": {
     "iopub.execute_input": "2022-01-15T22:14:21.823869Z",
     "iopub.status.busy": "2022-01-15T22:14:21.822509Z",
     "iopub.status.idle": "2022-01-15T22:14:21.827731Z",
     "shell.execute_reply": "2022-01-15T22:14:21.829256Z"
    }
   },
   "outputs": [
    {
     "data": {
      "text/html": [
       "<table><tr><th style=\"text-align: center\">Raw values</th></tr><tr><td style=\"text-align: center\"><img src=\"../out/imprinting_level.raw_values.infected-with-delta.png\" style=\"max-width: 800px; max-height: 800px;\" /></td>\n",
       "<td style=\"text-align: center\"><img src=\"../out/imprinting_level.raw_values.vaccinated-against-wuhan-infected-with-delta.png\" style=\"max-width: 800px; max-height: 800px;\" /></td>\n",
       "<td style=\"text-align: center\"><img src=\"../out/imprinting_level.raw_values.vaccinated-against-wuhan.png\" style=\"max-width: 800px; max-height: 800px;\" /></td></tr></table>"
      ],
      "text/plain": [
       "<IPython.core.display.HTML object>"
      ]
     },
     "metadata": {},
     "output_type": "display_data"
    }
   ],
   "source": [
    "# show(\n",
    "#     f\"{config.paths.output_dir}/imprinting_level.raw_values.png\",\n",
    "#     headers=[\"Raw values\"],\n",
    "#     max_width=2000,\n",
    "# )\n",
    "show(\n",
    "    [\n",
    "        f\"{config.paths.output_dir}/imprinting_level.raw_values.{slugify(status)}.png\"\n",
    "        for status in [\n",
    "            \"Infected with Delta\",\n",
    "            \"Vaccinated against Wuhan + Infected with Delta\",\n",
    "            \"Vaccinated against Wuhan\",\n",
    "        ]\n",
    "    ],\n",
    "    headers=[\"Raw values\"],\n",
    ")"
   ]
  },
  {
   "cell_type": "code",
   "execution_count": null,
   "metadata": {},
   "outputs": [],
   "source": []
  },
  {
   "cell_type": "markdown",
   "metadata": {},
   "source": [
    "#### Plot ratios and transformed ratios\n",
    "The dotted lines indicate where Wuhan/variant preference is even (i.e. raw ratio = 1 or log ratio = 0)"
   ]
  },
  {
   "cell_type": "code",
   "execution_count": 8,
   "metadata": {
    "execution": {
     "iopub.execute_input": "2022-01-15T22:14:21.841618Z",
     "iopub.status.busy": "2022-01-15T22:14:21.840369Z",
     "iopub.status.idle": "2022-01-15T22:14:21.847492Z",
     "shell.execute_reply": "2022-01-15T22:14:21.845816Z"
    }
   },
   "outputs": [
    {
     "data": {
      "text/html": [
       "<table><tr><th style=\"text-align: center\">Raw ratios</th>\n",
       "<th style=\"text-align: center\">Log transformed ratios</th>\n",
       "<th style=\"text-align: center\">Log transformed and rescaled ratios (imprinting amounts)</th>\n",
       "<th style=\"text-align: center\">Distribution of log transformed and rescaled ratios (imprinting amounts)</th></tr><tr><td style=\"text-align: center\"><img src=\"../out/imprinting_level.raw_ratios.png\" style=\"max-width: 800px; max-height: 800px;\" /></td>\n",
       "<td style=\"text-align: center\"><img src=\"../out/imprinting_level.log_ratios.png\" style=\"max-width: 800px; max-height: 800px;\" /></td>\n",
       "<td style=\"text-align: center\"><img src=\"../out/imprinting_level.log_rescaled_ratios.png\" style=\"max-width: 800px; max-height: 800px;\" /></td>\n",
       "<td style=\"text-align: center\"><img src=\"../out/imprinting_level.log_rescaled_ratios.densities.stacked.png\" style=\"max-width: 800px; max-height: 800px;\" /></td></tr></table>"
      ],
      "text/plain": [
       "<IPython.core.display.HTML object>"
      ]
     },
     "metadata": {},
     "output_type": "display_data"
    }
   ],
   "source": [
    "show(\n",
    "    [\n",
    "        f\"{config.paths.output_dir}/imprinting_level.raw_ratios.png\",\n",
    "        f\"{config.paths.output_dir}/imprinting_level.log_ratios.png\",\n",
    "        f\"{config.paths.output_dir}/imprinting_level.log_rescaled_ratios.png\",\n",
    "        f\"{config.paths.output_dir}/imprinting_level.log_rescaled_ratios.densities.stacked.png\",\n",
    "    ],\n",
    "    headers=[\n",
    "        \"Raw ratios\",\n",
    "        \"Log transformed ratios\",\n",
    "        \"Log transformed and rescaled ratios (imprinting amounts)\",\n",
    "        \"Distribution of log transformed and rescaled ratios (imprinting amounts)\",\n",
    "    ],\n",
    ")"
   ]
  },
  {
   "cell_type": "code",
   "execution_count": null,
   "metadata": {},
   "outputs": [],
   "source": []
  }
 ],
 "metadata": {
  "jupytext": {
   "cell_metadata_filter": "-all",
   "notebook_metadata_filter": "-all"
  },
  "kernelspec": {
   "display_name": "py37-serology-env",
   "language": "python",
   "name": "py37-serology-env"
  },
  "language_info": {
   "codemirror_mode": {
    "name": "ipython",
    "version": 3
   },
   "file_extension": ".py",
   "mimetype": "text/x-python",
   "name": "python",
   "nbconvert_exporter": "python",
   "pygments_lexer": "ipython3",
   "version": "3.7.10"
  }
 },
 "nbformat": 4,
 "nbformat_minor": 4
}
